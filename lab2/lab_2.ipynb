{
 "cells": [
  {
   "cell_type": "markdown",
   "id": "actual-mercury",
   "metadata": {},
   "source": [
    "# Лабораторная работа 2"
   ]
  },
  {
   "cell_type": "markdown",
   "id": "allied-violation",
   "metadata": {},
   "source": [
    "Проверка GPU:"
   ]
  },
  {
   "cell_type": "code",
   "execution_count": 1,
   "id": "static-feature",
   "metadata": {},
   "outputs": [
    {
     "name": "stdout",
     "output_type": "stream",
     "text": [
      "[name: \"/device:CPU:0\"\n",
      "device_type: \"CPU\"\n",
      "memory_limit: 268435456\n",
      "locality {\n",
      "}\n",
      "incarnation: 129355985603096277\n",
      ", name: \"/device:GPU:0\"\n",
      "device_type: \"GPU\"\n",
      "memory_limit: 3412000768\n",
      "locality {\n",
      "  bus_id: 1\n",
      "  links {\n",
      "  }\n",
      "}\n",
      "incarnation: 10498004134139785763\n",
      "physical_device_desc: \"device: 0, name: GeForce GTX 970, pci bus id: 0000:01:00.0, compute capability: 5.2\"\n",
      "]\n"
     ]
    }
   ],
   "source": [
    "from tensorflow.python.client import device_lib\n",
    "devices = device_lib.list_local_devices()\n",
    "print(devices)"
   ]
  },
  {
   "cell_type": "markdown",
   "id": "victorian-heart",
   "metadata": {},
   "source": [
    "## Задание 1"
   ]
  },
  {
   "cell_type": "markdown",
   "id": "quarterly-swimming",
   "metadata": {},
   "source": [
    "Импорт библиотек"
   ]
  },
  {
   "cell_type": "code",
   "execution_count": 2,
   "id": "interpreted-vector",
   "metadata": {},
   "outputs": [],
   "source": [
    "import keras\n",
    "from keras.applications import MobileNet\n",
    "from keras.applications.mobilenet import preprocess_input\n",
    "from keras.preprocessing.image import ImageDataGenerator"
   ]
  },
  {
   "cell_type": "markdown",
   "id": "informational-sequence",
   "metadata": {},
   "source": [
    "Инициализация генератора"
   ]
  },
  {
   "cell_type": "code",
   "execution_count": 3,
   "id": "wanted-ideal",
   "metadata": {},
   "outputs": [
    {
     "name": "stdout",
     "output_type": "stream",
     "text": [
      "Found 14034 images belonging to 6 classes.\n"
     ]
    }
   ],
   "source": [
    "train_datagen = ImageDataGenerator(preprocessing_function=preprocess_input)\n",
    "train_generator = train_datagen.flow_from_directory(\n",
    "    './natural-scenes/seg_train/seg_train',\n",
    "    target_size=(150, 150), # размер итоговых изображений\n",
    "    color_mode='rgb', # (альтернатива greyscale)\n",
    "    batch_size=32, # генерируется за один проход\n",
    "    class_mode='categorical', # режим множественной классификации\n",
    "    shuffle=True\n",
    ")"
   ]
  },
  {
   "cell_type": "code",
   "execution_count": 4,
   "id": "choice-environment",
   "metadata": {},
   "outputs": [
    {
     "name": "stdout",
     "output_type": "stream",
     "text": [
      "Found 3000 images belonging to 6 classes.\n"
     ]
    }
   ],
   "source": [
    "valid_datagen = ImageDataGenerator(preprocessing_function=preprocess_input)\n",
    "valid_generator = valid_datagen.flow_from_directory(\n",
    "    './natural-scenes/seg_test/seg_test',\n",
    "    target_size=(150, 150), # размер итоговых изображений\n",
    "    color_mode='rgb', # (альтернатива greyscale)\n",
    "    batch_size=32, # генерируется за один проход\n",
    "    class_mode='categorical', # режим множественной классификации\n",
    "    shuffle=True\n",
    ")"
   ]
  },
  {
   "cell_type": "code",
   "execution_count": 5,
   "id": "anticipated-ghost",
   "metadata": {},
   "outputs": [],
   "source": [
    "NUM_OF_CLASSES = 6"
   ]
  },
  {
   "cell_type": "markdown",
   "id": "elder-natural",
   "metadata": {},
   "source": [
    "### 1.3"
   ]
  },
  {
   "cell_type": "markdown",
   "id": "capital-robinson",
   "metadata": {},
   "source": [
    "> Добавить dropout"
   ]
  },
  {
   "cell_type": "code",
   "execution_count": 48,
   "id": "protected-cherry",
   "metadata": {},
   "outputs": [
    {
     "name": "stdout",
     "output_type": "stream",
     "text": [
      "WARNING:tensorflow:`input_shape` is undefined or non-square, or `rows` is not in [128, 160, 192, 224]. Weights for input shape (224, 224) will be loaded as the default.\n",
      "Model: \"model_3\"\n",
      "_________________________________________________________________\n",
      "Layer (type)                 Output Shape              Param #   \n",
      "=================================================================\n",
      "input_4 (InputLayer)         [(None, 150, 150, 3)]     0         \n",
      "_________________________________________________________________\n",
      "conv1 (Conv2D)               (None, 75, 75, 32)        864       \n",
      "_________________________________________________________________\n",
      "conv1_bn (BatchNormalization (None, 75, 75, 32)        128       \n",
      "_________________________________________________________________\n",
      "conv1_relu (ReLU)            (None, 75, 75, 32)        0         \n",
      "_________________________________________________________________\n",
      "conv_dw_1 (DepthwiseConv2D)  (None, 75, 75, 32)        288       \n",
      "_________________________________________________________________\n",
      "conv_dw_1_bn (BatchNormaliza (None, 75, 75, 32)        128       \n",
      "_________________________________________________________________\n",
      "conv_dw_1_relu (ReLU)        (None, 75, 75, 32)        0         \n",
      "_________________________________________________________________\n",
      "conv_pw_1 (Conv2D)           (None, 75, 75, 64)        2048      \n",
      "_________________________________________________________________\n",
      "conv_pw_1_bn (BatchNormaliza (None, 75, 75, 64)        256       \n",
      "_________________________________________________________________\n",
      "conv_pw_1_relu (ReLU)        (None, 75, 75, 64)        0         \n",
      "_________________________________________________________________\n",
      "conv_pad_2 (ZeroPadding2D)   (None, 76, 76, 64)        0         \n",
      "_________________________________________________________________\n",
      "conv_dw_2 (DepthwiseConv2D)  (None, 37, 37, 64)        576       \n",
      "_________________________________________________________________\n",
      "conv_dw_2_bn (BatchNormaliza (None, 37, 37, 64)        256       \n",
      "_________________________________________________________________\n",
      "conv_dw_2_relu (ReLU)        (None, 37, 37, 64)        0         \n",
      "_________________________________________________________________\n",
      "conv_pw_2 (Conv2D)           (None, 37, 37, 128)       8192      \n",
      "_________________________________________________________________\n",
      "conv_pw_2_bn (BatchNormaliza (None, 37, 37, 128)       512       \n",
      "_________________________________________________________________\n",
      "conv_pw_2_relu (ReLU)        (None, 37, 37, 128)       0         \n",
      "_________________________________________________________________\n",
      "conv_dw_3 (DepthwiseConv2D)  (None, 37, 37, 128)       1152      \n",
      "_________________________________________________________________\n",
      "conv_dw_3_bn (BatchNormaliza (None, 37, 37, 128)       512       \n",
      "_________________________________________________________________\n",
      "conv_dw_3_relu (ReLU)        (None, 37, 37, 128)       0         \n",
      "_________________________________________________________________\n",
      "conv_pw_3 (Conv2D)           (None, 37, 37, 128)       16384     \n",
      "_________________________________________________________________\n",
      "conv_pw_3_bn (BatchNormaliza (None, 37, 37, 128)       512       \n",
      "_________________________________________________________________\n",
      "conv_pw_3_relu (ReLU)        (None, 37, 37, 128)       0         \n",
      "_________________________________________________________________\n",
      "conv_pad_4 (ZeroPadding2D)   (None, 38, 38, 128)       0         \n",
      "_________________________________________________________________\n",
      "conv_dw_4 (DepthwiseConv2D)  (None, 18, 18, 128)       1152      \n",
      "_________________________________________________________________\n",
      "conv_dw_4_bn (BatchNormaliza (None, 18, 18, 128)       512       \n",
      "_________________________________________________________________\n",
      "conv_dw_4_relu (ReLU)        (None, 18, 18, 128)       0         \n",
      "_________________________________________________________________\n",
      "conv_pw_4 (Conv2D)           (None, 18, 18, 256)       32768     \n",
      "_________________________________________________________________\n",
      "conv_pw_4_bn (BatchNormaliza (None, 18, 18, 256)       1024      \n",
      "_________________________________________________________________\n",
      "conv_pw_4_relu (ReLU)        (None, 18, 18, 256)       0         \n",
      "_________________________________________________________________\n",
      "conv_dw_5 (DepthwiseConv2D)  (None, 18, 18, 256)       2304      \n",
      "_________________________________________________________________\n",
      "conv_dw_5_bn (BatchNormaliza (None, 18, 18, 256)       1024      \n",
      "_________________________________________________________________\n",
      "conv_dw_5_relu (ReLU)        (None, 18, 18, 256)       0         \n",
      "_________________________________________________________________\n",
      "conv_pw_5 (Conv2D)           (None, 18, 18, 256)       65536     \n",
      "_________________________________________________________________\n",
      "conv_pw_5_bn (BatchNormaliza (None, 18, 18, 256)       1024      \n",
      "_________________________________________________________________\n",
      "conv_pw_5_relu (ReLU)        (None, 18, 18, 256)       0         \n",
      "_________________________________________________________________\n",
      "conv_pad_6 (ZeroPadding2D)   (None, 19, 19, 256)       0         \n",
      "_________________________________________________________________\n",
      "conv_dw_6 (DepthwiseConv2D)  (None, 9, 9, 256)         2304      \n",
      "_________________________________________________________________\n",
      "conv_dw_6_bn (BatchNormaliza (None, 9, 9, 256)         1024      \n",
      "_________________________________________________________________\n",
      "conv_dw_6_relu (ReLU)        (None, 9, 9, 256)         0         \n",
      "_________________________________________________________________\n",
      "conv_pw_6 (Conv2D)           (None, 9, 9, 512)         131072    \n",
      "_________________________________________________________________\n",
      "conv_pw_6_bn (BatchNormaliza (None, 9, 9, 512)         2048      \n",
      "_________________________________________________________________\n",
      "conv_pw_6_relu (ReLU)        (None, 9, 9, 512)         0         \n",
      "_________________________________________________________________\n",
      "conv_dw_7 (DepthwiseConv2D)  (None, 9, 9, 512)         4608      \n",
      "_________________________________________________________________\n",
      "conv_dw_7_bn (BatchNormaliza (None, 9, 9, 512)         2048      \n",
      "_________________________________________________________________\n",
      "conv_dw_7_relu (ReLU)        (None, 9, 9, 512)         0         \n",
      "_________________________________________________________________\n",
      "conv_pw_7 (Conv2D)           (None, 9, 9, 512)         262144    \n",
      "_________________________________________________________________\n",
      "conv_pw_7_bn (BatchNormaliza (None, 9, 9, 512)         2048      \n",
      "_________________________________________________________________\n",
      "conv_pw_7_relu (ReLU)        (None, 9, 9, 512)         0         \n",
      "_________________________________________________________________\n",
      "conv_dw_8 (DepthwiseConv2D)  (None, 9, 9, 512)         4608      \n",
      "_________________________________________________________________\n",
      "conv_dw_8_bn (BatchNormaliza (None, 9, 9, 512)         2048      \n",
      "_________________________________________________________________\n",
      "conv_dw_8_relu (ReLU)        (None, 9, 9, 512)         0         \n",
      "_________________________________________________________________\n",
      "conv_pw_8 (Conv2D)           (None, 9, 9, 512)         262144    \n",
      "_________________________________________________________________\n",
      "conv_pw_8_bn (BatchNormaliza (None, 9, 9, 512)         2048      \n",
      "_________________________________________________________________\n",
      "conv_pw_8_relu (ReLU)        (None, 9, 9, 512)         0         \n",
      "_________________________________________________________________\n",
      "conv_dw_9 (DepthwiseConv2D)  (None, 9, 9, 512)         4608      \n",
      "_________________________________________________________________\n",
      "conv_dw_9_bn (BatchNormaliza (None, 9, 9, 512)         2048      \n",
      "_________________________________________________________________\n",
      "conv_dw_9_relu (ReLU)        (None, 9, 9, 512)         0         \n",
      "_________________________________________________________________\n",
      "conv_pw_9 (Conv2D)           (None, 9, 9, 512)         262144    \n",
      "_________________________________________________________________\n",
      "conv_pw_9_bn (BatchNormaliza (None, 9, 9, 512)         2048      \n",
      "_________________________________________________________________\n",
      "conv_pw_9_relu (ReLU)        (None, 9, 9, 512)         0         \n",
      "_________________________________________________________________\n",
      "conv_dw_10 (DepthwiseConv2D) (None, 9, 9, 512)         4608      \n",
      "_________________________________________________________________\n",
      "conv_dw_10_bn (BatchNormaliz (None, 9, 9, 512)         2048      \n",
      "_________________________________________________________________\n",
      "conv_dw_10_relu (ReLU)       (None, 9, 9, 512)         0         \n",
      "_________________________________________________________________\n",
      "conv_pw_10 (Conv2D)          (None, 9, 9, 512)         262144    \n",
      "_________________________________________________________________\n",
      "conv_pw_10_bn (BatchNormaliz (None, 9, 9, 512)         2048      \n",
      "_________________________________________________________________\n",
      "conv_pw_10_relu (ReLU)       (None, 9, 9, 512)         0         \n",
      "_________________________________________________________________\n",
      "conv_dw_11 (DepthwiseConv2D) (None, 9, 9, 512)         4608      \n",
      "_________________________________________________________________\n",
      "conv_dw_11_bn (BatchNormaliz (None, 9, 9, 512)         2048      \n",
      "_________________________________________________________________\n",
      "conv_dw_11_relu (ReLU)       (None, 9, 9, 512)         0         \n",
      "_________________________________________________________________\n",
      "conv_pw_11 (Conv2D)          (None, 9, 9, 512)         262144    \n",
      "_________________________________________________________________\n",
      "conv_pw_11_bn (BatchNormaliz (None, 9, 9, 512)         2048      \n",
      "_________________________________________________________________\n",
      "conv_pw_11_relu (ReLU)       (None, 9, 9, 512)         0         \n",
      "_________________________________________________________________\n",
      "conv_pad_12 (ZeroPadding2D)  (None, 10, 10, 512)       0         \n",
      "_________________________________________________________________\n",
      "conv_dw_12 (DepthwiseConv2D) (None, 4, 4, 512)         4608      \n",
      "_________________________________________________________________\n",
      "conv_dw_12_bn (BatchNormaliz (None, 4, 4, 512)         2048      \n",
      "_________________________________________________________________\n",
      "conv_dw_12_relu (ReLU)       (None, 4, 4, 512)         0         \n",
      "_________________________________________________________________\n",
      "conv_pw_12 (Conv2D)          (None, 4, 4, 1024)        524288    \n",
      "_________________________________________________________________\n",
      "conv_pw_12_bn (BatchNormaliz (None, 4, 4, 1024)        4096      \n",
      "_________________________________________________________________\n",
      "conv_pw_12_relu (ReLU)       (None, 4, 4, 1024)        0         \n",
      "_________________________________________________________________\n",
      "conv_dw_13 (DepthwiseConv2D) (None, 4, 4, 1024)        9216      \n",
      "_________________________________________________________________\n",
      "conv_dw_13_bn (BatchNormaliz (None, 4, 4, 1024)        4096      \n",
      "_________________________________________________________________\n",
      "conv_dw_13_relu (ReLU)       (None, 4, 4, 1024)        0         \n",
      "_________________________________________________________________\n",
      "conv_pw_13 (Conv2D)          (None, 4, 4, 1024)        1048576   \n",
      "_________________________________________________________________\n",
      "conv_pw_13_bn (BatchNormaliz (None, 4, 4, 1024)        4096      \n",
      "_________________________________________________________________\n",
      "conv_pw_13_relu (ReLU)       (None, 4, 4, 1024)        0         \n",
      "_________________________________________________________________\n",
      "global_average_pooling2d_3 ( (None, 1024)              0         \n",
      "_________________________________________________________________\n",
      "dense_9 (Dense)              (None, 1024)              1049600   \n",
      "_________________________________________________________________\n",
      "dense_10 (Dense)             (None, 512)               524800    \n",
      "_________________________________________________________________\n",
      "dense_11 (Dense)             (None, 6)                 3078      \n",
      "=================================================================\n",
      "Total params: 4,806,342\n",
      "Trainable params: 4,784,454\n",
      "Non-trainable params: 21,888\n",
      "_________________________________________________________________\n"
     ]
    }
   ],
   "source": [
    "from keras.layers import Dense,GlobalAveragePooling2D \n",
    "from keras.layers.core import Activation\n",
    "from keras.models import Model\n",
    "\n",
    "base_model = MobileNet(weights='imagenet', input_shape=(150, 150, 3), include_top=False)\n",
    "\n",
    "output_model = base_model.output\n",
    "output_model = GlobalAveragePooling2D()(output_model)\n",
    "output_model = Dense(1024, activation='relu')(output_model)\n",
    "output_model = Dense(512, activation='relu')(output_model)\n",
    "output_model = Dense(NUM_OF_CLASSES, activation='softmax')(output_model)\n",
    "\n",
    "model = Model(inputs=base_model.input, outputs=output_model)\n",
    "\n",
    "model.summary()"
   ]
  },
  {
   "cell_type": "markdown",
   "id": "prepared-compensation",
   "metadata": {},
   "source": [
    "Отключаем обучение базовой модели **MobileNet**"
   ]
  },
  {
   "cell_type": "code",
   "execution_count": 49,
   "id": "instant-relations",
   "metadata": {},
   "outputs": [],
   "source": [
    "for layer in base_model.layers:\n",
    "    layer.trainable = False"
   ]
  },
  {
   "cell_type": "code",
   "execution_count": 50,
   "id": "hindu-match",
   "metadata": {},
   "outputs": [
    {
     "name": "stdout",
     "output_type": "stream",
     "text": [
      "Model: \"model_3\"\n",
      "_________________________________________________________________\n",
      "Layer (type)                 Output Shape              Param #   \n",
      "=================================================================\n",
      "input_4 (InputLayer)         [(None, 150, 150, 3)]     0         \n",
      "_________________________________________________________________\n",
      "conv1 (Conv2D)               (None, 75, 75, 32)        864       \n",
      "_________________________________________________________________\n",
      "conv1_bn (BatchNormalization (None, 75, 75, 32)        128       \n",
      "_________________________________________________________________\n",
      "conv1_relu (ReLU)            (None, 75, 75, 32)        0         \n",
      "_________________________________________________________________\n",
      "conv_dw_1 (DepthwiseConv2D)  (None, 75, 75, 32)        288       \n",
      "_________________________________________________________________\n",
      "conv_dw_1_bn (BatchNormaliza (None, 75, 75, 32)        128       \n",
      "_________________________________________________________________\n",
      "conv_dw_1_relu (ReLU)        (None, 75, 75, 32)        0         \n",
      "_________________________________________________________________\n",
      "conv_pw_1 (Conv2D)           (None, 75, 75, 64)        2048      \n",
      "_________________________________________________________________\n",
      "conv_pw_1_bn (BatchNormaliza (None, 75, 75, 64)        256       \n",
      "_________________________________________________________________\n",
      "conv_pw_1_relu (ReLU)        (None, 75, 75, 64)        0         \n",
      "_________________________________________________________________\n",
      "conv_pad_2 (ZeroPadding2D)   (None, 76, 76, 64)        0         \n",
      "_________________________________________________________________\n",
      "conv_dw_2 (DepthwiseConv2D)  (None, 37, 37, 64)        576       \n",
      "_________________________________________________________________\n",
      "conv_dw_2_bn (BatchNormaliza (None, 37, 37, 64)        256       \n",
      "_________________________________________________________________\n",
      "conv_dw_2_relu (ReLU)        (None, 37, 37, 64)        0         \n",
      "_________________________________________________________________\n",
      "conv_pw_2 (Conv2D)           (None, 37, 37, 128)       8192      \n",
      "_________________________________________________________________\n",
      "conv_pw_2_bn (BatchNormaliza (None, 37, 37, 128)       512       \n",
      "_________________________________________________________________\n",
      "conv_pw_2_relu (ReLU)        (None, 37, 37, 128)       0         \n",
      "_________________________________________________________________\n",
      "conv_dw_3 (DepthwiseConv2D)  (None, 37, 37, 128)       1152      \n",
      "_________________________________________________________________\n",
      "conv_dw_3_bn (BatchNormaliza (None, 37, 37, 128)       512       \n",
      "_________________________________________________________________\n",
      "conv_dw_3_relu (ReLU)        (None, 37, 37, 128)       0         \n",
      "_________________________________________________________________\n",
      "conv_pw_3 (Conv2D)           (None, 37, 37, 128)       16384     \n",
      "_________________________________________________________________\n",
      "conv_pw_3_bn (BatchNormaliza (None, 37, 37, 128)       512       \n",
      "_________________________________________________________________\n",
      "conv_pw_3_relu (ReLU)        (None, 37, 37, 128)       0         \n",
      "_________________________________________________________________\n",
      "conv_pad_4 (ZeroPadding2D)   (None, 38, 38, 128)       0         \n",
      "_________________________________________________________________\n",
      "conv_dw_4 (DepthwiseConv2D)  (None, 18, 18, 128)       1152      \n",
      "_________________________________________________________________\n",
      "conv_dw_4_bn (BatchNormaliza (None, 18, 18, 128)       512       \n",
      "_________________________________________________________________\n",
      "conv_dw_4_relu (ReLU)        (None, 18, 18, 128)       0         \n",
      "_________________________________________________________________\n",
      "conv_pw_4 (Conv2D)           (None, 18, 18, 256)       32768     \n",
      "_________________________________________________________________\n",
      "conv_pw_4_bn (BatchNormaliza (None, 18, 18, 256)       1024      \n",
      "_________________________________________________________________\n",
      "conv_pw_4_relu (ReLU)        (None, 18, 18, 256)       0         \n",
      "_________________________________________________________________\n",
      "conv_dw_5 (DepthwiseConv2D)  (None, 18, 18, 256)       2304      \n",
      "_________________________________________________________________\n",
      "conv_dw_5_bn (BatchNormaliza (None, 18, 18, 256)       1024      \n",
      "_________________________________________________________________\n",
      "conv_dw_5_relu (ReLU)        (None, 18, 18, 256)       0         \n",
      "_________________________________________________________________\n",
      "conv_pw_5 (Conv2D)           (None, 18, 18, 256)       65536     \n",
      "_________________________________________________________________\n",
      "conv_pw_5_bn (BatchNormaliza (None, 18, 18, 256)       1024      \n",
      "_________________________________________________________________\n",
      "conv_pw_5_relu (ReLU)        (None, 18, 18, 256)       0         \n",
      "_________________________________________________________________\n",
      "conv_pad_6 (ZeroPadding2D)   (None, 19, 19, 256)       0         \n",
      "_________________________________________________________________\n",
      "conv_dw_6 (DepthwiseConv2D)  (None, 9, 9, 256)         2304      \n",
      "_________________________________________________________________\n",
      "conv_dw_6_bn (BatchNormaliza (None, 9, 9, 256)         1024      \n",
      "_________________________________________________________________\n",
      "conv_dw_6_relu (ReLU)        (None, 9, 9, 256)         0         \n",
      "_________________________________________________________________\n",
      "conv_pw_6 (Conv2D)           (None, 9, 9, 512)         131072    \n",
      "_________________________________________________________________\n",
      "conv_pw_6_bn (BatchNormaliza (None, 9, 9, 512)         2048      \n",
      "_________________________________________________________________\n",
      "conv_pw_6_relu (ReLU)        (None, 9, 9, 512)         0         \n",
      "_________________________________________________________________\n",
      "conv_dw_7 (DepthwiseConv2D)  (None, 9, 9, 512)         4608      \n",
      "_________________________________________________________________\n",
      "conv_dw_7_bn (BatchNormaliza (None, 9, 9, 512)         2048      \n",
      "_________________________________________________________________\n",
      "conv_dw_7_relu (ReLU)        (None, 9, 9, 512)         0         \n",
      "_________________________________________________________________\n",
      "conv_pw_7 (Conv2D)           (None, 9, 9, 512)         262144    \n",
      "_________________________________________________________________\n",
      "conv_pw_7_bn (BatchNormaliza (None, 9, 9, 512)         2048      \n",
      "_________________________________________________________________\n",
      "conv_pw_7_relu (ReLU)        (None, 9, 9, 512)         0         \n",
      "_________________________________________________________________\n",
      "conv_dw_8 (DepthwiseConv2D)  (None, 9, 9, 512)         4608      \n",
      "_________________________________________________________________\n",
      "conv_dw_8_bn (BatchNormaliza (None, 9, 9, 512)         2048      \n",
      "_________________________________________________________________\n",
      "conv_dw_8_relu (ReLU)        (None, 9, 9, 512)         0         \n",
      "_________________________________________________________________\n",
      "conv_pw_8 (Conv2D)           (None, 9, 9, 512)         262144    \n",
      "_________________________________________________________________\n",
      "conv_pw_8_bn (BatchNormaliza (None, 9, 9, 512)         2048      \n",
      "_________________________________________________________________\n",
      "conv_pw_8_relu (ReLU)        (None, 9, 9, 512)         0         \n",
      "_________________________________________________________________\n",
      "conv_dw_9 (DepthwiseConv2D)  (None, 9, 9, 512)         4608      \n",
      "_________________________________________________________________\n",
      "conv_dw_9_bn (BatchNormaliza (None, 9, 9, 512)         2048      \n",
      "_________________________________________________________________\n",
      "conv_dw_9_relu (ReLU)        (None, 9, 9, 512)         0         \n",
      "_________________________________________________________________\n",
      "conv_pw_9 (Conv2D)           (None, 9, 9, 512)         262144    \n",
      "_________________________________________________________________\n",
      "conv_pw_9_bn (BatchNormaliza (None, 9, 9, 512)         2048      \n",
      "_________________________________________________________________\n",
      "conv_pw_9_relu (ReLU)        (None, 9, 9, 512)         0         \n",
      "_________________________________________________________________\n",
      "conv_dw_10 (DepthwiseConv2D) (None, 9, 9, 512)         4608      \n",
      "_________________________________________________________________\n",
      "conv_dw_10_bn (BatchNormaliz (None, 9, 9, 512)         2048      \n",
      "_________________________________________________________________\n",
      "conv_dw_10_relu (ReLU)       (None, 9, 9, 512)         0         \n",
      "_________________________________________________________________\n",
      "conv_pw_10 (Conv2D)          (None, 9, 9, 512)         262144    \n",
      "_________________________________________________________________\n",
      "conv_pw_10_bn (BatchNormaliz (None, 9, 9, 512)         2048      \n",
      "_________________________________________________________________\n",
      "conv_pw_10_relu (ReLU)       (None, 9, 9, 512)         0         \n",
      "_________________________________________________________________\n",
      "conv_dw_11 (DepthwiseConv2D) (None, 9, 9, 512)         4608      \n",
      "_________________________________________________________________\n",
      "conv_dw_11_bn (BatchNormaliz (None, 9, 9, 512)         2048      \n",
      "_________________________________________________________________\n",
      "conv_dw_11_relu (ReLU)       (None, 9, 9, 512)         0         \n",
      "_________________________________________________________________\n",
      "conv_pw_11 (Conv2D)          (None, 9, 9, 512)         262144    \n",
      "_________________________________________________________________\n",
      "conv_pw_11_bn (BatchNormaliz (None, 9, 9, 512)         2048      \n",
      "_________________________________________________________________\n",
      "conv_pw_11_relu (ReLU)       (None, 9, 9, 512)         0         \n",
      "_________________________________________________________________\n",
      "conv_pad_12 (ZeroPadding2D)  (None, 10, 10, 512)       0         \n",
      "_________________________________________________________________\n",
      "conv_dw_12 (DepthwiseConv2D) (None, 4, 4, 512)         4608      \n",
      "_________________________________________________________________\n",
      "conv_dw_12_bn (BatchNormaliz (None, 4, 4, 512)         2048      \n",
      "_________________________________________________________________\n",
      "conv_dw_12_relu (ReLU)       (None, 4, 4, 512)         0         \n",
      "_________________________________________________________________\n",
      "conv_pw_12 (Conv2D)          (None, 4, 4, 1024)        524288    \n",
      "_________________________________________________________________\n",
      "conv_pw_12_bn (BatchNormaliz (None, 4, 4, 1024)        4096      \n",
      "_________________________________________________________________\n",
      "conv_pw_12_relu (ReLU)       (None, 4, 4, 1024)        0         \n",
      "_________________________________________________________________\n",
      "conv_dw_13 (DepthwiseConv2D) (None, 4, 4, 1024)        9216      \n",
      "_________________________________________________________________\n",
      "conv_dw_13_bn (BatchNormaliz (None, 4, 4, 1024)        4096      \n",
      "_________________________________________________________________\n",
      "conv_dw_13_relu (ReLU)       (None, 4, 4, 1024)        0         \n",
      "_________________________________________________________________\n",
      "conv_pw_13 (Conv2D)          (None, 4, 4, 1024)        1048576   \n",
      "_________________________________________________________________\n",
      "conv_pw_13_bn (BatchNormaliz (None, 4, 4, 1024)        4096      \n",
      "_________________________________________________________________\n",
      "conv_pw_13_relu (ReLU)       (None, 4, 4, 1024)        0         \n",
      "_________________________________________________________________\n",
      "global_average_pooling2d_3 ( (None, 1024)              0         \n",
      "_________________________________________________________________\n",
      "dense_9 (Dense)              (None, 1024)              1049600   \n",
      "_________________________________________________________________\n",
      "dense_10 (Dense)             (None, 512)               524800    \n",
      "_________________________________________________________________\n",
      "dense_11 (Dense)             (None, 6)                 3078      \n",
      "=================================================================\n",
      "Total params: 4,806,342\n",
      "Trainable params: 1,577,478\n",
      "Non-trainable params: 3,228,864\n",
      "_________________________________________________________________\n"
     ]
    }
   ],
   "source": [
    "model.summary()"
   ]
  },
  {
   "cell_type": "markdown",
   "id": "assigned-commission",
   "metadata": {},
   "source": [
    "Компилируем"
   ]
  },
  {
   "cell_type": "code",
   "execution_count": 51,
   "id": "touched-insulin",
   "metadata": {},
   "outputs": [],
   "source": [
    "from keras.optimizers import Adam\n",
    "from keras.metrics import categorical_crossentropy\n",
    "\n",
    "model.compile(optimizer='Adam', loss='categorical_crossentropy', metrics=['accuracy'])"
   ]
  },
  {
   "cell_type": "markdown",
   "id": "thermal-burden",
   "metadata": {},
   "source": [
    "Обучаем добавленные кастомные слои"
   ]
  },
  {
   "cell_type": "code",
   "execution_count": 52,
   "id": "worse-outdoors",
   "metadata": {},
   "outputs": [
    {
     "name": "stdout",
     "output_type": "stream",
     "text": [
      "Epoch 1/10\n",
      "438/438 [==============================] - 27s 59ms/step - loss: 0.4368 - accuracy: 0.8458 - val_loss: 0.2694 - val_accuracy: 0.8894\n",
      "Epoch 2/10\n",
      "438/438 [==============================] - 26s 58ms/step - loss: 0.2046 - accuracy: 0.9276 - val_loss: 0.2445 - val_accuracy: 0.9167\n",
      "Epoch 3/10\n",
      "438/438 [==============================] - 26s 59ms/step - loss: 0.1614 - accuracy: 0.9391 - val_loss: 0.2031 - val_accuracy: 0.9308\n",
      "Epoch 4/10\n",
      "438/438 [==============================] - 26s 60ms/step - loss: 0.1451 - accuracy: 0.9456 - val_loss: 0.2155 - val_accuracy: 0.9267\n",
      "Epoch 5/10\n",
      "438/438 [==============================] - 26s 59ms/step - loss: 0.1146 - accuracy: 0.9560 - val_loss: 0.2326 - val_accuracy: 0.9224\n",
      "Epoch 6/10\n",
      "438/438 [==============================] - 26s 58ms/step - loss: 0.1009 - accuracy: 0.9605 - val_loss: 0.2548 - val_accuracy: 0.9251\n",
      "Epoch 7/10\n",
      "438/438 [==============================] - 25s 58ms/step - loss: 0.0685 - accuracy: 0.9748 - val_loss: 0.2693 - val_accuracy: 0.9150\n",
      "Epoch 8/10\n",
      "438/438 [==============================] - 26s 59ms/step - loss: 0.0592 - accuracy: 0.9783 - val_loss: 0.2789 - val_accuracy: 0.9160\n",
      "Epoch 9/10\n",
      "438/438 [==============================] - 26s 60ms/step - loss: 0.0578 - accuracy: 0.9782 - val_loss: 0.2898 - val_accuracy: 0.9200\n",
      "Epoch 10/10\n",
      "438/438 [==============================] - 26s 60ms/step - loss: 0.0403 - accuracy: 0.9849 - val_loss: 0.3230 - val_accuracy: 0.9200\n"
     ]
    }
   ],
   "source": [
    "step_size_train = train_generator.n//train_generator.batch_size\n",
    "step_size_valid = valid_generator.n//valid_generator.batch_size\n",
    "history = model.fit(\n",
    "    train_generator,\n",
    "    steps_per_epoch=step_size_train,\n",
    "    validation_data=valid_generator,\n",
    "    validation_steps=step_size_valid,\n",
    "    epochs=10\n",
    ")"
   ]
  },
  {
   "cell_type": "markdown",
   "id": "medium-farming",
   "metadata": {},
   "source": [
    "Сохраняем модель"
   ]
  },
  {
   "cell_type": "code",
   "execution_count": 54,
   "id": "prospective-oliver",
   "metadata": {},
   "outputs": [],
   "source": [
    "model.save('nature_scenes_conv_model.h5')\n",
    "model.save_weights('nature_scenes_conv_model_weights.h5')"
   ]
  },
  {
   "cell_type": "markdown",
   "id": "rapid-incentive",
   "metadata": {},
   "source": [
    "Выводим статистику по обучению и точности распознавания на тестовой выборке"
   ]
  },
  {
   "cell_type": "code",
   "execution_count": 12,
   "id": "reflected-leave",
   "metadata": {},
   "outputs": [
    {
     "data": {
      "image/png": "[encoded data removed]",
      "text/plain": [
       "<Figure size 432x288 with 2 Axes>"
      ]
     },
     "metadata": {
      "needs_background": "light"
     },
     "output_type": "display_data"
    }
   ],
   "source": [
    "import matplotlib.pyplot as plt\n",
    "\n",
    "plt.subplot(2, 1, 1)\n",
    "plt.plot(history.history['accuracy'])\n",
    "plt.plot(history.history['val_accuracy'])\n",
    "plt.title('Model accuracy')\n",
    "plt.ylabel('Accuracy')\n",
    "plt.xlabel('Epoch')\n",
    "plt.legend(['Train', 'Test'], loc='upper left')\n",
    "\n",
    "plt.subplot(2, 1, 2)\n",
    "plt.plot(history.history['loss'])\n",
    "plt.plot(history.history['val_loss'])\n",
    "plt.title('Model loss')\n",
    "plt.ylabel('Loss')\n",
    "plt.xlabel('Epoch')\n",
    "plt.legend(['Train', 'Test'], loc='upper left')\n",
    "\n",
    "plt.show()"
   ]
  },
  {
   "cell_type": "code",
   "execution_count": 53,
   "id": "identified-mailing",
   "metadata": {},
   "outputs": [
    {
     "name": "stdout",
     "output_type": "stream",
     "text": [
      "94/94 [==============================] - 5s 48ms/step - loss: 0.3246 - accuracy: 0.9197\n"
     ]
    },
    {
     "data": {
      "text/plain": [
       "0.9196666479110718"
      ]
     },
     "execution_count": 53,
     "metadata": {},
     "output_type": "execute_result"
    }
   ],
   "source": [
    "_, accuracy = model.evaluate(valid_generator)\n",
    "accuracy"
   ]
  },
  {
   "cell_type": "markdown",
   "id": "prescribed-grain",
   "metadata": {},
   "source": [
    "### 1.4"
   ]
  },
  {
   "cell_type": "code",
   "execution_count": 19,
   "id": "fifteen-sandwich",
   "metadata": {},
   "outputs": [],
   "source": [
    "import tensorflow as tf\n",
    "\n",
    "def reset_weights(model):\n",
    "    for layer in model.layers: \n",
    "        if isinstance(layer, tf.keras.Model):\n",
    "            reset_weights(layer)\n",
    "            continue\n",
    "    for k, initializer in layer.__dict__.items():\n",
    "        if \"initializer\" not in k:\n",
    "            continue\n",
    "        # find the corresponding variable\n",
    "        var = getattr(layer, k.replace(\"_initializer\", \"\"))\n",
    "        var.assign(initializer(var.shape, var.dtype))\n",
    "        \n",
    "reset_weights(model)"
   ]
  },
  {
   "cell_type": "code",
   "execution_count": 20,
   "id": "composite-moisture",
   "metadata": {},
   "outputs": [
    {
     "name": "stdout",
     "output_type": "stream",
     "text": [
      "Epoch 1/10\n",
      "438/438 [==============================] - 127s 286ms/step - loss: 0.5730 - accuracy: 0.8118 - val_loss: 0.5260 - val_accuracy: 0.8431\n",
      "Epoch 2/10\n",
      "438/438 [==============================] - 124s 284ms/step - loss: 0.2948 - accuracy: 0.9052 - val_loss: 0.3016 - val_accuracy: 0.8915\n",
      "Epoch 3/10\n",
      "438/438 [==============================] - 125s 285ms/step - loss: 0.2323 - accuracy: 0.9242 - val_loss: 0.2973 - val_accuracy: 0.8942\n",
      "Epoch 4/10\n",
      "438/438 [==============================] - 125s 286ms/step - loss: 0.2040 - accuracy: 0.9311 - val_loss: 0.3446 - val_accuracy: 0.8760\n",
      "Epoch 5/10\n",
      "438/438 [==============================] - 126s 287ms/step - loss: 0.1897 - accuracy: 0.9379 - val_loss: 0.3208 - val_accuracy: 0.8952\n",
      "Epoch 6/10\n",
      "438/438 [==============================] - 125s 286ms/step - loss: 0.1600 - accuracy: 0.9477 - val_loss: 0.3422 - val_accuracy: 0.8871\n",
      "Epoch 7/10\n",
      "438/438 [==============================] - 126s 287ms/step - loss: 0.1577 - accuracy: 0.9475 - val_loss: 0.3325 - val_accuracy: 0.9032\n",
      "Epoch 8/10\n",
      "438/438 [==============================] - 126s 287ms/step - loss: 0.1379 - accuracy: 0.9531 - val_loss: 0.4395 - val_accuracy: 0.8441\n",
      "Epoch 9/10\n",
      "438/438 [==============================] - 126s 287ms/step - loss: 0.1214 - accuracy: 0.9583 - val_loss: 0.3317 - val_accuracy: 0.8952\n",
      "Epoch 10/10\n",
      "438/438 [==============================] - 126s 287ms/step - loss: 0.1057 - accuracy: 0.9622 - val_loss: 0.5783 - val_accuracy: 0.8599\n"
     ]
    }
   ],
   "source": [
    "history = model.fit(\n",
    "    train_generator,\n",
    "    steps_per_epoch=step_size_train,\n",
    "    validation_data=valid_generator,\n",
    "    validation_steps=step_size_valid,\n",
    "    epochs=10\n",
    ")"
   ]
  },
  {
   "cell_type": "code",
   "execution_count": 21,
   "id": "trying-number",
   "metadata": {},
   "outputs": [
    {
     "data": {
      "image/png": "[encoded data removed]",
      "text/plain": [
       "<Figure size 432x288 with 2 Axes>"
      ]
     },
     "metadata": {
      "needs_background": "light"
     },
     "output_type": "display_data"
    }
   ],
   "source": [
    "plt.subplot(2, 1, 1)\n",
    "plt.plot(history.history['accuracy'])\n",
    "plt.plot(history.history['val_accuracy'])\n",
    "plt.title('Model accuracy')\n",
    "plt.ylabel('Accuracy')\n",
    "plt.xlabel('Epoch')\n",
    "plt.legend(['Train', 'Test'], loc='upper left')\n",
    "\n",
    "plt.subplot(2, 1, 2)\n",
    "plt.plot(history.history['loss'])\n",
    "plt.plot(history.history['val_loss'])\n",
    "plt.title('Model loss')\n",
    "plt.ylabel('Loss')\n",
    "plt.xlabel('Epoch')\n",
    "plt.legend(['Train', 'Test'], loc='upper left')\n",
    "\n",
    "plt.show()"
   ]
  },
  {
   "cell_type": "code",
   "execution_count": 22,
   "id": "floral-elimination",
   "metadata": {},
   "outputs": [
    {
     "name": "stdout",
     "output_type": "stream",
     "text": [
      "94/94 [==============================] - 5s 47ms/step - loss: 0.5788 - accuracy: 0.8593\n"
     ]
    },
    {
     "data": {
      "text/plain": [
       "0.859333336353302"
      ]
     },
     "execution_count": 22,
     "metadata": {},
     "output_type": "execute_result"
    }
   ],
   "source": [
    "_, accuracy = model.evaluate(valid_generator)\n",
    "accuracy"
   ]
  },
  {
   "cell_type": "markdown",
   "id": "median-shannon",
   "metadata": {},
   "source": [
    "### 1.5"
   ]
  },
  {
   "cell_type": "code",
   "execution_count": 55,
   "id": "cleared-forge",
   "metadata": {},
   "outputs": [],
   "source": [
    "model = keras.models.load_model('nature_scenes_conv_model.h5')\n",
    "model.load_weights('nature_scenes_conv_model_weights.h5')"
   ]
  },
  {
   "cell_type": "code",
   "execution_count": 56,
   "id": "other-capture",
   "metadata": {},
   "outputs": [
    {
     "name": "stdout",
     "output_type": "stream",
     "text": [
      "Model: \"model_3\"\n",
      "_________________________________________________________________\n",
      "Layer (type)                 Output Shape              Param #   \n",
      "=================================================================\n",
      "input_4 (InputLayer)         [(None, 150, 150, 3)]     0         \n",
      "_________________________________________________________________\n",
      "conv1 (Conv2D)               (None, 75, 75, 32)        864       \n",
      "_________________________________________________________________\n",
      "conv1_bn (BatchNormalization (None, 75, 75, 32)        128       \n",
      "_________________________________________________________________\n",
      "conv1_relu (ReLU)            (None, 75, 75, 32)        0         \n",
      "_________________________________________________________________\n",
      "conv_dw_1 (DepthwiseConv2D)  (None, 75, 75, 32)        288       \n",
      "_________________________________________________________________\n",
      "conv_dw_1_bn (BatchNormaliza (None, 75, 75, 32)        128       \n",
      "_________________________________________________________________\n",
      "conv_dw_1_relu (ReLU)        (None, 75, 75, 32)        0         \n",
      "_________________________________________________________________\n",
      "conv_pw_1 (Conv2D)           (None, 75, 75, 64)        2048      \n",
      "_________________________________________________________________\n",
      "conv_pw_1_bn (BatchNormaliza (None, 75, 75, 64)        256       \n",
      "_________________________________________________________________\n",
      "conv_pw_1_relu (ReLU)        (None, 75, 75, 64)        0         \n",
      "_________________________________________________________________\n",
      "conv_pad_2 (ZeroPadding2D)   (None, 76, 76, 64)        0         \n",
      "_________________________________________________________________\n",
      "conv_dw_2 (DepthwiseConv2D)  (None, 37, 37, 64)        576       \n",
      "_________________________________________________________________\n",
      "conv_dw_2_bn (BatchNormaliza (None, 37, 37, 64)        256       \n",
      "_________________________________________________________________\n",
      "conv_dw_2_relu (ReLU)        (None, 37, 37, 64)        0         \n",
      "_________________________________________________________________\n",
      "conv_pw_2 (Conv2D)           (None, 37, 37, 128)       8192      \n",
      "_________________________________________________________________\n",
      "conv_pw_2_bn (BatchNormaliza (None, 37, 37, 128)       512       \n",
      "_________________________________________________________________\n",
      "conv_pw_2_relu (ReLU)        (None, 37, 37, 128)       0         \n",
      "_________________________________________________________________\n",
      "conv_dw_3 (DepthwiseConv2D)  (None, 37, 37, 128)       1152      \n",
      "_________________________________________________________________\n",
      "conv_dw_3_bn (BatchNormaliza (None, 37, 37, 128)       512       \n",
      "_________________________________________________________________\n",
      "conv_dw_3_relu (ReLU)        (None, 37, 37, 128)       0         \n",
      "_________________________________________________________________\n",
      "conv_pw_3 (Conv2D)           (None, 37, 37, 128)       16384     \n",
      "_________________________________________________________________\n",
      "conv_pw_3_bn (BatchNormaliza (None, 37, 37, 128)       512       \n",
      "_________________________________________________________________\n",
      "conv_pw_3_relu (ReLU)        (None, 37, 37, 128)       0         \n",
      "_________________________________________________________________\n",
      "conv_pad_4 (ZeroPadding2D)   (None, 38, 38, 128)       0         \n",
      "_________________________________________________________________\n",
      "conv_dw_4 (DepthwiseConv2D)  (None, 18, 18, 128)       1152      \n",
      "_________________________________________________________________\n",
      "conv_dw_4_bn (BatchNormaliza (None, 18, 18, 128)       512       \n",
      "_________________________________________________________________\n",
      "conv_dw_4_relu (ReLU)        (None, 18, 18, 128)       0         \n",
      "_________________________________________________________________\n",
      "conv_pw_4 (Conv2D)           (None, 18, 18, 256)       32768     \n",
      "_________________________________________________________________\n",
      "conv_pw_4_bn (BatchNormaliza (None, 18, 18, 256)       1024      \n",
      "_________________________________________________________________\n",
      "conv_pw_4_relu (ReLU)        (None, 18, 18, 256)       0         \n",
      "_________________________________________________________________\n",
      "conv_dw_5 (DepthwiseConv2D)  (None, 18, 18, 256)       2304      \n",
      "_________________________________________________________________\n",
      "conv_dw_5_bn (BatchNormaliza (None, 18, 18, 256)       1024      \n",
      "_________________________________________________________________\n",
      "conv_dw_5_relu (ReLU)        (None, 18, 18, 256)       0         \n",
      "_________________________________________________________________\n",
      "conv_pw_5 (Conv2D)           (None, 18, 18, 256)       65536     \n",
      "_________________________________________________________________\n",
      "conv_pw_5_bn (BatchNormaliza (None, 18, 18, 256)       1024      \n",
      "_________________________________________________________________\n",
      "conv_pw_5_relu (ReLU)        (None, 18, 18, 256)       0         \n",
      "_________________________________________________________________\n",
      "conv_pad_6 (ZeroPadding2D)   (None, 19, 19, 256)       0         \n",
      "_________________________________________________________________\n",
      "conv_dw_6 (DepthwiseConv2D)  (None, 9, 9, 256)         2304      \n",
      "_________________________________________________________________\n",
      "conv_dw_6_bn (BatchNormaliza (None, 9, 9, 256)         1024      \n",
      "_________________________________________________________________\n",
      "conv_dw_6_relu (ReLU)        (None, 9, 9, 256)         0         \n",
      "_________________________________________________________________\n",
      "conv_pw_6 (Conv2D)           (None, 9, 9, 512)         131072    \n",
      "_________________________________________________________________\n",
      "conv_pw_6_bn (BatchNormaliza (None, 9, 9, 512)         2048      \n",
      "_________________________________________________________________\n",
      "conv_pw_6_relu (ReLU)        (None, 9, 9, 512)         0         \n",
      "_________________________________________________________________\n",
      "conv_dw_7 (DepthwiseConv2D)  (None, 9, 9, 512)         4608      \n",
      "_________________________________________________________________\n",
      "conv_dw_7_bn (BatchNormaliza (None, 9, 9, 512)         2048      \n",
      "_________________________________________________________________\n",
      "conv_dw_7_relu (ReLU)        (None, 9, 9, 512)         0         \n",
      "_________________________________________________________________\n",
      "conv_pw_7 (Conv2D)           (None, 9, 9, 512)         262144    \n",
      "_________________________________________________________________\n",
      "conv_pw_7_bn (BatchNormaliza (None, 9, 9, 512)         2048      \n",
      "_________________________________________________________________\n",
      "conv_pw_7_relu (ReLU)        (None, 9, 9, 512)         0         \n",
      "_________________________________________________________________\n",
      "conv_dw_8 (DepthwiseConv2D)  (None, 9, 9, 512)         4608      \n",
      "_________________________________________________________________\n",
      "conv_dw_8_bn (BatchNormaliza (None, 9, 9, 512)         2048      \n",
      "_________________________________________________________________\n",
      "conv_dw_8_relu (ReLU)        (None, 9, 9, 512)         0         \n",
      "_________________________________________________________________\n",
      "conv_pw_8 (Conv2D)           (None, 9, 9, 512)         262144    \n",
      "_________________________________________________________________\n",
      "conv_pw_8_bn (BatchNormaliza (None, 9, 9, 512)         2048      \n",
      "_________________________________________________________________\n",
      "conv_pw_8_relu (ReLU)        (None, 9, 9, 512)         0         \n",
      "_________________________________________________________________\n",
      "conv_dw_9 (DepthwiseConv2D)  (None, 9, 9, 512)         4608      \n",
      "_________________________________________________________________\n",
      "conv_dw_9_bn (BatchNormaliza (None, 9, 9, 512)         2048      \n",
      "_________________________________________________________________\n",
      "conv_dw_9_relu (ReLU)        (None, 9, 9, 512)         0         \n",
      "_________________________________________________________________\n",
      "conv_pw_9 (Conv2D)           (None, 9, 9, 512)         262144    \n",
      "_________________________________________________________________\n",
      "conv_pw_9_bn (BatchNormaliza (None, 9, 9, 512)         2048      \n",
      "_________________________________________________________________\n",
      "conv_pw_9_relu (ReLU)        (None, 9, 9, 512)         0         \n",
      "_________________________________________________________________\n",
      "conv_dw_10 (DepthwiseConv2D) (None, 9, 9, 512)         4608      \n",
      "_________________________________________________________________\n",
      "conv_dw_10_bn (BatchNormaliz (None, 9, 9, 512)         2048      \n",
      "_________________________________________________________________\n",
      "conv_dw_10_relu (ReLU)       (None, 9, 9, 512)         0         \n",
      "_________________________________________________________________\n",
      "conv_pw_10 (Conv2D)          (None, 9, 9, 512)         262144    \n",
      "_________________________________________________________________\n",
      "conv_pw_10_bn (BatchNormaliz (None, 9, 9, 512)         2048      \n",
      "_________________________________________________________________\n",
      "conv_pw_10_relu (ReLU)       (None, 9, 9, 512)         0         \n",
      "_________________________________________________________________\n",
      "conv_dw_11 (DepthwiseConv2D) (None, 9, 9, 512)         4608      \n",
      "_________________________________________________________________\n",
      "conv_dw_11_bn (BatchNormaliz (None, 9, 9, 512)         2048      \n",
      "_________________________________________________________________\n",
      "conv_dw_11_relu (ReLU)       (None, 9, 9, 512)         0         \n",
      "_________________________________________________________________\n",
      "conv_pw_11 (Conv2D)          (None, 9, 9, 512)         262144    \n",
      "_________________________________________________________________\n",
      "conv_pw_11_bn (BatchNormaliz (None, 9, 9, 512)         2048      \n",
      "_________________________________________________________________\n",
      "conv_pw_11_relu (ReLU)       (None, 9, 9, 512)         0         \n",
      "_________________________________________________________________\n",
      "conv_pad_12 (ZeroPadding2D)  (None, 10, 10, 512)       0         \n",
      "_________________________________________________________________\n",
      "conv_dw_12 (DepthwiseConv2D) (None, 4, 4, 512)         4608      \n",
      "_________________________________________________________________\n",
      "conv_dw_12_bn (BatchNormaliz (None, 4, 4, 512)         2048      \n",
      "_________________________________________________________________\n",
      "conv_dw_12_relu (ReLU)       (None, 4, 4, 512)         0         \n",
      "_________________________________________________________________\n",
      "conv_pw_12 (Conv2D)          (None, 4, 4, 1024)        524288    \n",
      "_________________________________________________________________\n",
      "conv_pw_12_bn (BatchNormaliz (None, 4, 4, 1024)        4096      \n",
      "_________________________________________________________________\n",
      "conv_pw_12_relu (ReLU)       (None, 4, 4, 1024)        0         \n",
      "_________________________________________________________________\n",
      "conv_dw_13 (DepthwiseConv2D) (None, 4, 4, 1024)        9216      \n",
      "_________________________________________________________________\n",
      "conv_dw_13_bn (BatchNormaliz (None, 4, 4, 1024)        4096      \n",
      "_________________________________________________________________\n",
      "conv_dw_13_relu (ReLU)       (None, 4, 4, 1024)        0         \n",
      "_________________________________________________________________\n",
      "conv_pw_13 (Conv2D)          (None, 4, 4, 1024)        1048576   \n",
      "_________________________________________________________________\n",
      "conv_pw_13_bn (BatchNormaliz (None, 4, 4, 1024)        4096      \n",
      "_________________________________________________________________\n",
      "conv_pw_13_relu (ReLU)       (None, 4, 4, 1024)        0         \n",
      "_________________________________________________________________\n",
      "global_average_pooling2d_3 ( (None, 1024)              0         \n",
      "_________________________________________________________________\n",
      "dense_9 (Dense)              (None, 1024)              1049600   \n",
      "_________________________________________________________________\n",
      "dense_10 (Dense)             (None, 512)               524800    \n",
      "_________________________________________________________________\n",
      "dense_11 (Dense)             (None, 6)                 3078      \n",
      "=================================================================\n",
      "Total params: 4,806,342\n",
      "Trainable params: 4,784,454\n",
      "Non-trainable params: 21,888\n",
      "_________________________________________________________________\n"
     ]
    }
   ],
   "source": [
    "for layer in model.layers:\n",
    "    layer.trainable = True\n",
    "    \n",
    "model.compile(optimizer='Adam', loss='categorical_crossentropy', metrics=['accuracy'])\n",
    "\n",
    "model.summary()"
   ]
  },
  {
   "cell_type": "code",
   "execution_count": 57,
   "id": "running-complexity",
   "metadata": {},
   "outputs": [
    {
     "name": "stdout",
     "output_type": "stream",
     "text": [
      "Epoch 1/3\n",
      "438/438 [==============================] - 132s 297ms/step - loss: 0.6067 - accuracy: 0.8434 - val_loss: 0.4476 - val_accuracy: 0.8690\n",
      "Epoch 2/3\n",
      "438/438 [==============================] - 132s 302ms/step - loss: 0.2725 - accuracy: 0.9106 - val_loss: 0.2793 - val_accuracy: 0.9012\n",
      "Epoch 3/3\n",
      "438/438 [==============================] - 131s 298ms/step - loss: 0.2260 - accuracy: 0.9242 - val_loss: 0.4477 - val_accuracy: 0.8323\n"
     ]
    }
   ],
   "source": [
    "history = model.fit(\n",
    "    train_generator,\n",
    "    steps_per_epoch=step_size_train,\n",
    "    validation_data=valid_generator,\n",
    "    validation_steps=step_size_valid,\n",
    "    epochs=3\n",
    ")"
   ]
  },
  {
   "cell_type": "code",
   "execution_count": 58,
   "id": "ancient-heaven",
   "metadata": {},
   "outputs": [
    {
     "name": "stdout",
     "output_type": "stream",
     "text": [
      "94/94 [==============================] - 5s 48ms/step - loss: 0.4456 - accuracy: 0.8330\n"
     ]
    },
    {
     "data": {
      "text/plain": [
       "0.8330000042915344"
      ]
     },
     "execution_count": 58,
     "metadata": {},
     "output_type": "execute_result"
    }
   ],
   "source": [
    "_, accuracy = model.evaluate(valid_generator)\n",
    "accuracy"
   ]
  },
  {
   "cell_type": "markdown",
   "id": "invalid-robert",
   "metadata": {},
   "source": [
    "# 2"
   ]
  },
  {
   "cell_type": "code",
   "execution_count": 1,
   "id": "equipped-crossing",
   "metadata": {},
   "outputs": [],
   "source": [
    "from __future__ import absolute_import\n",
    "from __future__ import division\n",
    "import keras\n",
    "from keras.datasets import mnist\n",
    "import numpy as np\n",
    "# Считываем данные из MNIST\n",
    "(x_train, _), (x_test, _) = mnist.load_data()\n",
    "# Нормируем данные и приводим массивы к виду (N,size1,size1,1)\n",
    "image_size = x_train.shape[1]\n",
    "x_train = np.reshape(x_train, [-1, image_size, image_size, 1])\n",
    "x_test = np.reshape(x_test, [-1, image_size, image_size, 1])\n",
    "x_train = x_train.astype('float32') / 255\n",
    "x_test = x_test.astype('float32') / 255"
   ]
  },
  {
   "cell_type": "code",
   "execution_count": 2,
   "id": "official-trauma",
   "metadata": {},
   "outputs": [],
   "source": [
    "noise = np.random.normal(loc=0.5, scale=0.5, size=x_train.shape)\n",
    "x_train_noisy = x_train + noise\n",
    "noise = np.random.normal(loc=0.5, scale=0.5, size=x_test.shape)\n",
    "x_test_noisy = x_test + noise\n",
    "# Ограничим итоговые значения интервалом [0,1]\n",
    "x_train_noisy = np.clip(x_train_noisy, 0., 1.)\n",
    "x_test_noisy = np.clip(x_test_noisy, 0., 1.)"
   ]
  },
  {
   "cell_type": "code",
   "execution_count": 61,
   "id": "collected-harvest",
   "metadata": {},
   "outputs": [],
   "source": [
    "input_shape = (image_size, image_size, 1)\n",
    "batch_size = 128\n",
    "kernel_size = 3\n",
    "latent_dim = 16\n",
    "# Зададим два сверточных слоя и число нейронов в каждом слое:\n",
    "layer_filters = [32, 64]"
   ]
  },
  {
   "cell_type": "code",
   "execution_count": 73,
   "id": "antique-recording",
   "metadata": {},
   "outputs": [
    {
     "name": "stdout",
     "output_type": "stream",
     "text": [
      "Model: \"encoder\"\n",
      "_________________________________________________________________\n",
      "Layer (type)                 Output Shape              Param #   \n",
      "=================================================================\n",
      "encoder_input (InputLayer)   [(None, 28, 28, 1)]       0         \n",
      "_________________________________________________________________\n",
      "conv2d_2 (Conv2D)            (None, 14, 14, 32)        320       \n",
      "_________________________________________________________________\n",
      "conv2d_3 (Conv2D)            (None, 7, 7, 64)          18496     \n",
      "_________________________________________________________________\n",
      "flatten_1 (Flatten)          (None, 3136)              0         \n",
      "_________________________________________________________________\n",
      "latent_vector (Dense)        (None, 16)                50192     \n",
      "=================================================================\n",
      "Total params: 69,008\n",
      "Trainable params: 69,008\n",
      "Non-trainable params: 0\n",
      "_________________________________________________________________\n"
     ]
    }
   ],
   "source": [
    "from keras.layers import Activation, Dense, Input\n",
    "from keras.layers import Conv2D, Flatten\n",
    "from keras.layers import Reshape, Conv2DTranspose\n",
    "from keras.models import Model\n",
    "from keras import backend as K\n",
    "\n",
    "encoder_inputs = Input(shape=input_shape, name='encoder_input')\n",
    "x = encoder_inputs\n",
    "# Стек из сверточных слоев (strides - дискрет сдвига окна свертки\n",
    "# в пикселях, padding - без заполнения нулями):\n",
    "for filters in layer_filters:\n",
    "    x = Conv2D(\n",
    "        filters=filters,\n",
    "        kernel_size=kernel_size,\n",
    "        strides=2,\n",
    "        activation='relu',\n",
    "        padding='same'\n",
    "    )(x)\n",
    "    \n",
    "# Запоминаем размерность выхода для построения модели декодера\n",
    "shape = K.int_shape(x)\n",
    "\n",
    "# Преобразуем многомерный массив в вектор\n",
    "x = Flatten()(x)\n",
    "latent = Dense(latent_dim, name='latent_vector')(x)\n",
    "# Итоговый код - одномерный вектор меньшей размерности (latent_dim)\n",
    "\n",
    "# Итоговая модель энкодера:\n",
    "encoder = Model(encoder_inputs , latent, name='encoder')\n",
    "encoder.summary()"
   ]
  },
  {
   "cell_type": "code",
   "execution_count": 63,
   "id": "growing-authorization",
   "metadata": {},
   "outputs": [],
   "source": [
    "latent_inputs = Input(shape=(latent_dim,), name='decoder_input')\n",
    "# Обратное преобразование к размеру \"shape\":\n",
    "x = Dense(shape[1] * shape[2] * shape[3])(latent_inputs)\n",
    "# Выход должен быть трехмерным массивом:\n",
    "x = Reshape((shape[1], shape[2], shape[3]))(x)"
   ]
  },
  {
   "cell_type": "code",
   "execution_count": 64,
   "id": "tender-elephant",
   "metadata": {},
   "outputs": [
    {
     "name": "stdout",
     "output_type": "stream",
     "text": [
      "Model: \"decoder\"\n",
      "_________________________________________________________________\n",
      "Layer (type)                 Output Shape              Param #   \n",
      "=================================================================\n",
      "decoder_input (InputLayer)   [(None, 16)]              0         \n",
      "_________________________________________________________________\n",
      "dense_12 (Dense)             (None, 3136)              53312     \n",
      "_________________________________________________________________\n",
      "reshape (Reshape)            (None, 7, 7, 64)          0         \n",
      "_________________________________________________________________\n",
      "conv2d_transpose (Conv2DTran (None, 14, 14, 64)        36928     \n",
      "_________________________________________________________________\n",
      "conv2d_transpose_1 (Conv2DTr (None, 28, 28, 32)        18464     \n",
      "_________________________________________________________________\n",
      "conv2d_transpose_2 (Conv2DTr (None, 28, 28, 1)         289       \n",
      "_________________________________________________________________\n",
      "decoder_output (Activation)  (None, 28, 28, 1)         0         \n",
      "=================================================================\n",
      "Total params: 108,993\n",
      "Trainable params: 108,993\n",
      "Non-trainable params: 0\n",
      "_________________________________________________________________\n"
     ]
    }
   ],
   "source": [
    "# Вместо сверточных слоев \"разверточные\", цикл в обратном порядке:\n",
    "for filters in layer_filters[::-1]:\n",
    "    x = Conv2DTranspose(\n",
    "        filters=filters,\n",
    "        kernel_size=kernel_size,\n",
    "        strides=2,\n",
    "        activation='relu',\n",
    "        padding='same'\n",
    "    )(x)\n",
    "    \n",
    "x = Conv2DTranspose(\n",
    "    filters=1,\n",
    "    kernel_size=kernel_size,\n",
    "    padding='same'\n",
    ")(x)\n",
    "\n",
    "outputs = Activation('sigmoid', name='decoder_output')(x)\n",
    "# Итоговая модель декодера:\n",
    "decoder = Model(latent_inputs, outputs, name='decoder')\n",
    "decoder.summary()"
   ]
  },
  {
   "cell_type": "code",
   "execution_count": 65,
   "id": "chicken-custody",
   "metadata": {},
   "outputs": [],
   "source": [
    "autoencoder = Model(\n",
    "    encoder_inputs,\n",
    "    decoder(encoder(encoder_inputs)),\n",
    "    name='autoencoder'\n",
    ")\n",
    "autoencoder.compile(loss='mse', optimizer='adam')"
   ]
  },
  {
   "cell_type": "code",
   "execution_count": 66,
   "id": "friendly-judgment",
   "metadata": {},
   "outputs": [
    {
     "name": "stdout",
     "output_type": "stream",
     "text": [
      "Epoch 1/30\n",
      "469/469 [==============================] - 6s 11ms/step - loss: 0.0839 - val_loss: 0.0378\n",
      "Epoch 2/30\n",
      "469/469 [==============================] - 5s 11ms/step - loss: 0.0319 - val_loss: 0.0239\n",
      "Epoch 3/30\n",
      "469/469 [==============================] - 5s 11ms/step - loss: 0.0234 - val_loss: 0.0207\n",
      "Epoch 4/30\n",
      "469/469 [==============================] - 5s 11ms/step - loss: 0.0204 - val_loss: 0.0190\n",
      "Epoch 5/30\n",
      "469/469 [==============================] - 5s 11ms/step - loss: 0.0188 - val_loss: 0.0182\n",
      "Epoch 6/30\n",
      "469/469 [==============================] - 5s 11ms/step - loss: 0.0180 - val_loss: 0.0177\n",
      "Epoch 7/30\n",
      "469/469 [==============================] - 5s 11ms/step - loss: 0.0174 - val_loss: 0.0173\n",
      "Epoch 8/30\n",
      "469/469 [==============================] - 5s 11ms/step - loss: 0.0171 - val_loss: 0.0172\n",
      "Epoch 9/30\n",
      "469/469 [==============================] - 5s 11ms/step - loss: 0.0168 - val_loss: 0.0169\n",
      "Epoch 10/30\n",
      "469/469 [==============================] - 5s 11ms/step - loss: 0.0164 - val_loss: 0.0169\n",
      "Epoch 11/30\n",
      "469/469 [==============================] - 5s 11ms/step - loss: 0.0161 - val_loss: 0.0165\n",
      "Epoch 12/30\n",
      "469/469 [==============================] - 5s 11ms/step - loss: 0.0161 - val_loss: 0.0164\n",
      "Epoch 13/30\n",
      "469/469 [==============================] - 5s 11ms/step - loss: 0.0158 - val_loss: 0.0163\n",
      "Epoch 14/30\n",
      "469/469 [==============================] - 5s 11ms/step - loss: 0.0156 - val_loss: 0.0163\n",
      "Epoch 15/30\n",
      "469/469 [==============================] - 5s 11ms/step - loss: 0.0156 - val_loss: 0.0165\n",
      "Epoch 16/30\n",
      "469/469 [==============================] - 5s 11ms/step - loss: 0.0155 - val_loss: 0.0162\n",
      "Epoch 17/30\n",
      "469/469 [==============================] - 5s 11ms/step - loss: 0.0153 - val_loss: 0.0161\n",
      "Epoch 18/30\n",
      "469/469 [==============================] - 5s 11ms/step - loss: 0.0152 - val_loss: 0.0160\n",
      "Epoch 19/30\n",
      "469/469 [==============================] - 5s 11ms/step - loss: 0.0151 - val_loss: 0.0159\n",
      "Epoch 20/30\n",
      "469/469 [==============================] - 5s 11ms/step - loss: 0.0150 - val_loss: 0.0161\n",
      "Epoch 21/30\n",
      "469/469 [==============================] - 5s 11ms/step - loss: 0.0150 - val_loss: 0.0158\n",
      "Epoch 22/30\n",
      "469/469 [==============================] - 5s 11ms/step - loss: 0.0149 - val_loss: 0.0159\n",
      "Epoch 23/30\n",
      "469/469 [==============================] - 5s 11ms/step - loss: 0.0148 - val_loss: 0.0159\n",
      "Epoch 24/30\n",
      "469/469 [==============================] - 5s 11ms/step - loss: 0.0149 - val_loss: 0.0159\n",
      "Epoch 25/30\n",
      "469/469 [==============================] - 5s 11ms/step - loss: 0.0147 - val_loss: 0.0158\n",
      "Epoch 26/30\n",
      "469/469 [==============================] - 5s 11ms/step - loss: 0.0146 - val_loss: 0.0159\n",
      "Epoch 27/30\n",
      "469/469 [==============================] - 5s 11ms/step - loss: 0.0147 - val_loss: 0.0158\n",
      "Epoch 28/30\n",
      "469/469 [==============================] - 5s 11ms/step - loss: 0.0146 - val_loss: 0.0158\n",
      "Epoch 29/30\n",
      "469/469 [==============================] - 5s 11ms/step - loss: 0.0145 - val_loss: 0.0157\n",
      "Epoch 30/30\n",
      "469/469 [==============================] - 6s 12ms/step - loss: 0.0145 - val_loss: 0.0157\n"
     ]
    }
   ],
   "source": [
    "# Запускаем модель на обучение, используя незашумленные данные как эталонные.\n",
    "history = autoencoder.fit(\n",
    "    x_train_noisy,\n",
    "    x_train,\n",
    "    validation_data=(x_test_noisy, x_test),\n",
    "    epochs=30,\n",
    "    batch_size=batch_size\n",
    ")"
   ]
  },
  {
   "cell_type": "code",
   "execution_count": 67,
   "id": "dense-raleigh",
   "metadata": {},
   "outputs": [],
   "source": [
    "autoencoder.save('autoencoder.h5')\n",
    "autoencoder.save_weights('autoencoder_weights.h5')"
   ]
  },
  {
   "cell_type": "code",
   "execution_count": 68,
   "id": "surrounded-attention",
   "metadata": {},
   "outputs": [],
   "source": [
    "encoded_imgs = encoder.predict(x_test_noisy)\n",
    "decoded_imgs = decoder.predict(encoded_imgs)"
   ]
  },
  {
   "cell_type": "code",
   "execution_count": 72,
   "id": "noted-harbor",
   "metadata": {},
   "outputs": [
    {
     "data": {
      "image/png": "[encoded data removed]",
      "text/plain": [
       "<Figure size 432x288 with 24 Axes>"
      ]
     },
     "metadata": {
      "needs_background": "light"
     },
     "output_type": "display_data"
    }
   ],
   "source": [
    "import matplotlib.pyplot as plt\n",
    "\n",
    "n = 8  # How many digits we will display\n",
    "\n",
    "for i in range(n):\n",
    "    # Display original\n",
    "    ax = plt.subplot(3, n, i + 1)\n",
    "    plt.imshow(x_test_noisy[i].reshape(28, 28))\n",
    "    plt.gray()\n",
    "    ax.get_xaxis().set_visible(False)\n",
    "    ax.get_yaxis().set_visible(False)\n",
    "    \n",
    "    # Display encoded\n",
    "    ax = plt.subplot(3, n, i + 1 + n)\n",
    "    plt.imshow(encoded_imgs[i].reshape(4, 4))\n",
    "    plt.gray()\n",
    "    ax.get_xaxis().set_visible(False)\n",
    "    ax.get_yaxis().set_visible(False)\n",
    "    \n",
    "    \n",
    "    # Display decoded\n",
    "    ax = plt.subplot(3, n, i + 1 + 2 * n)\n",
    "    plt.imshow(decoded_imgs[i].reshape(28, 28))\n",
    "    plt.gray()\n",
    "    ax.get_xaxis().set_visible(False)\n",
    "    ax.get_yaxis().set_visible(False)\n",
    "    \n",
    "plt.show()"
   ]
  },
  {
   "cell_type": "markdown",
   "id": "potential-brush",
   "metadata": {},
   "source": [
    "### 2.3"
   ]
  },
  {
   "cell_type": "code",
   "execution_count": 27,
   "id": "banner-elevation",
   "metadata": {},
   "outputs": [],
   "source": [
    "input_shape = (image_size, image_size, 1)\n",
    "batch_size = 128\n",
    "kernel_size = 3\n",
    "latent_dim = 16\n",
    "layer_filters = [32, 64, 128]"
   ]
  },
  {
   "cell_type": "code",
   "execution_count": 29,
   "id": "known-miller",
   "metadata": {},
   "outputs": [
    {
     "name": "stdout",
     "output_type": "stream",
     "text": [
      "Model: \"encoder\"\n",
      "_________________________________________________________________\n",
      "Layer (type)                 Output Shape              Param #   \n",
      "=================================================================\n",
      "encoder_input (InputLayer)   [(None, 28, 28, 1)]       0         \n",
      "_________________________________________________________________\n",
      "conv2d_6 (Conv2D)            (None, 14, 14, 32)        320       \n",
      "_________________________________________________________________\n",
      "conv2d_7 (Conv2D)            (None, 7, 7, 64)          18496     \n",
      "_________________________________________________________________\n",
      "conv2d_8 (Conv2D)            (None, 7, 7, 128)         73856     \n",
      "_________________________________________________________________\n",
      "flatten_1 (Flatten)          (None, 6272)              0         \n",
      "_________________________________________________________________\n",
      "latent_vector (Dense)        (None, 16)                100368    \n",
      "=================================================================\n",
      "Total params: 193,040\n",
      "Trainable params: 193,040\n",
      "Non-trainable params: 0\n",
      "_________________________________________________________________\n"
     ]
    }
   ],
   "source": [
    "from keras.layers import Activation, Dense, Input\n",
    "from keras.layers import Conv2D, Flatten\n",
    "from keras.layers import Reshape, Conv2DTranspose\n",
    "from keras.models import Model\n",
    "from keras import backend as K\n",
    "\n",
    "encoder_inputs = Input(shape=input_shape, name='encoder_input')\n",
    "x = encoder_inputs\n",
    "\n",
    "for filters in layer_filters[:-1]:\n",
    "    x = Conv2D(\n",
    "        filters=filters,\n",
    "        kernel_size=kernel_size,\n",
    "        strides=2,\n",
    "        activation='relu',\n",
    "        padding='same'\n",
    "    )(x)\n",
    "    \n",
    "x = Conv2D(\n",
    "    filters=128,\n",
    "    kernel_size=kernel_size,\n",
    "    strides=1,\n",
    "    activation='relu',\n",
    "    padding='same'\n",
    ")(x)\n",
    "    \n",
    "# Запоминаем размерность выхода для построения модели декодера\n",
    "shape = K.int_shape(x)\n",
    "\n",
    "# Преобразуем многомерный массив в вектор\n",
    "x = Flatten()(x)\n",
    "latent = Dense(latent_dim, name='latent_vector')(x)\n",
    "# Итоговый код - одномерный вектор меньшей размерности (latent_dim)\n",
    "\n",
    "# Итоговая модель энкодера:\n",
    "encoder = Model(encoder_inputs , latent, name='encoder')\n",
    "encoder.summary()"
   ]
  },
  {
   "cell_type": "code",
   "execution_count": 30,
   "id": "equal-patrol",
   "metadata": {},
   "outputs": [],
   "source": [
    "latent_inputs = Input(shape=(latent_dim,), name='decoder_input')\n",
    "# Обратное преобразование к размеру \"shape\":\n",
    "x = Dense(shape[1] * shape[2] * shape[3])(latent_inputs)\n",
    "# Выход должен быть трехмерным массивом:\n",
    "x = Reshape((shape[1], shape[2], shape[3]))(x)"
   ]
  },
  {
   "cell_type": "code",
   "execution_count": 31,
   "id": "worldwide-casino",
   "metadata": {},
   "outputs": [
    {
     "name": "stdout",
     "output_type": "stream",
     "text": [
      "Model: \"decoder\"\n",
      "_________________________________________________________________\n",
      "Layer (type)                 Output Shape              Param #   \n",
      "=================================================================\n",
      "decoder_input (InputLayer)   [(None, 16)]              0         \n",
      "_________________________________________________________________\n",
      "dense_1 (Dense)              (None, 6272)              106624    \n",
      "_________________________________________________________________\n",
      "reshape_1 (Reshape)          (None, 7, 7, 128)         0         \n",
      "_________________________________________________________________\n",
      "conv2d_transpose_2 (Conv2DTr (None, 7, 7, 128)         147584    \n",
      "_________________________________________________________________\n",
      "conv2d_transpose_3 (Conv2DTr (None, 14, 14, 64)        73792     \n",
      "_________________________________________________________________\n",
      "conv2d_transpose_4 (Conv2DTr (None, 28, 28, 32)        18464     \n",
      "_________________________________________________________________\n",
      "conv2d_transpose_5 (Conv2DTr (None, 28, 28, 1)         289       \n",
      "_________________________________________________________________\n",
      "decoder_output (Activation)  (None, 28, 28, 1)         0         \n",
      "=================================================================\n",
      "Total params: 346,753\n",
      "Trainable params: 346,753\n",
      "Non-trainable params: 0\n",
      "_________________________________________________________________\n"
     ]
    }
   ],
   "source": [
    "x = Conv2DTranspose(\n",
    "    filters=128,\n",
    "    kernel_size=kernel_size,\n",
    "    strides=1,\n",
    "    activation='relu',\n",
    "    padding='same'\n",
    ")(x)\n",
    "\n",
    "for filters in layer_filters[::-1][1:]:\n",
    "    x = Conv2DTranspose(\n",
    "        filters=filters,\n",
    "        kernel_size=kernel_size,\n",
    "        strides=2,\n",
    "        activation='relu',\n",
    "        padding='same'\n",
    "    )(x)\n",
    "    \n",
    "x = Conv2DTranspose(\n",
    "    filters=1,\n",
    "    kernel_size=kernel_size,\n",
    "    padding='same'\n",
    ")(x)\n",
    "\n",
    "outputs = Activation('sigmoid', name='decoder_output')(x)\n",
    "\n",
    "decoder = Model(latent_inputs, outputs, name='decoder')\n",
    "decoder.summary()"
   ]
  },
  {
   "cell_type": "code",
   "execution_count": 32,
   "id": "south-airline",
   "metadata": {},
   "outputs": [],
   "source": [
    "autoencoder = Model(\n",
    "    encoder_inputs,\n",
    "    decoder(encoder(encoder_inputs)),\n",
    "    name='autoencoder'\n",
    ")\n",
    "autoencoder.compile(loss='mse', optimizer='adam')"
   ]
  },
  {
   "cell_type": "code",
   "execution_count": 33,
   "id": "measured-arthur",
   "metadata": {},
   "outputs": [
    {
     "name": "stdout",
     "output_type": "stream",
     "text": [
      "Epoch 1/30\n",
      "469/469 [==============================] - 11s 16ms/step - loss: 0.0784 - val_loss: 0.0256\n",
      "Epoch 2/30\n",
      "469/469 [==============================] - 7s 15ms/step - loss: 0.0228 - val_loss: 0.0181\n",
      "Epoch 3/30\n",
      "469/469 [==============================] - 7s 15ms/step - loss: 0.0178 - val_loss: 0.0166\n",
      "Epoch 4/30\n",
      "469/469 [==============================] - 7s 15ms/step - loss: 0.0164 - val_loss: 0.0157\n",
      "Epoch 5/30\n",
      "469/469 [==============================] - 7s 15ms/step - loss: 0.0155 - val_loss: 0.0156\n",
      "Epoch 6/30\n",
      "469/469 [==============================] - 7s 15ms/step - loss: 0.0149 - val_loss: 0.0151\n",
      "Epoch 7/30\n",
      "469/469 [==============================] - 7s 15ms/step - loss: 0.0144 - val_loss: 0.0149\n",
      "Epoch 8/30\n",
      "469/469 [==============================] - 7s 15ms/step - loss: 0.0140 - val_loss: 0.0152\n",
      "Epoch 9/30\n",
      "469/469 [==============================] - 7s 15ms/step - loss: 0.0138 - val_loss: 0.0151\n",
      "Epoch 10/30\n",
      "469/469 [==============================] - 7s 15ms/step - loss: 0.0134 - val_loss: 0.0147\n",
      "Epoch 11/30\n",
      "469/469 [==============================] - 7s 15ms/step - loss: 0.0133 - val_loss: 0.0146\n",
      "Epoch 12/30\n",
      "469/469 [==============================] - 7s 15ms/step - loss: 0.0129 - val_loss: 0.0146\n",
      "Epoch 13/30\n",
      "469/469 [==============================] - 7s 15ms/step - loss: 0.0127 - val_loss: 0.0145\n",
      "Epoch 14/30\n",
      "469/469 [==============================] - 7s 15ms/step - loss: 0.0126 - val_loss: 0.0145\n",
      "Epoch 15/30\n",
      "469/469 [==============================] - 7s 15ms/step - loss: 0.0124 - val_loss: 0.0144\n",
      "Epoch 16/30\n",
      "469/469 [==============================] - 7s 15ms/step - loss: 0.0122 - val_loss: 0.0145\n",
      "Epoch 17/30\n",
      "469/469 [==============================] - 7s 15ms/step - loss: 0.0121 - val_loss: 0.0146\n",
      "Epoch 18/30\n",
      "469/469 [==============================] - 7s 15ms/step - loss: 0.0119 - val_loss: 0.0145\n",
      "Epoch 19/30\n",
      "469/469 [==============================] - 8s 16ms/step - loss: 0.0118 - val_loss: 0.0145\n",
      "Epoch 20/30\n",
      "469/469 [==============================] - 7s 15ms/step - loss: 0.0117 - val_loss: 0.0147\n",
      "Epoch 21/30\n",
      "469/469 [==============================] - 7s 16ms/step - loss: 0.0115 - val_loss: 0.0147\n",
      "Epoch 22/30\n",
      "469/469 [==============================] - 7s 16ms/step - loss: 0.0115 - val_loss: 0.0147\n",
      "Epoch 23/30\n",
      "469/469 [==============================] - 7s 16ms/step - loss: 0.0114 - val_loss: 0.0146\n",
      "Epoch 24/30\n",
      "469/469 [==============================] - 7s 16ms/step - loss: 0.0113 - val_loss: 0.0148\n",
      "Epoch 25/30\n",
      "469/469 [==============================] - 7s 15ms/step - loss: 0.0112 - val_loss: 0.0150\n",
      "Epoch 26/30\n",
      "469/469 [==============================] - 7s 15ms/step - loss: 0.0111 - val_loss: 0.0148\n",
      "Epoch 27/30\n",
      "469/469 [==============================] - 7s 15ms/step - loss: 0.0111 - val_loss: 0.0148\n",
      "Epoch 28/30\n",
      "469/469 [==============================] - 7s 15ms/step - loss: 0.0109 - val_loss: 0.0148\n",
      "Epoch 29/30\n",
      "469/469 [==============================] - 7s 15ms/step - loss: 0.0109 - val_loss: 0.0150\n",
      "Epoch 30/30\n",
      "469/469 [==============================] - 7s 15ms/step - loss: 0.0108 - val_loss: 0.0150\n"
     ]
    }
   ],
   "source": [
    "history = autoencoder.fit(\n",
    "    x_train_noisy,\n",
    "    x_train,\n",
    "    validation_data=(x_test_noisy, x_test),\n",
    "    epochs=30,\n",
    "    batch_size=batch_size\n",
    ")"
   ]
  },
  {
   "cell_type": "code",
   "execution_count": 35,
   "id": "victorian-olive",
   "metadata": {},
   "outputs": [],
   "source": [
    "autoencoder.save('autoencoder_alt.h5')\n",
    "autoencoder.save_weights('autoencoder_weights_alt.h5')"
   ]
  },
  {
   "cell_type": "code",
   "execution_count": 36,
   "id": "fundamental-contract",
   "metadata": {},
   "outputs": [],
   "source": [
    "encoded_imgs = encoder.predict(x_test_noisy)\n",
    "decoded_imgs = decoder.predict(encoded_imgs)"
   ]
  },
  {
   "cell_type": "code",
   "execution_count": 39,
   "id": "unusual-aurora",
   "metadata": {},
   "outputs": [
    {
     "data": {
      "image/png": "[encoded data removed]",
      "text/plain": [
       "<Figure size 432x288 with 24 Axes>"
      ]
     },
     "metadata": {
      "needs_background": "light"
     },
     "output_type": "display_data"
    }
   ],
   "source": [
    "import matplotlib.pyplot as plt\n",
    "\n",
    "n = 8  # How many digits we will display\n",
    "\n",
    "for i in range(n):\n",
    "    # Display original\n",
    "    ax = plt.subplot(3, n, i + 1)\n",
    "    plt.imshow(x_test_noisy[i].reshape(28, 28))\n",
    "    plt.gray()\n",
    "    ax.get_xaxis().set_visible(False)\n",
    "    ax.get_yaxis().set_visible(False)\n",
    "    \n",
    "    # Display encoded\n",
    "    ax = plt.subplot(3, n, i + 1 + n)\n",
    "    plt.imshow(encoded_imgs[i].reshape(4, 4))\n",
    "    plt.gray()\n",
    "    ax.get_xaxis().set_visible(False)\n",
    "    ax.get_yaxis().set_visible(False)\n",
    "    \n",
    "    \n",
    "    # Display decoded\n",
    "    ax = plt.subplot(3, n, i + 1 + 2 * n)\n",
    "    plt.imshow(decoded_imgs[i].reshape(28, 28))\n",
    "    plt.gray()\n",
    "    ax.get_xaxis().set_visible(False)\n",
    "    ax.get_yaxis().set_visible(False)\n",
    "    \n",
    "plt.show()"
   ]
  },
  {
   "cell_type": "code",
   "execution_count": null,
   "id": "technological-optics",
   "metadata": {},
   "outputs": [],
   "source": []
  }
 ],
 "metadata": {
  "kernelspec": {
   "display_name": "Python 3",
   "language": "python",
   "name": "python3"
  },
  "language_info": {
   "codemirror_mode": {
    "name": "ipython",
    "version": 3
   },
   "file_extension": ".py",
   "mimetype": "text/x-python",
   "name": "python",
   "nbconvert_exporter": "python",
   "pygments_lexer": "ipython3",
   "version": "3.8.7"
  }
 },
 "nbformat": 4,
 "nbformat_minor": 5
}
