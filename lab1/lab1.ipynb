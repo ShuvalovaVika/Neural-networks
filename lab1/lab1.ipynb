{
 "cells": [
  {
   "cell_type": "code",
   "execution_count": 68,
   "metadata": {},
   "outputs": [],
   "source": [
    "import pandas as pd             # Таблицы и временные ряды (dataframe, series)\n",
    "import numpy as np              # Массивы (матрицы, векторы, линейная алгебра)\n",
    "import matplotlib.pyplot as plt  # Научная графика\n",
    "%matplotlib inline"
   ]
  },
  {
   "cell_type": "markdown",
   "metadata": {},
   "source": [
    "#### 0. Иницилизация начальных данных"
   ]
  },
  {
   "cell_type": "code",
   "execution_count": 69,
   "metadata": {},
   "outputs": [
    {
     "data": {
      "text/plain": [
       "RangeIndex(start=0, stop=767, step=1)"
      ]
     },
     "execution_count": 69,
     "metadata": {},
     "output_type": "execute_result"
    }
   ],
   "source": [
    "data_raw = pd.read_csv(\"./pima-indians-diabetes.data.csv\")\n",
    "data_raw.index"
   ]
  },
  {
   "cell_type": "code",
   "execution_count": 70,
   "metadata": {},
   "outputs": [
    {
     "name": "stdout",
     "output_type": "stream",
     "text": [
      "      6  148  72  35    0  33.6  0.627  50  1\n",
      "0     1   85  66  29    0  26.6  0.351  31  0\n",
      "1     8  183  64   0    0  23.3  0.672  32  1\n",
      "2     1   89  66  23   94  28.1  0.167  21  0\n",
      "3     0  137  40  35  168  43.1  2.288  33  1\n",
      "4     5  116  74   0    0  25.6  0.201  30  0\n",
      "..   ..  ...  ..  ..  ...   ...    ...  .. ..\n",
      "762  10  101  76  48  180  32.9  0.171  63  0\n",
      "763   2  122  70  27    0  36.8  0.340  27  0\n",
      "764   5  121  72  23  112  26.2  0.245  30  0\n",
      "765   1  126  60   0    0  30.1  0.349  47  1\n",
      "766   1   93  70  31    0  30.4  0.315  23  0\n",
      "\n",
      "[767 rows x 9 columns]\n"
     ]
    }
   ],
   "source": [
    "print(data_raw)"
   ]
  },
  {
   "cell_type": "code",
   "execution_count": 71,
   "metadata": {},
   "outputs": [],
   "source": [
    "from keras.models import Sequential\n",
    "from keras.layers import Dense\n",
    "from sklearn.model_selection import train_test_split"
   ]
  },
  {
   "cell_type": "markdown",
   "metadata": {},
   "source": [
    "#### 1. Разбиение датасета"
   ]
  },
  {
   "cell_type": "code",
   "execution_count": 72,
   "metadata": {},
   "outputs": [],
   "source": [
    "X = data_raw.iloc[: , 0:8]\n",
    "y = data_raw.iloc[: , 8]\n",
    "\n",
    "test_size = 0.33\n",
    "random_state = 42\n",
    "X_train, X_test, y_train, y_test = train_test_split(X, y, test_size=test_size, random_state=random_state)"
   ]
  },
  {
   "cell_type": "markdown",
   "metadata": {},
   "source": [
    "#### 2. Иницилизация вспомогательных массивов"
   ]
  },
  {
   "cell_type": "code",
   "execution_count": 73,
   "metadata": {},
   "outputs": [],
   "source": [
    "train_acc = []\n",
    "train_err = []\n",
    "test_acc = []\n",
    "test_err = []\n",
    "train_acc_1 = []\n",
    "train_err_1 = []\n",
    "test_acc_1 = []\n",
    "test_err_1 = []"
   ]
  },
  {
   "cell_type": "markdown",
   "metadata": {},
   "source": [
    "#### 3. Обучение сети 35+10 на различном количестве эпох(100, 150, 200)"
   ]
  },
  {
   "cell_type": "code",
   "execution_count": 74,
   "metadata": {},
   "outputs": [
    {
     "name": "stdout",
     "output_type": "stream",
     "text": [
      "17/17 [==============================] - 1s 5ms/step - loss: 0.5586 - accuracy: 0.6862\n",
      "Train loss: 0.5586198568344116 / Train accuracy: 0.6861598491668701\n",
      "8/8 [==============================] - 0s 5ms/step - loss: 0.5756 - accuracy: 0.7205\n",
      "Test loss: 0.5756120085716248 / Test accuracy: 0.7204724550247192\n"
     ]
    }
   ],
   "source": [
    "model = Sequential() \n",
    "model.add(Dense(35, input_dim=8, activation='relu'))\n",
    "model.add(Dense(10, activation='relu'))\n",
    "model.add(Dense(1, activation='sigmoid'))\n",
    "model.compile(loss='binary_crossentropy', optimizer='adam', metrics=['accuracy'])\n",
    "model.fit(X_train, y_train, epochs=100, batch_size=15, verbose=0)\n",
    "scores = model.evaluate(X_train, y_train)\n",
    "train_err.append(scores[0])\n",
    "train_acc.append(scores[1])\n",
    "print(f'Train loss: {scores[0]} / Train accuracy: {scores[1]}')\n",
    "scores = model.evaluate(X_test, y_test)\n",
    "test_err.append(scores[0])\n",
    "test_acc.append(scores[1])\n",
    "print(f'Test loss: {scores[0]} / Test accuracy: {scores[1]}')"
   ]
  },
  {
   "cell_type": "code",
   "execution_count": 75,
   "metadata": {},
   "outputs": [
    {
     "name": "stdout",
     "output_type": "stream",
     "text": [
      "17/17 [==============================] - 0s 8ms/step - loss: 0.4531 - accuracy: 0.7895\n",
      "Train loss: 0.4531230926513672 / Train accuracy: 0.7894737124443054\n",
      "8/8 [==============================] - 0s 4ms/step - loss: 0.6087 - accuracy: 0.7244\n",
      "Test loss: 0.6087000966072083 / Test accuracy: 0.7244094610214233\n"
     ]
    }
   ],
   "source": [
    "model = Sequential() \n",
    "model.add(Dense(35, input_dim=8, activation='relu'))\n",
    "model.add(Dense(10, activation='relu'))\n",
    "model.add(Dense(1, activation='sigmoid'))\n",
    "model.compile(loss='binary_crossentropy', optimizer='adam', metrics=['accuracy'])\n",
    "model.fit(X_train, y_train, epochs=150, batch_size=15, verbose=0)\n",
    "scores = model.evaluate(X_train, y_train)\n",
    "train_err.append(scores[0])\n",
    "train_acc.append(scores[1])\n",
    "print(f'Train loss: {scores[0]} / Train accuracy: {scores[1]}')\n",
    "scores = model.evaluate(X_test, y_test)\n",
    "test_err.append(scores[0])\n",
    "test_acc.append(scores[1])\n",
    "print(f'Test loss: {scores[0]} / Test accuracy: {scores[1]}')"
   ]
  },
  {
   "cell_type": "code",
   "execution_count": 76,
   "metadata": {},
   "outputs": [
    {
     "name": "stdout",
     "output_type": "stream",
     "text": [
      "17/17 [==============================] - 0s 4ms/step - loss: 0.4573 - accuracy: 0.7817\n",
      "Train loss: 0.45725342631340027 / Train accuracy: 0.7816764116287231\n",
      "8/8 [==============================] - 0s 4ms/step - loss: 0.6945 - accuracy: 0.7087\n",
      "Test loss: 0.6945465207099915 / Test accuracy: 0.7086614370346069\n"
     ]
    }
   ],
   "source": [
    "model = Sequential() \n",
    "model.add(Dense(35, input_dim=8, activation='relu'))\n",
    "model.add(Dense(10, activation='relu'))\n",
    "model.add(Dense(1, activation='sigmoid'))\n",
    "model.compile(loss='binary_crossentropy', optimizer='adam', metrics=['accuracy'])\n",
    "model.fit(X_train, y_train, epochs=200, batch_size=15, verbose=0)\n",
    "scores = model.evaluate(X_train, y_train)\n",
    "train_err.append(scores[0])\n",
    "train_acc.append(scores[1])\n",
    "print(f'Train loss: {scores[0]} / Train accuracy: {scores[1]}')\n",
    "scores = model.evaluate(X_test, y_test)\n",
    "test_err.append(scores[0])\n",
    "test_acc.append(scores[1])\n",
    "print(f'Test loss: {scores[0]} / Test accuracy: {scores[1]}')"
   ]
  },
  {
   "cell_type": "markdown",
   "metadata": {},
   "source": [
    "#### 4. Обучение сети 350+100 на различном количестве эпох(100, 150, 200)"
   ]
  },
  {
   "cell_type": "code",
   "execution_count": 77,
   "metadata": {},
   "outputs": [
    {
     "name": "stdout",
     "output_type": "stream",
     "text": [
      "17/17 [==============================] - 0s 5ms/step - loss: 0.6555 - accuracy: 0.7135\n",
      "Train loss: 0.6554504036903381 / Train accuracy: 0.7134503126144409\n",
      "8/8 [==============================] - 0s 4ms/step - loss: 0.7465 - accuracy: 0.7008\n",
      "Test loss: 0.7464808821678162 / Test accuracy: 0.7007874250411987\n"
     ]
    }
   ],
   "source": [
    "model = Sequential() \n",
    "model.add(Dense(350, input_dim=8, activation='relu'))\n",
    "model.add(Dense(100, activation='relu'))\n",
    "model.add(Dense(1, activation='sigmoid'))\n",
    "model.compile(loss='binary_crossentropy', optimizer='adam', metrics=['accuracy'])\n",
    "model.fit(X_train, y_train, epochs=100, batch_size=15, verbose=0)\n",
    "scores = model.evaluate(X_train, y_train)\n",
    "train_err_1.append(scores[0])\n",
    "train_acc_1.append(scores[1])\n",
    "print(f'Train loss: {scores[0]} / Train accuracy: {scores[1]}')\n",
    "scores = model.evaluate(X_test, y_test)\n",
    "test_err_1.append(scores[0])\n",
    "test_acc_1.append(scores[1])\n",
    "print(f'Test loss: {scores[0]} / Test accuracy: {scores[1]}')"
   ]
  },
  {
   "cell_type": "code",
   "execution_count": 78,
   "metadata": {},
   "outputs": [
    {
     "name": "stdout",
     "output_type": "stream",
     "text": [
      "17/17 [==============================] - 1s 5ms/step - loss: 0.4028 - accuracy: 0.8031\n",
      "Train loss: 0.40275681018829346 / Train accuracy: 0.803118884563446\n",
      "8/8 [==============================] - 0s 7ms/step - loss: 0.6992 - accuracy: 0.6850\n",
      "Test loss: 0.6991972327232361 / Test accuracy: 0.6850393414497375\n"
     ]
    }
   ],
   "source": [
    "model = Sequential() \n",
    "model.add(Dense(350, input_dim=8, activation='relu'))\n",
    "model.add(Dense(100, activation='relu'))\n",
    "model.add(Dense(1, activation='sigmoid'))\n",
    "model.compile(loss='binary_crossentropy', optimizer='adam', metrics=['accuracy'])\n",
    "model.fit(X_train, y_train, epochs=150, batch_size=15, verbose=0)\n",
    "scores = model.evaluate(X_train, y_train)\n",
    "train_err_1.append(scores[0])\n",
    "train_acc_1.append(scores[1])\n",
    "print(f'Train loss: {scores[0]} / Train accuracy: {scores[1]}')\n",
    "scores = model.evaluate(X_test, y_test)\n",
    "test_err_1.append(scores[0])\n",
    "test_acc_1.append(scores[1])\n",
    "print(f'Test loss: {scores[0]} / Test accuracy: {scores[1]}')"
   ]
  },
  {
   "cell_type": "code",
   "execution_count": 79,
   "metadata": {},
   "outputs": [
    {
     "name": "stdout",
     "output_type": "stream",
     "text": [
      "17/17 [==============================] - 1s 6ms/step - loss: 0.2711 - accuracy: 0.8752\n",
      "Train loss: 0.27105996012687683 / Train accuracy: 0.8752436637878418\n",
      "8/8 [==============================] - 1s 25ms/step - loss: 0.9615 - accuracy: 0.6496\n",
      "Test loss: 0.9614810347557068 / Test accuracy: 0.6496062874794006\n"
     ]
    }
   ],
   "source": [
    "model = Sequential() \n",
    "model.add(Dense(350, input_dim=8, activation='relu'))\n",
    "model.add(Dense(100, activation='relu'))\n",
    "model.add(Dense(1, activation='sigmoid'))\n",
    "model.compile(loss='binary_crossentropy', optimizer='adam', metrics=['accuracy'])\n",
    "model.fit(X_train, y_train, epochs=200, batch_size=15, verbose=0)\n",
    "scores = model.evaluate(X_train, y_train)\n",
    "train_err_1.append(scores[0])\n",
    "train_acc_1.append(scores[1])\n",
    "print(f'Train loss: {scores[0]} / Train accuracy: {scores[1]}')\n",
    "scores = model.evaluate(X_test, y_test)\n",
    "test_err_1.append(scores[0])\n",
    "test_acc_1.append(scores[1])\n",
    "print(f'Test loss: {scores[0]} / Test accuracy: {scores[1]}')"
   ]
  },
  {
   "cell_type": "code",
   "execution_count": 80,
   "metadata": {},
   "outputs": [],
   "source": [
    "epochs = [100, 150, 200]"
   ]
  },
  {
   "cell_type": "code",
   "execution_count": 81,
   "metadata": {},
   "outputs": [
    {
     "data": {
      "text/plain": [
       "[0.6861598491668701, 0.7894737124443054, 0.7816764116287231]"
      ]
     },
     "execution_count": 81,
     "metadata": {},
     "output_type": "execute_result"
    }
   ],
   "source": [
    "train_acc"
   ]
  },
  {
   "cell_type": "markdown",
   "metadata": {},
   "source": [
    "#### 5. Сравнение точности на тестовой и тренировочной выборке для 35+10"
   ]
  },
  {
   "cell_type": "code",
   "execution_count": 82,
   "metadata": {},
   "outputs": [
    {
     "data": {
      "text/plain": [
       "<matplotlib.legend.Legend at 0x26da462d400>"
      ]
     },
     "execution_count": 82,
     "metadata": {},
     "output_type": "execute_result"
    },
    {
     "data": {
      "image/png": "[encoded data removed]",
      "text/plain": [
       "<Figure size 432x288 with 1 Axes>"
      ]
     },
     "metadata": {
      "needs_background": "light"
     },
     "output_type": "display_data"
    }
   ],
   "source": [
    "plt.plot(epochs, train_acc, 'b-o', label = 'train')\n",
    "plt.plot(epochs, test_acc, 'r-o', label = 'test')\n",
    "plt.xlim([np.min(epochs), np.max(epochs)])\n",
    "plt.title('accuracy vs. epochs')\n",
    "plt.ylabel('accuracy')\n",
    "plt.xlabel('epochs')\n",
    "plt.legend()"
   ]
  },
  {
   "cell_type": "markdown",
   "metadata": {},
   "source": [
    "#### 6. Сравнение точности на тестовой и тренировочной выборке для 350+100"
   ]
  },
  {
   "cell_type": "code",
   "execution_count": 83,
   "metadata": {},
   "outputs": [
    {
     "data": {
      "text/plain": [
       "<matplotlib.legend.Legend at 0x26da4678ca0>"
      ]
     },
     "execution_count": 83,
     "metadata": {},
     "output_type": "execute_result"
    },
    {
     "data": {
      "image/png": "[encoded data removed]",
      "text/plain": [
       "<Figure size 432x288 with 1 Axes>"
      ]
     },
     "metadata": {
      "needs_background": "light"
     },
     "output_type": "display_data"
    }
   ],
   "source": [
    "plt.plot(epochs, train_acc_1, 'b-o', label = 'train')\n",
    "plt.plot(epochs, test_acc_1, 'r-o', label = 'test')\n",
    "plt.xlim([np.min(epochs), np.max(epochs)])\n",
    "plt.title('accuracy vs. epochs')\n",
    "plt.ylabel('accuracy')\n",
    "plt.xlabel('epochs')\n",
    "plt.legend()"
   ]
  },
  {
   "cell_type": "markdown",
   "metadata": {},
   "source": [
    "#### 7. Сравнение ошибок на тестовой и тренировочной выборке для 35+10"
   ]
  },
  {
   "cell_type": "code",
   "execution_count": 84,
   "metadata": {},
   "outputs": [
    {
     "data": {
      "text/plain": [
       "<matplotlib.legend.Legend at 0x26da46d1100>"
      ]
     },
     "execution_count": 84,
     "metadata": {},
     "output_type": "execute_result"
    },
    {
     "data": {
      "image/png": "[encoded data removed]",
      "text/plain": [
       "<Figure size 432x288 with 1 Axes>"
      ]
     },
     "metadata": {
      "needs_background": "light"
     },
     "output_type": "display_data"
    }
   ],
   "source": [
    "plt.plot(epochs, train_err, 'b-o', label = 'train')\n",
    "plt.plot(epochs, test_err, 'r-o', label = 'test')\n",
    "plt.xlim([np.min(epochs), np.max(epochs)])\n",
    "plt.title('error vs. epochs')\n",
    "plt.ylabel('error')\n",
    "plt.xlabel('epochs')\n",
    "plt.legend()"
   ]
  },
  {
   "cell_type": "markdown",
   "metadata": {},
   "source": [
    "#### 8. Сравнение ошибок на тестовой и тренировочной выборке для 350+100"
   ]
  },
  {
   "cell_type": "code",
   "execution_count": 85,
   "metadata": {},
   "outputs": [
    {
     "data": {
      "text/plain": [
       "<matplotlib.legend.Legend at 0x26da4752f70>"
      ]
     },
     "execution_count": 85,
     "metadata": {},
     "output_type": "execute_result"
    },
    {
     "data": {
      "image/png": "[encoded data removed]",
      "text/plain": [
       "<Figure size 432x288 with 1 Axes>"
      ]
     },
     "metadata": {
      "needs_background": "light"
     },
     "output_type": "display_data"
    }
   ],
   "source": [
    "plt.plot(epochs, train_err_1, 'b-o', label = 'train')\n",
    "plt.plot(epochs, test_err_1, 'r-o', label = 'test')\n",
    "plt.xlim([np.min(epochs), np.max(epochs)])\n",
    "plt.title('error vs. epochs')\n",
    "plt.ylabel('error')\n",
    "plt.xlabel('epochs')\n",
    "plt.legend()"
   ]
  },
  {
   "cell_type": "markdown",
   "metadata": {},
   "source": [
    "#### 9. Сравнение точности на тестовой выборке для 35+10 и 350+100"
   ]
  },
  {
   "cell_type": "code",
   "execution_count": 86,
   "metadata": {},
   "outputs": [
    {
     "data": {
      "text/plain": [
       "<matplotlib.legend.Legend at 0x26da8fcff10>"
      ]
     },
     "execution_count": 86,
     "metadata": {},
     "output_type": "execute_result"
    },
    {
     "data": {
      "image/png": "[encoded data removed]",
      "text/plain": [
       "<Figure size 432x288 with 1 Axes>"
      ]
     },
     "metadata": {
      "needs_background": "light"
     },
     "output_type": "display_data"
    }
   ],
   "source": [
    "plt.plot(epochs, test_acc, 'b-o', label = 'test')\n",
    "plt.plot(epochs, test_acc_1, 'r-o', label = 'test_1')\n",
    "plt.xlim([np.min(epochs), np.max(epochs)])\n",
    "plt.title('accuracy vs. epochs')\n",
    "plt.ylabel('accuracy')\n",
    "plt.xlabel('epochs')\n",
    "plt.legend()"
   ]
  },
  {
   "cell_type": "markdown",
   "metadata": {},
   "source": [
    "#### 10. Сравнение точности на тренировочной выборке для 35+10 и 350+100"
   ]
  },
  {
   "cell_type": "code",
   "execution_count": 87,
   "metadata": {},
   "outputs": [
    {
     "data": {
      "text/plain": [
       "<matplotlib.legend.Legend at 0x26da905ea00>"
      ]
     },
     "execution_count": 87,
     "metadata": {},
     "output_type": "execute_result"
    },
    {
     "data": {
      "image/png": "[encoded data removed]",
      "text/plain": [
       "<Figure size 432x288 with 1 Axes>"
      ]
     },
     "metadata": {
      "needs_background": "light"
     },
     "output_type": "display_data"
    }
   ],
   "source": [
    "plt.plot(epochs, train_acc, 'b-o', label = 'train')\n",
    "plt.plot(epochs, train_acc_1, 'r-o', label = 'train_1')\n",
    "plt.xlim([np.min(epochs), np.max(epochs)])\n",
    "plt.title('accuracy vs. epochs')\n",
    "plt.ylabel('accuracy')\n",
    "plt.xlabel('epochs')\n",
    "plt.legend()"
   ]
  },
  {
   "cell_type": "markdown",
   "metadata": {},
   "source": [
    "#### 11. Выводы"
   ]
  },
  {
   "cell_type": "markdown",
   "metadata": {},
   "source": [
    "##### По данным с графиков можно сказать, что \"Большая\" и \"Маленькая\" сети переобучаются при увеличении количества эпох. "
   ]
  }
 ],
 "metadata": {
  "interpreter": {
   "hash": "0ec21e1582969ef94e201724307bc784b71a8bbb8b6131139fd1bd1d0e407099"
  },
  "kernelspec": {
   "display_name": "Python 3.9.2 64-bit",
   "language": "python",
   "name": "python3"
  },
  "language_info": {
   "codemirror_mode": {
    "name": "ipython",
    "version": 3
   },
   "file_extension": ".py",
   "mimetype": "text/x-python",
   "name": "python",
   "nbconvert_exporter": "python",
   "pygments_lexer": "ipython3",
   "version": "3.9.2"
  },
  "orig_nbformat": 4
 },
 "nbformat": 4,
 "nbformat_minor": 2
}
