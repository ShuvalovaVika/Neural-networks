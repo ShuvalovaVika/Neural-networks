{
 "cells": [
  {
   "cell_type": "markdown",
   "id": "placed-editor",
   "metadata": {},
   "source": [
    "# Лабораторная работа 3"
   ]
  },
  {
   "cell_type": "markdown",
   "id": "exact-brand",
   "metadata": {},
   "source": [
    "Проверка GPU"
   ]
  },
  {
   "cell_type": "code",
   "execution_count": 1,
   "id": "completed-elder",
   "metadata": {},
   "outputs": [
    {
     "name": "stdout",
     "output_type": "stream",
     "text": [
      "[name: \"/device:CPU:0\"\n",
      "device_type: \"CPU\"\n",
      "memory_limit: 268435456\n",
      "locality {\n",
      "}\n",
      "incarnation: 15771808306142461155\n",
      ", name: \"/device:GPU:0\"\n",
      "device_type: \"GPU\"\n",
      "memory_limit: 3444506624\n",
      "locality {\n",
      "  bus_id: 1\n",
      "  links {\n",
      "  }\n",
      "}\n",
      "incarnation: 201253789323700463\n",
      "physical_device_desc: \"device: 0, name: GeForce GTX 970, pci bus id: 0000:01:00.0, compute capability: 5.2\"\n",
      "]\n"
     ]
    }
   ],
   "source": [
    "from tensorflow.python.client import device_lib\n",
    "devices = device_lib.list_local_devices()\n",
    "print(devices)"
   ]
  },
  {
   "cell_type": "markdown",
   "id": "sufficient-breathing",
   "metadata": {},
   "source": [
    "### Задание 1"
   ]
  },
  {
   "cell_type": "markdown",
   "id": "fatty-nancy",
   "metadata": {},
   "source": [
    "Импортируем датасет"
   ]
  },
  {
   "cell_type": "code",
   "execution_count": 48,
   "id": "disturbed-battlefield",
   "metadata": {},
   "outputs": [
    {
     "data": {
      "text/html": [
       "<div>\n",
       "<style scoped>\n",
       "    .dataframe tbody tr th:only-of-type {\n",
       "        vertical-align: middle;\n",
       "    }\n",
       "\n",
       "    .dataframe tbody tr th {\n",
       "        vertical-align: top;\n",
       "    }\n",
       "\n",
       "    .dataframe thead th {\n",
       "        text-align: right;\n",
       "    }\n",
       "</style>\n",
       "<table border=\"1\" class=\"dataframe\">\n",
       "  <thead>\n",
       "    <tr style=\"text-align: right;\">\n",
       "      <th></th>\n",
       "      <th>category</th>\n",
       "      <th>text</th>\n",
       "    </tr>\n",
       "  </thead>\n",
       "  <tbody>\n",
       "    <tr>\n",
       "      <th>0</th>\n",
       "      <td>tech</td>\n",
       "      <td>tv future in the hands of viewers with home th...</td>\n",
       "    </tr>\n",
       "    <tr>\n",
       "      <th>1</th>\n",
       "      <td>business</td>\n",
       "      <td>worldcom boss  left books alone  former worldc...</td>\n",
       "    </tr>\n",
       "    <tr>\n",
       "      <th>2</th>\n",
       "      <td>sport</td>\n",
       "      <td>tigers wary of farrell  gamble  leicester say ...</td>\n",
       "    </tr>\n",
       "    <tr>\n",
       "      <th>3</th>\n",
       "      <td>sport</td>\n",
       "      <td>yeading face newcastle in fa cup premiership s...</td>\n",
       "    </tr>\n",
       "    <tr>\n",
       "      <th>4</th>\n",
       "      <td>entertainment</td>\n",
       "      <td>ocean s twelve raids box office ocean s twelve...</td>\n",
       "    </tr>\n",
       "    <tr>\n",
       "      <th>...</th>\n",
       "      <td>...</td>\n",
       "      <td>...</td>\n",
       "    </tr>\n",
       "    <tr>\n",
       "      <th>2220</th>\n",
       "      <td>business</td>\n",
       "      <td>cars pull down us retail figures us retail sal...</td>\n",
       "    </tr>\n",
       "    <tr>\n",
       "      <th>2221</th>\n",
       "      <td>politics</td>\n",
       "      <td>kilroy unveils immigration policy ex-chatshow ...</td>\n",
       "    </tr>\n",
       "    <tr>\n",
       "      <th>2222</th>\n",
       "      <td>entertainment</td>\n",
       "      <td>rem announce new glasgow concert us band rem h...</td>\n",
       "    </tr>\n",
       "    <tr>\n",
       "      <th>2223</th>\n",
       "      <td>politics</td>\n",
       "      <td>how political squabbles snowball it s become c...</td>\n",
       "    </tr>\n",
       "    <tr>\n",
       "      <th>2224</th>\n",
       "      <td>sport</td>\n",
       "      <td>souness delight at euro progress boss graeme s...</td>\n",
       "    </tr>\n",
       "  </tbody>\n",
       "</table>\n",
       "<p>2225 rows × 2 columns</p>\n",
       "</div>"
      ],
      "text/plain": [
       "           category                                               text\n",
       "0              tech  tv future in the hands of viewers with home th...\n",
       "1          business  worldcom boss  left books alone  former worldc...\n",
       "2             sport  tigers wary of farrell  gamble  leicester say ...\n",
       "3             sport  yeading face newcastle in fa cup premiership s...\n",
       "4     entertainment  ocean s twelve raids box office ocean s twelve...\n",
       "...             ...                                                ...\n",
       "2220       business  cars pull down us retail figures us retail sal...\n",
       "2221       politics  kilroy unveils immigration policy ex-chatshow ...\n",
       "2222  entertainment  rem announce new glasgow concert us band rem h...\n",
       "2223       politics  how political squabbles snowball it s become c...\n",
       "2224          sport  souness delight at euro progress boss graeme s...\n",
       "\n",
       "[2225 rows x 2 columns]"
      ]
     },
     "execution_count": 48,
     "metadata": {},
     "output_type": "execute_result"
    }
   ],
   "source": [
    "import pandas as pd\n",
    "\n",
    "df = pd.read_csv('bbc-text.csv')\n",
    "df"
   ]
  },
  {
   "cell_type": "code",
   "execution_count": 49,
   "id": "royal-parish",
   "metadata": {},
   "outputs": [
    {
     "data": {
      "text/plain": [
       "<AxesSubplot:xlabel='category', ylabel='count'>"
      ]
     },
     "execution_count": 49,
     "metadata": {},
     "output_type": "execute_result"
    },
    {
     "data": {
      "image/png": "[encoded data removed]",
      "text/plain": [
       "<Figure size 432x288 with 1 Axes>"
      ]
     },
     "metadata": {
      "needs_background": "light"
     },
     "output_type": "display_data"
    }
   ],
   "source": [
    "import seaborn as sns\n",
    "\n",
    "sns.countplot(x=df['category'])"
   ]
  },
  {
   "cell_type": "markdown",
   "id": "typical-albania",
   "metadata": {},
   "source": [
    "Смотрим пример данных"
   ]
  },
  {
   "cell_type": "code",
   "execution_count": 50,
   "id": "scheduled-kansas",
   "metadata": {},
   "outputs": [
    {
     "data": {
      "text/plain": [
       "'berlin cheers for anti-nazi film a german movie about an anti-nazi resistance heroine has drawn loud applause at berlin film festival.  sophie scholl - the final days portrays the final days of the member of the white rose movement. scholl  21  was arrested and beheaded with her brother  hans  in 1943 for distributing leaflets condemning the  abhorrent tyranny  of adolf hitler. director marc rothemund said:  i have a feeling of responsibility to keep the legacy of the scholls going.   we must somehow keep their ideas alive   he added.  the film drew on transcripts of gestapo interrogations and scholl s trial preserved in the archive of communist east germany s secret police. their discovery was the inspiration behind the film for rothemund  who worked closely with surviving relatives  including one of scholl s sisters  to ensure historical accuracy on the film. scholl and other members of the white rose resistance group first started distributing anti-nazi leaflets in the summer of 1942. they were arrested as they dropped leaflets at munich university calling for a  day of reckoning  with adolf hitler s regime. the film focuses on the six days from scholl s arrest to the intense trial which saw scholl initially deny the charges and ended with a defiant appearance. it is one of three german films vying for a top prize at the festival.  a south african film version of bizet s tragic opera carmen shot in cape town in the xhosa language has also premiered at the berlin festival. the film is entitled u-carmen ekhayelitsha or carmen in khayelitsha after the township in which the story is set. it is performed by a 40-strong music and theatre troupe in their debut film performance. the film is the first south african feature in 25 years and only the second to be nominated for a golden bear award.'"
      ]
     },
     "execution_count": 50,
     "metadata": {},
     "output_type": "execute_result"
    }
   ],
   "source": [
    "df['text'][10]"
   ]
  },
  {
   "cell_type": "markdown",
   "id": "banned-suspension",
   "metadata": {},
   "source": [
    "Подготавливаем датасет для работы с моделью"
   ]
  },
  {
   "cell_type": "code",
   "execution_count": 51,
   "id": "surgical-voltage",
   "metadata": {},
   "outputs": [
    {
     "name": "stderr",
     "output_type": "stream",
     "text": [
      "[nltk_data] Downloading package stopwords to /home/lxzrv/nltk_data...\n",
      "[nltk_data]   Package stopwords is already up-to-date!\n"
     ]
    }
   ],
   "source": [
    "import re\n",
    "import nltk\n",
    "nltk.download('stopwords')\n",
    "\n",
    "from nltk.corpus import stopwords\n",
    "\n",
    "space = re.compile('[/(){}\\[\\]\\|@,;]')\n",
    "symbols= re.compile('[^0-9a-z #+_]')\n",
    "STOPWORDS = set(stopwords.words('english'))\n",
    "\n",
    "def clean_text(text):\n",
    "    text = text.lower() # lowercase text\n",
    "    text = space.sub(' ', text) # replace REPLACE_BY_SPACE_RE symbols by space in text. substitute the matched string in REPLACE_BY_SPACE_RE with space.\n",
    "    text = symbols.sub('', text) # remove symbols which are in BAD_SYMBOLS_RE from text. substitute the matched string in BAD_SYMBOLS_RE with nothing. \n",
    "    text = text.replace('x', '')\n",
    "    # text = re.sub(r'\\W+', '', text)\n",
    "    text = ' '.join(word for word in text.split() if word not in STOPWORDS) # remove stopwors from text\n",
    "    return text"
   ]
  },
  {
   "cell_type": "markdown",
   "id": "intended-liberal",
   "metadata": {},
   "source": [
    "Проверяем"
   ]
  },
  {
   "cell_type": "code",
   "execution_count": 52,
   "id": "faced-inclusion",
   "metadata": {},
   "outputs": [
    {
     "name": "stdout",
     "output_type": "stream",
     "text": [
      "berlin cheers antinazi film german movie antinazi resistance heroine drawn loud applause berlin film festival sophie scholl final days portrays final days member white rose movement scholl 21 arrested beheaded brother hans 1943 distributing leaflets condemning abhorrent tyranny adolf hitler director marc rothemund said feeling responsibility keep legacy scholls going must somehow keep ideas alive added film drew transcripts gestapo interrogations scholl trial preserved archive communist east germany secret police discovery inspiration behind film rothemund worked closely surviving relatives including one scholl sisters ensure historical accuracy film scholl members white rose resistance group first started distributing antinazi leaflets summer 1942 arrested dropped leaflets munich university calling day reckoning adolf hitler regime film focuses si days scholl arrest intense trial saw scholl initially deny charges ended defiant appearance one three german films vying top prize festival south african film version bizet tragic opera carmen shot cape town hosa language also premiered berlin festival film entitled ucarmen ekhayelitsha carmen khayelitsha township story set performed 40strong music theatre troupe debut film performance film first south african feature 25 years second nominated golden bear award\n"
     ]
    },
    {
     "data": {
      "text/plain": [
       "181"
      ]
     },
     "execution_count": 52,
     "metadata": {},
     "output_type": "execute_result"
    }
   ],
   "source": [
    "print(clean_text(df['text'][10]))\n",
    "len(clean_text(df['text'][10]).split(' '))"
   ]
  },
  {
   "cell_type": "markdown",
   "id": "urban-harmony",
   "metadata": {},
   "source": [
    "Применяем ко всем"
   ]
  },
  {
   "cell_type": "code",
   "execution_count": 53,
   "id": "rapid-breathing",
   "metadata": {},
   "outputs": [],
   "source": [
    "df['text']=df['text'].apply(clean_text)"
   ]
  },
  {
   "cell_type": "markdown",
   "id": "sized-briefs",
   "metadata": {},
   "source": [
    "Переводим слова в коды"
   ]
  },
  {
   "cell_type": "code",
   "execution_count": 54,
   "id": "cordless-static",
   "metadata": {},
   "outputs": [
    {
     "name": "stdout",
     "output_type": "stream",
     "text": [
      "Found 32485 unique tokens.\n"
     ]
    }
   ],
   "source": [
    "from keras.preprocessing.text import Tokenizer\n",
    "from keras.preprocessing.sequence import pad_sequences\n",
    "\n",
    "tokenizer = Tokenizer(num_words=50000, filters='!\"#$%&()*+,-./:;<=>?@[\\]^_`{|}~', lower=True)\n",
    "tokenizer.fit_on_texts(df['text'].values)\n",
    "word_index = tokenizer.word_index\n",
    "print('Found %s unique tokens.' % len(word_index))"
   ]
  },
  {
   "cell_type": "code",
   "execution_count": 55,
   "id": "smaller-gregory",
   "metadata": {},
   "outputs": [
    {
     "data": {
      "text/plain": [
       "0       tv future hands viewers home theatre systems p...\n",
       "1       worldcom boss left books alone former worldcom...\n",
       "2       tigers wary farrell gamble leicester say rushe...\n",
       "3       yeading face newcastle fa cup premiership side...\n",
       "4       ocean twelve raids bo office ocean twelve crim...\n",
       "                              ...                        \n",
       "2220    cars pull us retail figures us retail sales fe...\n",
       "2221    kilroy unveils immigration policy echatshow ho...\n",
       "2222    rem announce new glasgow concert us band rem a...\n",
       "2223    political squabbles snowball become commonplac...\n",
       "2224    souness delight euro progress boss graeme soun...\n",
       "Name: text, Length: 2225, dtype: object"
      ]
     },
     "execution_count": 55,
     "metadata": {},
     "output_type": "execute_result"
    }
   ],
   "source": [
    "df['text']"
   ]
  },
  {
   "cell_type": "code",
   "execution_count": 56,
   "id": "possible-bunny",
   "metadata": {},
   "outputs": [],
   "source": [
    "df['text'] = tokenizer.texts_to_sequences(df['text'].values)"
   ]
  },
  {
   "cell_type": "code",
   "execution_count": 57,
   "id": "saving-catalyst",
   "metadata": {},
   "outputs": [
    {
     "data": {
      "text/plain": [
       "0       [84, 143, 1155, 1137, 45, 1047, 690, 5103, 118...\n",
       "1       [1537, 591, 262, 1552, 1415, 106, 1537, 591, 5...\n",
       "2       [4881, 6893, 3719, 6444, 1191, 64, 5106, 212, ...\n",
       "3       [11020, 294, 1029, 1478, 219, 971, 181, 1029, ...\n",
       "4       [3721, 4885, 5705, 332, 165, 3721, 4885, 961, ...\n",
       "                              ...                        \n",
       "2220    [1809, 2579, 7, 1185, 185, 7, 1185, 88, 589, 3...\n",
       "2221    [4660, 4824, 669, 442, 20348, 833, 820, 947, 2...\n",
       "2222    [5956, 2064, 6, 1627, 1950, 7, 341, 5956, 305,...\n",
       "2223    [343, 10078, 32470, 209, 7066, 2662, 59, 95, 2...\n",
       "2224    [2397, 7903, 859, 1157, 591, 5346, 2397, 931, ...\n",
       "Name: text, Length: 2225, dtype: object"
      ]
     },
     "execution_count": 57,
     "metadata": {},
     "output_type": "execute_result"
    }
   ],
   "source": [
    "df['text']"
   ]
  },
  {
   "cell_type": "code",
   "execution_count": 58,
   "id": "dying-proceeding",
   "metadata": {},
   "outputs": [],
   "source": [
    "df['len'] = df['text'].str.len()"
   ]
  },
  {
   "cell_type": "code",
   "execution_count": 59,
   "id": "promising-arrest",
   "metadata": {},
   "outputs": [],
   "source": [
    "df = df.sort_values(by='len')"
   ]
  },
  {
   "cell_type": "code",
   "execution_count": 60,
   "id": "sudden-solomon",
   "metadata": {},
   "outputs": [
    {
     "data": {
      "text/html": [
       "<div>\n",
       "<style scoped>\n",
       "    .dataframe tbody tr th:only-of-type {\n",
       "        vertical-align: middle;\n",
       "    }\n",
       "\n",
       "    .dataframe tbody tr th {\n",
       "        vertical-align: top;\n",
       "    }\n",
       "\n",
       "    .dataframe thead th {\n",
       "        text-align: right;\n",
       "    }\n",
       "</style>\n",
       "<table border=\"1\" class=\"dataframe\">\n",
       "  <thead>\n",
       "    <tr style=\"text-align: right;\">\n",
       "      <th></th>\n",
       "      <th>category</th>\n",
       "      <th>text</th>\n",
       "      <th>len</th>\n",
       "    </tr>\n",
       "  </thead>\n",
       "  <tbody>\n",
       "    <tr>\n",
       "      <th>323</th>\n",
       "      <td>politics</td>\n",
       "      <td>[938, 7182, 52, 554, 11383, 221, 293, 938, 193...</td>\n",
       "      <td>48</td>\n",
       "    </tr>\n",
       "    <tr>\n",
       "      <th>1768</th>\n",
       "      <td>sport</td>\n",
       "      <td>[12792, 7903, 3331, 3165, 380, 855, 12792, 671...</td>\n",
       "      <td>62</td>\n",
       "    </tr>\n",
       "    <tr>\n",
       "      <th>529</th>\n",
       "      <td>sport</td>\n",
       "      <td>[1029, 315, 10575, 1029, 380, 5346, 2397, 2414...</td>\n",
       "      <td>64</td>\n",
       "    </tr>\n",
       "    <tr>\n",
       "      <th>91</th>\n",
       "      <td>sport</td>\n",
       "      <td>[9951, 8183, 660, 295, 629, 167, 1384, 13043, ...</td>\n",
       "      <td>68</td>\n",
       "    </tr>\n",
       "    <tr>\n",
       "      <th>810</th>\n",
       "      <td>sport</td>\n",
       "      <td>[2903, 1710, 6, 1054, 629, 167, 3233, 8326, 29...</td>\n",
       "      <td>72</td>\n",
       "    </tr>\n",
       "    <tr>\n",
       "      <th>...</th>\n",
       "      <td>...</td>\n",
       "      <td>...</td>\n",
       "      <td>...</td>\n",
       "    </tr>\n",
       "    <tr>\n",
       "      <th>880</th>\n",
       "      <td>entertainment</td>\n",
       "      <td>[6427, 1439, 6042, 1868, 6, 10786, 480, 3480, ...</td>\n",
       "      <td>1254</td>\n",
       "    </tr>\n",
       "    <tr>\n",
       "      <th>482</th>\n",
       "      <td>tech</td>\n",
       "      <td>[1277, 163, 540, 163, 255, 240, 51, 17019, 170...</td>\n",
       "      <td>1488</td>\n",
       "    </tr>\n",
       "    <tr>\n",
       "      <th>677</th>\n",
       "      <td>politics</td>\n",
       "      <td>[1324, 1510, 843, 8659, 1324, 1510, 211, 563, ...</td>\n",
       "      <td>1696</td>\n",
       "    </tr>\n",
       "    <tr>\n",
       "      <th>1615</th>\n",
       "      <td>entertainment</td>\n",
       "      <td>[4350, 3728, 2997, 3297, 7, 341, 4350, 3728, 5...</td>\n",
       "      <td>1825</td>\n",
       "    </tr>\n",
       "    <tr>\n",
       "      <th>408</th>\n",
       "      <td>politics</td>\n",
       "      <td>[1442, 1148, 8413, 5378, 250, 270, 2085, 16, 9...</td>\n",
       "      <td>2213</td>\n",
       "    </tr>\n",
       "  </tbody>\n",
       "</table>\n",
       "<p>2225 rows × 3 columns</p>\n",
       "</div>"
      ],
      "text/plain": [
       "           category                                               text   len\n",
       "323        politics  [938, 7182, 52, 554, 11383, 221, 293, 938, 193...    48\n",
       "1768          sport  [12792, 7903, 3331, 3165, 380, 855, 12792, 671...    62\n",
       "529           sport  [1029, 315, 10575, 1029, 380, 5346, 2397, 2414...    64\n",
       "91            sport  [9951, 8183, 660, 295, 629, 167, 1384, 13043, ...    68\n",
       "810           sport  [2903, 1710, 6, 1054, 629, 167, 3233, 8326, 29...    72\n",
       "...             ...                                                ...   ...\n",
       "880   entertainment  [6427, 1439, 6042, 1868, 6, 10786, 480, 3480, ...  1254\n",
       "482            tech  [1277, 163, 540, 163, 255, 240, 51, 17019, 170...  1488\n",
       "677        politics  [1324, 1510, 843, 8659, 1324, 1510, 211, 563, ...  1696\n",
       "1615  entertainment  [4350, 3728, 2997, 3297, 7, 341, 4350, 3728, 5...  1825\n",
       "408        politics  [1442, 1148, 8413, 5378, 250, 270, 2085, 16, 9...  2213\n",
       "\n",
       "[2225 rows x 3 columns]"
      ]
     },
     "execution_count": 60,
     "metadata": {},
     "output_type": "execute_result"
    }
   ],
   "source": [
    "df"
   ]
  },
  {
   "cell_type": "code",
   "execution_count": 61,
   "id": "dimensional-quilt",
   "metadata": {},
   "outputs": [
    {
     "name": "stdout",
     "output_type": "stream",
     "text": [
      "Maximum sequence length in the list of sentences: 2213\n"
     ]
    }
   ],
   "source": [
    "max_len = max([len(text) for text in df['text']])\n",
    "print('Maximum sequence length in the list of sentences:', max_len)"
   ]
  },
  {
   "cell_type": "code",
   "execution_count": 62,
   "id": "settled-nylon",
   "metadata": {},
   "outputs": [
    {
     "name": "stdout",
     "output_type": "stream",
     "text": [
      "[0 1 1 ... 0 3 0]\n",
      "Index(['politics', 'sport', 'business', 'entertainment', 'tech'], dtype='object')\n"
     ]
    }
   ],
   "source": [
    "Y, desc = pd.factorize(df['category'])\n",
    "print(Y)\n",
    "print(desc)"
   ]
  },
  {
   "cell_type": "code",
   "execution_count": 63,
   "id": "overall-aside",
   "metadata": {},
   "outputs": [
    {
     "data": {
      "text/plain": [
       "array([list([938, 7182, 52, 554, 11383, 221, 293, 938, 193, 1641, 8231, 152, 52, 305, 412, 22, 32, 161, 92, 482, 2590, 353, 1120, 22170, 1151, 3547, 599, 16526, 1169, 3, 2061, 2222, 599, 87, 52, 554, 359, 59, 1664, 927, 1639, 412, 11034, 570, 1120, 434, 43, 825]),\n",
       "       list([12792, 7903, 3331, 3165, 380, 855, 12792, 671, 2608, 13174, 1384, 20086, 3331, 1791, 2636, 12792, 1, 693, 55, 995, 2636, 1258, 560, 192, 2809, 20086, 995, 1637, 22, 48, 6581, 68, 668, 142, 7, 1022, 257, 1383, 228, 559, 727, 1991, 78, 12792, 7932, 1750, 3165, 415, 479, 1, 430, 148, 142, 7918, 2034, 1109, 82, 218, 70, 5, 224, 1397]),\n",
       "       list([1029, 315, 10575, 1029, 380, 5346, 2397, 2414, 2012, 408, 2443, 17198, 10575, 1659, 3201, 23224, 2397, 4095, 9438, 810, 113, 475, 1054, 2032, 3103, 655, 217, 10575, 971, 57, 1268, 929, 408, 23225, 23226, 6111, 4174, 4356, 284, 2397, 3, 1786, 12966, 943, 78, 1, 1414, 431, 707, 137, 260, 11, 1022, 98, 310, 1847, 1, 129, 9, 70, 3633, 1163, 419, 395]),\n",
       "       ...,\n",
       "       list([1324, 1510, 843, 8659, 1324, 1510, 211, 563, 5470, 3518, 5, 16, 305, 1974, 316, 671, 394, 8659, 1284, 14325, 612, 1159, 8, 8610, 671, 12142, 8967, 153, 507, 268, 477, 1, 35, 364, 1059, 1290, 57, 1324, 1510, 1199, 1532, 987, 441, 4759, 1177, 1625, 10, 1322, 4928, 1698, 70, 923, 338, 267, 3142, 338, 10684, 1284, 9042, 2614, 563, 702, 113, 477, 29, 987, 175, 11, 15, 957, 1646, 1324, 1510, 3110, 2427, 3712, 3895, 267, 697, 1193, 6382, 74, 8, 411, 135, 17, 15436, 704, 1, 431, 17730, 5268, 16, 41, 1324, 1510, 328, 29, 287, 9451, 14326, 2342, 17731, 6250, 299, 267, 2, 59, 1, 441, 1324, 1510, 209, 6264, 14327, 8313, 218, 1321, 268, 5627, 10685, 4676, 177, 29, 10598, 1245, 1, 786, 5, 22, 20, 567, 17732, 1297, 14328, 1321, 268, 270, 618, 95, 1412, 221, 10673, 7443, 6342, 79, 1345, 134, 221, 1014, 6448, 1272, 12, 69, 11194, 1408, 1326, 1367, 173, 69, 283, 24076, 6752, 16, 1575, 477, 10625, 17412, 671, 3142, 338, 41, 226, 338, 220, 2, 95, 1, 70, 526, 1322, 1832, 1530, 389, 5, 740, 389, 5, 3214, 30, 42, 12, 17, 16, 1, 226, 4200, 180, 465, 35, 2226, 3837, 3307, 268, 1324, 1510, 196, 1324, 1510, 278, 39, 14325, 650, 1284, 1903, 1098, 24077, 1903, 612, 1159, 515, 650, 1284, 1324, 1510, 1199, 11, 563, 708, 13095, 24078, 11524, 312, 1698, 2600, 1924, 267, 200, 923, 1324, 1510, 13, 8, 12098, 76, 114, 4451, 200, 4481, 8, 3048, 704, 1181, 211, 1324, 1510, 563, 293, 2899, 109, 76, 3781, 2965, 1, 440, 267, 8, 843, 451, 177, 10041, 451, 1181, 2226, 189, 7, 440, 1060, 7648, 4928, 111, 121, 358, 83, 519, 1018, 2724, 157, 6657, 1413, 1, 2949, 138, 829, 1324, 1510, 46, 715, 4530, 1409, 2427, 46, 10458, 1, 666, 233, 236, 149, 1, 1575, 3292, 1324, 1510, 3, 1344, 24079, 267, 914, 32, 161, 413, 1164, 1284, 2, 149, 4610, 322, 334, 60, 152, 52, 2152, 4573, 983, 124, 24080, 715, 5, 507, 7381, 507, 3586, 2207, 137, 1502, 983, 124, 1, 3, 160, 13122, 678, 1193, 321, 31, 8, 64, 124, 923, 31, 1762, 124, 17733, 24081, 124, 341, 5, 212, 421, 31, 1324, 1510, 48, 1679, 318, 1490, 7, 1324, 1510, 303, 104, 650, 1023, 227, 24082, 7, 1497, 137, 1060, 4149, 590, 300, 24083, 7, 2353, 124, 24084, 3, 20, 4019, 12224, 5, 20, 60, 54, 49, 46, 352, 142, 68, 17, 367, 708, 8660, 904, 23, 275, 107, 2731, 24085, 227, 19, 339, 353, 671, 13559, 1284, 287, 260, 1589, 735, 1707, 17, 708, 1159, 8, 8610, 142, 1055, 1510, 316, 1936, 1324, 1510, 68, 998, 316, 211, 440, 644, 7159, 5, 24086, 17734, 987, 1006, 58, 2427, 364, 2136, 49, 16, 273, 2055, 5782, 735, 722, 9395, 268, 1324, 1510, 443, 860, 38, 16, 11960, 3, 3470, 4633, 268, 891, 16, 715, 36, 5151, 6575, 802, 3302, 959, 187, 117, 566, 267, 1040, 2558, 79, 82, 17735, 3671, 267, 1324, 1510, 3, 645, 927, 3, 727, 58, 235, 8659, 1284, 291, 962, 506, 656, 265, 29, 750, 1324, 1510, 4, 3329, 36, 136, 2383, 24087, 5, 2473, 1324, 1510, 9533, 657, 683, 264, 752, 3, 1247, 17736, 2179, 17, 10598, 5, 5434, 3530, 2223, 1055, 268, 632, 1738, 60, 1596, 656, 24088, 16089, 46, 79, 1324, 1510, 94, 1454, 5338, 33, 4113, 1481, 5648, 3182, 4108, 1055, 7972, 4424, 1248, 218, 3182, 349, 17737, 10, 5648, 23, 199, 24089, 831, 94, 601, 335, 12224, 3182, 507, 1324, 1510, 7585, 601, 394, 2251, 2802, 4, 2066, 1339, 750, 200, 135, 1034, 12, 2206, 301, 8098, 5610, 251, 24090, 7381, 8889, 1438, 301, 2893, 12, 724, 1096, 94, 127, 6819, 2206, 301, 137, 20, 5319, 17738, 24091, 547, 16862, 8572, 267, 9, 1010, 987, 2978, 836, 17739, 1010, 400, 14, 29, 389, 5, 2482, 138, 1296, 385, 54, 2473, 201, 23, 168, 1221, 29, 43, 23, 10159, 1324, 1510, 10, 869, 4902, 1450, 357, 1010, 96, 2566, 24092, 502, 987, 1936, 236, 149, 24093, 1324, 1510, 3, 300, 66, 364, 1199, 6648, 824, 5201, 9, 364, 1059, 267, 57, 11651, 1360, 755, 62, 367, 864, 864, 671, 1055, 1510, 8659, 3363, 3579, 135, 551, 268, 715, 3267, 1510, 1707, 277, 2384, 24094, 24095, 44, 36, 4773, 5782, 5, 2168, 1008, 5736, 17740, 135, 1835, 136, 335, 359, 1936, 13003, 8661, 507, 3182, 2226, 142, 199, 11, 20, 1485, 5, 4840, 287, 2482, 268, 3267, 1510, 364, 390, 104, 7379, 24096, 17741, 14327, 267, 1324, 1510, 46, 430, 1257, 8104, 248, 230, 4977, 843, 1990, 27, 930, 83, 225, 434, 19, 25, 1257, 697, 24097, 19, 585, 502, 307, 664, 267, 1257, 385, 4589, 267, 268, 852, 367, 11022, 24098, 3173, 4113, 5371, 24099, 1284, 2018, 267, 1324, 1510, 682, 2243, 268, 2572, 196, 440, 653, 411, 5, 27, 58, 260, 334, 254, 2351, 923, 932, 4043, 324, 5720, 58, 595, 2176, 9395, 1693, 24100, 112, 953, 14326, 24101, 4520, 268, 1324, 1510, 14325, 1612, 338, 1057, 24102, 364, 2351, 352, 482, 24103, 14329, 5, 1560, 9533, 10159, 5909, 364, 3182, 62, 3485, 71, 100, 364, 9395, 902, 268, 275, 24104, 411, 1946, 121, 803, 121, 2034, 538, 16, 10686, 507, 983, 10687, 40, 66, 2025, 46, 1328, 214, 3, 3499, 5, 1324, 1510, 267, 3170, 24105, 636, 1723, 10421, 11943, 96, 16, 52, 10421, 678, 3171, 240, 7, 11110, 62, 1757, 783, 79, 135, 222, 465, 3401, 9531, 86, 595, 111, 1301, 9792, 135, 318, 1179, 211, 385, 384, 17742, 2558, 614, 267, 1324, 1510, 5, 49, 70, 488, 8055, 967, 13511, 13, 526, 763, 300, 267, 682, 4060, 390, 1699, 488, 653, 1247, 12225, 111, 24106, 135, 18, 1916, 111, 93, 454, 226, 2819, 24107, 931, 12224, 715, 726, 188, 38, 7163, 1162, 364, 333, 3454, 364, 29, 554, 445, 364, 824, 399, 59, 64, 104, 282, 4644, 104, 82, 384, 571, 83, 571, 1180, 14330, 1266, 987, 567, 266, 3223, 3170, 551, 17743, 9140, 8662, 4445, 1141, 4884, 17744, 2111, 1324, 1510, 9140, 8662, 1154, 24108, 2782, 1115, 9, 17, 13048, 137, 2617, 298, 7744, 816, 2465, 16446, 185, 2858, 8608, 121, 1675, 1284, 65, 8659, 1270, 536, 983, 1064, 31, 2111, 923, 3912, 382, 31, 1698, 1300, 16, 601, 54, 987, 7382, 334, 27, 36, 226, 1218, 268, 2527, 6494, 534, 12226, 1502, 1257, 1510, 137, 3711, 1853, 10496, 56, 7707, 1324, 1510, 715, 3471, 440, 1482, 96, 478, 1770, 715, 4, 465, 987, 201, 2482, 24109, 300, 93, 1553, 10688, 289, 58, 206, 399, 5, 671, 54, 235, 502, 1147, 92, 19, 339, 2172, 30, 2136, 9773, 24110, 3146, 22, 435, 478, 1320, 114, 868, 1642, 83, 551, 2506, 100, 2276, 164, 298, 24111, 1247, 298, 72, 1579, 3333, 1320, 648, 998, 600, 869, 136, 79, 334, 58, 1324, 1510, 1253, 46, 614, 2018, 7383, 482, 558, 993, 23, 367, 2351, 1491, 58, 7383, 1497, 803, 121, 2034, 5795, 23, 38, 595, 35, 17745, 443, 94, 5, 58, 16, 24112, 1297, 185, 16, 156, 126, 135, 3637, 104, 48, 17745, 320, 23, 6620, 36, 3756, 595, 7561, 443, 138, 202, 12073, 2408, 210, 111, 3570, 44, 1646, 93, 1150, 7, 206, 58, 139, 9, 443, 7, 1991, 507, 268, 267, 94, 461, 1757, 785, 4219, 465, 987, 4424, 465, 11721, 156, 267, 1547, 136, 17746, 5648, 2204, 267, 7381, 503, 671, 1948, 11, 563, 267, 813, 671, 1948, 2183, 671, 1674, 1324, 1324, 299, 267, 24113, 1284, 1547, 86, 279, 17746, 338, 1625, 923, 24114, 29, 465, 987, 268, 1948, 267, 1324, 1510, 868, 1150, 135, 214, 268, 1324, 440, 267, 268, 451, 2542, 17537, 829, 40, 1181, 164, 957, 1646, 88, 548, 224, 6, 834, 735, 1130, 286, 1338, 447, 675, 707, 414, 735, 24115, 12, 60, 278, 5782, 2800, 735, 780, 3182, 6125, 196, 1324, 1510, 1646, 1181, 1673, 135, 2279, 273, 776, 1482, 1181, 1625, 100, 3441, 1483, 385, 30, 5295, 320, 2916, 11828, 124, 4786, 138, 315, 1646, 1732, 1948, 124, 827, 261, 1954, 774, 267, 12227, 3681, 16, 107, 1301, 279, 3670, 465, 3401, 987, 46, 16, 770, 267, 1324, 1510, 2018, 7973, 5, 13739, 813, 2388, 364, 156, 136, 614, 14331, 353, 6011, 24116, 657, 116, 647, 1957, 941, 23, 3475, 1936, 1778, 154, 287, 950, 9533, 5587, 3267, 1510, 2103, 2769, 2226, 493, 114, 135, 268, 6, 338, 2, 59, 2, 95, 267, 124, 7285, 829, 196, 1371, 11828, 1576, 36, 267, 5, 64, 1350, 139, 466, 8555, 124, 135, 33, 2099, 265, 1324, 1510, 62, 364, 623, 1510, 670, 5, 70, 503, 3182, 2351, 683, 1804, 24117, 9242, 153, 54, 287, 2796, 3280, 630, 58, 252, 19, 339, 4364, 728, 976, 2473, 463, 650, 65, 707, 260, 264, 2942, 68, 17, 142, 8660, 5235, 15817, 2351, 923, 932, 4043, 260, 58, 353, 12228, 1324, 1510, 644, 5, 10159, 3980, 8800, 2223, 463, 650, 65, 864, 298, 246, 463, 3, 116, 1107, 1021, 3173, 1153, 319, 334, 1261, 2132, 3639, 2521, 1692, 124, 6308, 4666, 1181, 5, 2473, 1324, 1510, 1502, 678, 254, 3, 361, 89, 19, 339, 3173, 3182, 129, 2053, 3775, 730, 8871, 129, 252, 19, 339, 7442, 287, 1324, 1510, 2558, 267, 268, 23, 8114, 3980, 8800, 189, 58, 3054, 23, 268, 17232, 8660, 5235, 1629, 58, 465, 135, 2482, 3182, 353, 394, 515, 353, 2482, 58, 260, 107, 2355, 181, 619, 367, 289, 23, 268, 5648, 735, 453, 2342, 11, 211, 1324, 1510, 300, 44, 2478, 13950, 650, 8, 13, 1625, 300, 23, 107, 3168, 1567, 486, 9, 137, 1008, 90, 1086, 10232, 17747, 3523, 9, 137, 1008, 90, 5787, 2, 59, 1008, 1008, 1365, 305, 449, 793, 1576, 1008, 5648, 156, 774, 124, 196, 1371, 16, 1042, 1324, 1510, 1646, 211, 751, 1502, 503, 3182, 5648, 503, 5648, 14332, 4654, 40, 1324, 1510, 1646, 1173, 2815, 1107, 2605, 366, 321, 5, 1832, 315, 9, 465, 135, 48, 5228, 13617, 5113, 62, 7, 2226, 40, 2, 59, 126, 7561, 2473, 881, 715, 2759, 1055, 129, 268, 1055, 129, 58, 29, 5, 1324, 1510, 493, 11852, 1771, 3681, 985, 1721, 46, 79, 29, 12199, 1257, 18, 1092, 4774, 364, 267, 983, 115, 542, 45, 83, 2497, 2, 59, 16, 267, 196, 1324, 1510]),\n",
       "       list([4350, 3728, 2997, 3297, 7, 341, 4350, 3728, 525, 978, 18, 28, 114, 3188, 197, 5554, 34, 2595, 15111, 407, 1354, 10969, 125, 2559, 423, 21, 85, 21, 450, 21, 4729, 197, 1627, 85, 2787, 2337, 15, 2595, 2804, 2450, 1450, 1167, 21, 1473, 407, 118, 84, 1137, 1705, 406, 2196, 771, 21, 501, 225, 463, 19, 4350, 3728, 29358, 14300, 29359, 3807, 21, 125, 450, 544, 613, 29360, 29361, 22, 794, 22, 7, 8, 339, 3, 353, 197, 400, 3, 200, 6931, 2701, 25, 3175, 96, 1221, 341, 780, 5757, 29362, 47, 12665, 450, 6282, 414, 29363, 1142, 164, 7, 341, 1852, 61, 36, 10063, 21, 125, 407, 4729, 197, 40, 21, 125, 450, 2787, 2337, 7002, 92, 2559, 21, 710, 407, 21, 76, 85, 251, 2305, 552, 3369, 283, 2720, 951, 21, 76, 482, 407, 264, 6866, 2804, 21, 76, 450, 2339, 407, 389, 21, 513, 544, 24, 12004, 21, 1052, 407, 544, 9504, 8644, 1249, 21, 125, 1817, 1796, 251, 4225, 2626, 544, 21, 76, 2626, 1796, 793, 821, 7260, 9618, 2361, 1965, 1957, 251, 5662, 1417, 1756, 1796, 1843, 159, 6332, 2479, 917, 82, 3603, 544, 19670, 3520, 1605, 7260, 9403, 1791, 12419, 14580, 4834, 9477, 9478, 14191, 7237, 21, 76, 1817, 544, 2450, 1450, 1, 156, 64, 27, 27, 2497, 542, 137, 7601, 2168, 25, 120, 86, 156, 121, 2497, 2701, 1467, 547, 5652, 121, 1137, 118, 28, 84, 1080, 1880, 2201, 1167, 1450, 793, 21, 1473, 407, 1001, 275, 102, 676, 2419, 1670, 4890, 293, 7868, 1486, 21, 501, 544, 1705, 406, 7270, 106, 36, 2171, 2399, 16898, 149, 10330, 616, 16031, 320, 3405, 314, 341, 406, 918, 446, 921, 389, 1639, 2828, 716, 3298, 1427, 449, 32, 161, 227, 3450, 366, 463, 19, 18, 28, 114, 917, 6288, 3188, 251, 93, 553, 89, 5186, 197, 103, 36, 22, 794, 9651, 481, 3637, 48, 2804, 5423, 1900, 12628, 6282, 415, 6194, 3996, 6085, 76, 2339, 407, 544, 37, 192, 5, 62, 2785, 11935, 1444, 68, 341, 2712, 2671, 9477, 9478, 469, 21, 76, 1817, 21, 1052, 407, 1843, 1789, 4813, 12, 17, 375, 522, 7239, 29364, 29365, 15698, 4061, 159, 2697, 684, 2450, 1450, 1843, 121, 712, 1195, 7686, 9230, 10783, 4834, 1843, 820, 6169, 918, 11981, 619, 2444, 8712, 544, 2043, 2296, 28, 517, 3188, 197, 4596, 47, 89, 958, 1664, 32, 79, 326, 1016, 47, 392, 958, 880, 1124, 154, 11, 8, 4350, 3728, 2787, 2337, 2804, 2450, 1450, 12004, 1016, 47, 72, 89, 92, 3297, 978, 93, 2451, 1016, 47, 3154, 917, 4298, 3627, 521, 29366, 21, 501, 11, 463, 19, 7495, 121, 54, 1027, 2196, 86, 21, 501, 65, 153, 27, 203, 918, 1705, 370, 513, 9140, 742, 29367, 298, 1057, 1396, 361, 160, 188, 7, 587, 21, 501, 463, 19, 316, 19906, 46, 27, 1263, 430, 137, 9149, 2196, 161, 311, 1437, 1871, 58, 1524, 619, 29368, 1017, 5214, 4583, 19907, 2566, 71, 659, 3993, 474, 1467, 1876, 316, 5494, 921, 11, 463, 19, 3530, 251, 2096, 6176, 8582, 588, 760, 10, 11311, 449, 1183, 507, 993, 7075, 76, 21, 501, 1113, 11, 463, 19, 9379, 12453, 3174, 29369, 363, 1619, 619, 1057, 727, 6995, 29370, 29371, 29372, 3125, 2338, 3298, 1427, 619, 6407, 7, 2259, 2196, 29373, 3996, 2196, 10589, 3044, 12456, 29374, 12416, 29375, 14161, 12256, 19908, 632, 27, 2, 406, 388, 3937, 458, 3297, 218, 717, 6179, 3996, 28, 21, 11, 463, 19, 1707, 29376, 20, 12514, 336, 19320, 10126, 15206, 15207, 1123, 20, 632, 13221, 251, 137, 54, 478, 11, 463, 19, 10077, 1052, 501, 21, 501, 11, 463, 19, 38, 3187, 501, 1167, 21, 11, 463, 29377, 14772, 3996, 1167, 686, 392, 1874, 12893, 161, 227, 3207, 8011, 449, 10482, 29378, 3996, 334, 633, 6946, 156, 46, 501, 2818, 632, 13751, 1040, 21, 501, 11, 463, 19, 14748, 291, 7293, 1052, 38, 3187, 12418, 392, 1068, 29379, 291, 619, 6407, 7, 2259, 12612, 62, 21, 501, 11, 463, 19, 336, 921, 235, 434, 19, 585, 3, 7792, 921, 518, 18500, 40, 361, 1705, 46, 61, 142, 19909, 2196, 136, 501, 21, 501, 11, 463, 19, 21, 501, 2438, 3297, 62, 2196, 136, 501, 3440, 277, 251, 62, 21, 501, 225, 463, 19, 121, 352, 160, 506, 29380, 852, 389, 1097, 12, 127, 10077, 501, 46, 727, 1705, 458, 21, 501, 11, 463, 19, 6040, 62, 136, 710, 1052, 921, 370, 8661, 1183, 54, 160, 2196, 1998, 1845, 3530, 197, 46, 921, 1714, 2196, 19908, 501, 142, 19910, 86, 1363, 4444, 29381, 3996, 21, 2018, 7293, 3996, 3694, 726, 464, 186, 958, 707, 260, 3649, 1042, 197, 29382, 2185, 3551, 10482, 2710, 2496, 28, 102, 400, 3510, 28, 2782, 4009, 49, 394, 389, 7313, 632, 1764, 5, 36, 197, 2539, 1705, 881, 5484, 415, 86, 29383, 156, 1633, 2196, 423, 1365, 2612, 2025, 197, 3329, 441, 389, 55, 137, 241, 966, 1488, 7494, 501, 4037, 33, 3993, 657, 29384, 2585, 29385, 1330, 2196, 254, 23, 1920, 1857, 7728, 501, 474, 161, 653, 161, 15022, 7048, 981, 2475, 161, 747, 14376, 1017, 501, 644, 5436, 29386, 727, 40, 361, 1705, 62, 214, 1705, 406, 46, 5868, 2196, 137, 46, 501, 1040, 2815, 1107, 46, 619, 6407, 7, 2259, 3298, 1427, 29387, 8652, 2828, 716, 2196, 1645, 501, 827, 1705, 406, 2380, 3781, 501, 249, 5226, 7761, 588, 713, 1705, 38, 3530, 11763, 7728, 197, 320, 958, 225, 92, 19, 1793, 55, 21, 29388, 2576, 552, 8661, 228, 7472, 852, 2785, 17, 2785, 538, 921, 1235, 10770, 5, 62, 2338, 2196, 21, 501, 57, 225, 463, 19, 8902, 2348, 7542, 192, 3832, 320, 12571, 2196, 14520, 265, 11707, 152, 1422, 76, 29389, 15163, 1433, 1903, 328, 1482, 507, 913, 507, 29390, 28, 1911, 15193, 29391, 1253, 2185, 5, 27, 1705, 5, 740, 27, 28, 54, 19911, 164, 6337, 19911, 254, 6000, 14753, 9, 4168, 1366, 3881, 1052, 28, 2196, 2679, 526, 6819, 10506, 11410, 6856, 7032, 60, 199, 560, 3643, 29392, 12418, 388, 1167, 547, 6747, 919, 156, 5494, 921, 23, 6451, 18384, 7037, 7633, 6394, 449, 29393, 29394, 2196, 21, 501, 19909, 121, 11, 92, 19, 334, 2029, 1482, 463, 38, 7444, 1167, 993, 28, 2752, 3074, 64, 3524, 137, 636, 8402, 76, 28, 114, 225, 405, 1829, 1601, 1705, 406, 1710, 392, 3187, 945, 392, 96, 3154, 6898, 11743, 3941, 1497, 548, 389, 96, 5841, 10774, 21, 501, 11, 463, 19, 62, 186, 958, 11, 463, 19, 392, 8633, 1705, 406, 86, 96, 443, 6040, 501, 209, 29395, 1231, 29396, 866, 1556, 2196, 19912, 128, 15654, 1057, 2637, 161, 29397, 14699, 29398, 27, 2196, 209, 10572, 881, 5269, 29399, 62, 29, 213, 9105, 1052, 4382, 852, 1167, 21, 501, 225, 463, 19, 1117, 501, 506, 4748, 2258, 43, 40, 188, 4840, 29400, 1926, 83, 2455, 392, 1811, 4803, 2196, 21, 501, 11, 463, 19, 62, 18857, 161, 227, 29, 3450, 588, 89, 5, 659, 3993, 136, 501, 2338, 21, 11, 463, 19, 324, 62, 1023, 2292, 501, 1167, 136, 76, 71, 58, 29401, 12456, 1967, 501, 2227, 783, 656, 781, 647, 29402, 1028, 726, 647, 1450, 9946, 12, 450, 29403, 1817, 89, 5929, 27, 1705, 2196, 3267, 501, 38, 21, 501, 225, 463, 19, 3664, 136, 423, 6040, 11802, 10449, 437, 2196, 19, 3297, 2612, 5505, 215, 76, 28, 11, 463, 19, 76, 71, 29404, 1218, 14867, 29405, 1655, 2130, 28, 1221, 1488, 4852, 951, 2354, 2196, 518, 501, 86, 21, 501, 1705, 12712, 254, 1154, 21, 501, 11, 463, 19, 397, 1705, 2352, 619, 501, 62, 192, 2043, 921, 28, 4965, 28, 400, 3660, 262, 392, 161, 227, 3450, 86, 1524, 3298, 1427, 341, 15, 2711, 1402, 704, 28, 377, 11, 463, 19, 1705, 406, 363, 1027, 501, 361, 893, 15029, 2525, 5, 4975, 1674, 29406, 15867, 2196, 159, 45, 177, 2035, 794, 501, 3298, 29407, 2701, 249, 3787, 68, 10204, 1685, 129, 28, 2196, 775, 303, 139, 1052, 501, 10519, 265, 463, 19, 3787, 958, 2662, 1705, 406, 3438, 2078, 38, 11284, 6334, 2743, 2045, 361, 28, 400, 2338, 62, 8241, 1076, 501, 292, 29408, 292, 5, 136, 921, 1001, 3239, 55, 1705, 3440, 793, 13302, 29409, 120, 2013, 315, 3004, 921, 5192, 501, 1167, 6946, 8264, 6490, 3789, 2118, 28, 21, 501, 225, 463, 19, 137, 96, 3989, 6040, 62, 116, 218, 3581, 1050, 61, 76, 71, 9816, 46, 913, 28, 2042, 1705, 406, 13808, 3405, 2828, 716, 3298, 1427, 8856, 808, 9, 430, 76, 71, 3837, 14103, 15202, 2383, 1705, 29410, 316, 6575, 160, 921, 16726, 14699, 1052, 501, 3087, 9, 5689, 636, 9390, 29411, 4099, 76, 28, 19642, 29412, 62, 1705, 5069, 6413, 639, 102, 57, 283, 6208, 4382, 881, 1267, 3258, 41, 3530, 10810, 437, 186, 8370, 1639, 5469, 139, 9, 29413, 13540, 1365, 19818, 5531, 18, 1167, 21, 501, 11, 463, 19, 76, 28, 114, 1557, 559, 1705, 3405, 5259, 2510, 1636, 21, 120, 5079, 129, 28, 2053, 28, 2895, 27, 86, 13484, 710, 2352, 2069, 46, 501, 29414, 5, 1167, 21, 501, 11, 463, 19, 46, 29415, 27, 1705, 21, 501, 463, 19, 57, 5556, 8003, 2196, 783, 501, 2211, 10840, 16433, 10572, 18482, 2991, 136, 28, 647, 15082, 10482, 86, 8856, 498, 9793, 3188, 197, 209, 2227, 2196, 46, 501, 82, 137, 2253, 478, 1639, 501, 29416, 2259, 2828, 716, 3956, 9405, 4, 8487, 293, 11692, 4520, 29, 1235, 921, 29417, 2624, 645, 530, 1705, 353, 197, 20, 9, 21, 501, 11, 463, 19, 29418, 3708, 86, 6394, 793, 14499, 13626, 394, 15206, 15207, 15208, 2196, 164, 1027, 136, 501, 137, 62, 5069, 381, 21, 501, 463, 29419, 449, 3000, 1701, 29420, 29421, 5674, 501, 23, 712, 29422, 867, 3440, 978, 3, 14772, 2196, 164, 2196, 1705, 406, 43, 40, 102, 3, 5837, 9, 8943, 3405, 3059, 958, 183, 1843, 482, 5197, 31, 5, 4081, 981, 1631, 9236, 40, 361, 3725, 317, 260, 265, 2196, 21, 61, 225, 463, 19, 5491, 29423, 21, 471, 548, 18559, 249, 9138, 19825, 5, 62, 2027, 3832, 11227, 6780, 8004, 29424, 14867, 212, 1645, 921, 4, 212, 582, 298, 292, 316, 21, 320, 96, 5818, 518, 526, 1705, 993, 27, 28, 3097, 21, 501, 11, 14508, 3297, 1327, 526, 29425, 1776, 1052, 29426, 579, 341, 18744, 120, 88, 1050, 4350, 3728, 62, 2609, 120, 5541, 5069, 4729, 251, 450, 474, 1107, 2449, 6, 120, 2378, 439, 29427, 29428, 25, 29429, 1818, 1003, 1601, 137, 1167, 152, 71, 57, 5528, 28, 3329, 317, 2196, 1705, 406, 9, 10506, 921, 363, 1524, 1597, 3440, 55, 501, 167, 6886, 377, 249, 29, 19, 96, 3552, 6040, 82, 734, 463, 742, 3956, 40, 1183, 11591, 3896, 501, 13436, 29430, 357, 742, 92, 3956, 262, 824, 656, 3298, 1427, 1639, 8856, 15208, 90, 1155, 389, 458, 214, 6042, 670, 38, 3440, 55, 2168, 1668, 1633, 15206, 15207, 526, 6692, 227, 12853, 4520, 54, 160, 921, 11728, 188, 1057, 186, 1488, 214, 2196, 46, 501, 62, 893, 16605, 966, 5528, 2907, 21, 501, 11, 463, 19, 139, 852, 120, 44, 12261, 335, 1796, 71, 2307, 188, 251, 1876, 967, 19884, 372]),\n",
       "       list([1442, 1148, 8413, 5378, 250, 270, 2085, 16, 91, 1801, 271, 1423, 335, 210, 76, 2533, 1769, 248, 1736, 352, 498, 94, 523, 250, 3063, 2874, 677, 16796, 280, 215, 1578, 2243, 4392, 71, 916, 1794, 16797, 802, 4408, 3697, 2469, 5783, 2376, 2637, 32, 79, 313, 866, 138, 16798, 2275, 1122, 1196, 102, 41, 45, 221, 531, 1025, 3406, 10437, 871, 871, 83, 54, 5275, 19, 4006, 9, 1284, 9, 129, 9, 145, 9, 8, 916, 1122, 7, 349, 76, 320, 10438, 164, 892, 16799, 10438, 940, 164, 892, 215, 454, 940, 10438, 916, 164, 1719, 83, 1654, 215, 916, 59, 16, 3415, 623, 5378, 2206, 7, 7560, 5378, 2119, 463, 1099, 13793, 16798, 916, 33, 16800, 275, 6738, 200, 11041, 5379, 65, 12, 4448, 916, 209, 1733, 432, 1882, 9332, 5890, 92, 19, 7214, 16594, 2003, 11, 11406, 13794, 11305, 22, 7, 16801, 16802, 3960, 13795, 13796, 358, 123, 346, 3960, 13795, 139, 22603, 15468, 139, 916, 22604, 11858, 5383, 2332, 432, 2524, 22605, 5813, 648, 832, 8907, 2333, 1892, 6355, 1892, 5365, 1892, 1869, 1357, 22606, 3, 22607, 526, 745, 8049, 2881, 528, 2639, 147, 7286, 22608, 3730, 16803, 22609, 11859, 2332, 432, 6228, 2850, 19, 1652, 1549, 2782, 228, 10287, 1794, 40, 6482, 22610, 625, 545, 1227, 15534, 7, 4662, 22611, 9333, 19, 2033, 22612, 328, 2605, 4396, 515, 31, 10439, 1650, 86, 4662, 6773, 10, 685, 7, 209, 5378, 16804, 206, 802, 301, 7079, 275, 22613, 391, 498, 350, 2526, 1140, 16805, 1993, 2338, 9, 1069, 22614, 1676, 22615, 16806, 12900, 22616, 193, 16807, 5328, 55, 1402, 782, 16808, 8524, 3694, 121, 633, 11860, 916, 3382, 13797, 1034, 70, 5142, 912, 4662, 454, 3630, 2136, 4662, 13798, 16809, 1381, 912, 4662, 1757, 260, 22617, 5979, 4662, 182, 22618, 860, 682, 523, 2378, 4662, 164, 892, 5378, 59, 16, 7287, 171, 117, 16810, 16811, 4971, 1766, 297, 164, 718, 523, 86, 3905, 5552, 3427, 1069, 9334, 343, 5054, 200, 16, 69, 2834, 1442, 16, 41, 316, 209, 5378, 5378, 454, 4971, 1442, 403, 1002, 812, 2853, 2066, 3455, 46, 75, 11861, 4459, 854, 1560, 138, 9, 803, 6773, 11862, 22619, 2003, 11233, 210, 231, 15952, 3356, 1299, 13799, 551, 5142, 4892, 1154, 8882, 396, 1196, 357, 4768, 2224, 1150, 1316, 1547, 1794, 1891, 6773, 310, 210, 442, 13800, 4496, 2782, 348, 1979, 1330, 5783, 2376, 137, 110, 1794, 1719, 102, 13801, 215, 137, 116, 7653, 187, 112, 1210, 498, 682, 5, 523, 919, 187, 112, 7861, 27, 10440, 770, 1179, 1023, 1093, 22620, 5216, 13802, 16812, 498, 310, 1932, 186, 11243, 1315, 199, 1936, 22621, 484, 1023, 43, 25, 7288, 7862, 1205, 168, 20, 2533, 11863, 4208, 4129, 912, 46, 75, 1057, 27, 2, 2376, 1973, 2338, 13803, 76, 16, 225, 22622, 366, 1392, 27, 173, 2338, 49, 2782, 4103, 1766, 164, 718, 523, 4520, 2259, 35, 4742, 5397, 603, 852, 83, 1987, 485, 301, 22623, 2790, 5, 526, 940, 3356, 5, 4770, 1111, 617, 209, 5771, 184, 3807, 2834, 184, 969, 407, 11531, 401, 5, 27, 22624, 271, 1023, 780, 1111, 7722, 916, 6, 551, 6461, 2468, 225, 19, 2376, 41, 7135, 1090, 418, 19, 1794, 7135, 5, 1090, 9, 1437, 22625, 545, 6287, 462, 916, 400, 2933, 5060, 1892, 13804, 73, 16813, 22626, 16814, 982, 16813, 22627, 16814, 491, 2944, 5, 2024, 2533, 2077, 73, 5491, 892, 3521, 1330, 16, 919, 2556, 5235, 22628, 1139, 916, 22629, 916, 526, 3574, 337, 285, 257, 530, 152, 3297, 4208, 13805, 213, 464, 60, 164, 2151, 16, 82, 1543, 681, 14, 1244, 171, 1221, 1454, 301, 943, 3625, 493, 1932, 9, 803, 177, 3239, 1053, 4909, 64, 83, 77, 46, 127, 15443, 154, 6, 168, 2354, 168, 2492, 10, 20, 160, 15519, 1227, 4887, 22, 551, 22630, 902, 6774, 4186, 182, 69, 6343, 54, 17, 15430, 7, 926, 1201, 275, 815, 76, 1875, 45, 2136, 2, 2376, 361, 46, 367, 16815, 4186, 464, 493, 32, 23, 22631, 2504, 5, 2331, 1634, 5, 121, 156, 32, 255, 4622, 11580, 8801, 1330, 2933, 4602, 1522, 940, 1733, 16, 1522, 940, 4693, 22632, 6356, 5829, 3439, 316, 411, 7224, 22633, 301, 4408, 90, 430, 1344, 1140, 974, 529, 1807, 6356, 5829, 2933, 93, 1597, 1330, 5783, 2376, 2338, 2206, 1794, 1271, 738, 1793, 9031, 614, 6, 1794, 1989, 6, 1148, 16721, 498, 186, 2533, 3716, 18, 13806, 22634, 852, 3439, 16816, 5318, 2082, 2882, 137, 2960, 4206, 2, 59, 16, 11864, 7614, 2101, 8426, 4417, 940, 16, 38, 1111, 617, 6775, 13807, 2627, 275, 222, 188, 2933, 1989, 206, 6486, 1979, 716, 59, 4010, 2637, 7, 1344, 682, 506, 1330, 11865, 2, 2376, 3584, 2773, 16, 1723, 7056, 272, 8200, 4408, 76, 5, 2193, 10441, 121, 5837, 3625, 164, 523, 151, 170, 1050, 121, 33, 16817, 16818, 2520, 5, 9335, 5642, 5507, 121, 2521, 291, 1395, 21, 226, 400, 102, 2907, 1094, 16328, 712, 9, 430, 658, 5783, 2376, 3434, 13808, 16, 1677, 1801, 280, 215, 6, 1148, 45, 8843, 164, 523, 1254, 5917, 1251, 3190, 5643, 722, 3934, 1111, 617, 6144, 184, 8531, 566, 22635, 614, 10442, 11470, 215, 588, 612, 19, 22636, 3053, 2066, 730, 1175, 15, 1431, 6776, 6, 916, 311, 2933, 5060, 2881, 2082, 2882, 63, 164, 940, 11717, 5968, 2882, 1035, 2332, 432, 215, 4708, 2243, 5, 63, 6909, 685, 7, 164, 940, 13809, 227, 2933, 1723, 63, 3809, 16819, 372, 10, 4107, 3356, 5, 105, 3655, 10, 275, 574, 2933, 2453, 7531, 96, 6, 4200, 4794, 275, 552, 129, 5, 761, 105, 3053, 9, 1437, 317, 105, 22637, 54, 912, 262, 854, 4129, 41, 1154, 1793, 3573, 9320, 8843, 442, 1367, 173, 919, 1493, 29, 13666, 22638, 389, 7207, 1529, 4662, 8505, 3186, 3663, 10, 605, 1150, 3989, 71, 3, 160, 2834, 187, 112, 357, 10443, 4460, 2533, 8466, 248, 1736, 218, 127, 4460, 2533, 5643, 1707, 5060, 4215, 498, 11866, 86, 160, 1544, 2533, 724, 1965, 54, 17, 2, 2376, 2498, 121, 2031, 1634, 17, 142, 1236, 1027, 2533, 1527, 3, 27, 3203, 18, 11617, 222, 7560, 435, 933, 10412, 211, 5643, 1294, 1111, 617, 402, 718, 1087, 63, 6775, 203, 3035, 213, 2016, 22639, 1261, 6, 1360, 1679, 372, 969, 171, 2802, 893, 9334, 45, 221, 4522, 2624, 1263, 14, 15, 253, 9087, 90, 3109, 2933, 116, 724, 18, 16, 726, 5, 12900, 10, 2386, 6773, 2, 2376, 2030, 2096, 16820, 1216, 6241, 1293, 1360, 10, 22640, 2497, 2, 2376, 1253, 2576, 10444, 8532, 5011, 1397, 4039, 3163, 1615, 7289, 1397, 4, 22641, 1612, 485, 301, 1260, 3427, 1909, 6960, 1876, 10445, 1352, 213, 275, 295, 3476, 22642, 738, 4747, 3382, 916, 2376, 712, 2710, 259, 916, 6, 862, 8533, 2442, 5760, 916, 3371, 7198, 2533, 1628, 4107, 22643, 21, 5479, 2427, 9336, 13570, 17, 464, 7, 2576, 1769, 210, 76, 9337, 11431, 22644, 22645, 432, 164, 2598, 71, 316, 2576, 432, 64, 13250, 724, 13798, 1846, 13810, 22646, 272, 18, 719, 22647, 3425, 107, 27, 129, 724, 5622, 2376, 189, 16, 352, 1140, 18, 5, 27, 2376, 75, 9, 181, 2684, 181, 5071, 6, 30, 359, 59, 1330, 11865, 2, 2376, 1100, 83, 2750, 127, 482, 724, 2933, 16, 22648, 6161, 2533, 916, 1622, 2933, 16, 265, 16, 394, 1926, 13811, 1656, 10446, 349, 547, 352, 271, 203, 513, 1023, 76, 13812, 10447, 6460, 4010, 1979, 22649, 13813, 13814, 199, 16, 4338, 526, 136, 1020, 683, 1674, 1589, 2, 2376, 2427, 3501, 717, 280, 215, 3, 27, 62, 3501, 9, 62, 724, 484, 25, 125, 778, 1975, 43, 7769, 2077, 1794, 1221, 1757, 2960, 16345, 102, 634, 418, 254, 291, 3, 860, 36, 83, 396, 2, 2376, 3573, 9, 327, 349, 2933, 5134, 102, 400, 40, 1590, 5379, 11858, 4662, 508, 388, 1685, 129, 2933, 2029, 360, 13815, 548, 802, 4408, 1685, 102, 316, 13313, 4826, 916, 320, 3552, 11, 3478, 514, 6, 916, 1002, 10446, 22650, 400, 2933, 43, 116, 360, 275, 7863, 464, 7, 493, 7228, 11867, 750, 1793, 22651, 2772, 485, 912, 648, 102, 1028, 9318, 11808, 22652, 940, 940, 4725, 2933, 2569, 90, 2933, 96, 2647, 2, 11867, 641, 750, 1560, 7864, 10448, 5121, 1061, 16821, 1543, 2374, 1979, 529, 187, 2378, 16, 1470, 4889, 502, 1850, 25, 442, 110, 40, 7290, 442, 2, 11867, 1206, 19, 791, 198, 2167, 64, 4186, 5783, 2376, 9936, 11206, 10004, 10449, 22653, 1733, 1247, 7141, 6, 30, 16, 3415, 2243, 969, 2782, 1324, 1126, 802, 301, 5783, 2376, 13816, 6490, 116, 2243, 3132, 317, 6357, 2376, 2471, 62, 4129, 963, 171, 316, 13817, 802, 4408, 864, 2751, 16, 422, 1769, 164, 718, 523, 13, 1330, 1597, 4461, 13801, 2053, 738, 4709, 3875, 169, 1198, 679, 1442, 3690, 117, 2492, 11305, 524, 160, 506, 1190, 2533, 581, 36, 127, 29, 1818, 36, 313, 900, 295, 313, 1979, 1965, 1330, 2, 2376, 1236, 513, 239, 916, 294, 16, 2305, 1901, 2486, 13159, 125, 196, 171, 2459, 3096, 13807, 320, 4351, 761, 916, 11868, 760, 3684, 1148, 1034, 70, 76, 16, 177, 1235, 916, 2533, 933, 214, 3292, 1330, 5783, 2376, 4462, 1308, 9, 327, 349, 7560, 581, 458, 1365, 2825, 303, 18, 1344, 4107, 3476, 35, 5, 4662, 441, 1313, 956, 5057, 581, 2542, 261, 309, 8440, 2153, 2338, 1330, 2, 2376, 1634, 265, 16, 91, 5329, 3406, 3221, 1751, 7, 195, 10450, 2782, 1979, 1370, 3775, 259, 16822, 2523, 22654, 484, 3973, 11869, 2629, 96, 1689, 742, 7209, 143, 6886, 2, 2376, 2750, 2469, 335, 4057, 9799, 76, 16, 48, 1087, 2, 2376, 1049, 4852, 750, 20, 192, 5, 265, 11870, 5, 1104, 892, 16804, 528, 4522, 1566, 4935, 5378, 86, 4266, 4899, 764, 10451, 76, 5, 3501, 2782, 2834, 359, 59, 506, 27, 1154, 2, 2376, 1253, 1300, 981, 181, 16800, 275, 6738, 1061, 13818, 3, 11871, 7706, 30, 22655, 27, 6, 30, 200, 11872, 27, 6, 30, 949, 3691, 5, 21, 1541, 11867, 8275, 16, 13818, 1078, 4377, 22656, 3717, 38, 1155, 22657, 645, 94, 889, 1432, 2658, 3625, 3625, 482, 314, 1723, 11177, 4408, 3747, 9338, 969, 1252, 22658, 314, 13818, 22659, 5265, 22660, 6340, 493, 6, 30, 7291, 1752, 1330, 2, 2376, 1634, 2521, 1011, 2160, 3218, 76, 2782, 316, 902, 23, 199, 751, 5783, 712, 102, 423, 432, 4662, 712, 83, 892, 5378, 3573, 4017, 4107, 7470, 8843, 164, 523, 22661, 16823, 956, 13819, 4520, 3280, 5272, 605, 5622, 5630, 1330, 29, 8488, 3875, 11402, 6777, 117, 16, 893, 10452, 11873, 1875, 1612, 943, 7271, 10453, 2354, 3292, 2269, 611, 2933, 248, 1736, 334, 1793, 22662, 4045, 3660, 4, 12, 803, 985, 13807, 1243, 4460, 265, 2809, 7653, 4099, 22663, 2299, 112, 1210, 1005, 1209, 237, 19, 574, 2058, 22664, 16824, 610, 1162, 5585, 261, 1245, 253, 49, 60, 657, 13820, 4463, 5960, 634, 11858, 663, 22665, 5522, 392, 1050, 867, 6, 2761, 588, 419, 75, 1701, 2, 2376, 3176, 4558, 337, 75, 261, 9059, 164, 523, 265, 254, 1075, 542, 5, 27, 5045, 717, 787, 738, 27, 320, 23, 3815, 319, 400, 43, 5045, 5, 319, 13584, 319, 43, 5045, 129, 9, 11874, 164, 324, 1352, 738, 551, 11874, 9334, 280, 2442, 787, 13821, 22666, 5, 164, 523, 22667, 680, 160, 1727, 254, 291, 391, 1330, 513, 1556, 22668, 5783, 2376, 16825, 910, 9, 1543, 7706, 2275, 22669, 3678, 7, 7292, 751, 4, 372, 9087, 447, 22670, 411, 2521, 343, 11875, 13822, 5280, 22671, 3533, 280, 215, 40, 1190, 2540, 33, 2099, 4463, 10454, 143, 253, 2624, 11876, 363, 70, 16, 54, 13711, 1987, 7, 80, 2883, 485, 301, 492, 1801, 7850, 248, 1736, 164, 523, 3434, 13823, 16, 9132, 27, 29, 5330, 1965, 62, 2, 2376, 1057, 780, 1634, 348, 2471, 6778, 531, 2953, 677, 248, 1736, 1330, 11865, 2, 2376, 1330, 2, 2376, 226, 6776, 16, 981, 7, 16826, 139, 9338, 83, 484, 8349, 2299, 1195, 234, 454, 940, 6776, 747, 292, 2175, 2934, 13824, 38, 361, 1322, 2533, 933, 10, 6773, 209, 3367, 1330, 29, 850, 2, 2376, 1, 5477, 1751, 396, 14, 316, 183, 5554, 2357, 40, 1139, 995, 6625, 202, 7140, 9132, 485, 301, 7865, 10019, 5, 43, 2160, 3356, 11147, 1180, 573, 2, 2376, 1626, 3382, 13797, 6, 916, 82, 1881, 7197, 769, 3382, 13797, 2046, 2192, 16827, 1221, 9339, 22672, 22673, 13825, 11, 13826, 16828, 3382, 13810, 1023, 2628, 3809, 2413, 466, 4107, 3356, 328, 351, 253, 1023, 22674, 4010, 1580, 160, 2051, 46, 506, 5, 2, 2376, 3023, 6, 916, 1254, 4129, 13825, 5072, 2650, 9084, 7866, 8534, 2051, 72, 558, 269, 5072, 1221, 466, 1482, 3761, 1096, 20, 102, 4764, 127, 551, 62, 513, 852, 717, 1263, 430, 363, 25, 1485, 1367, 173, 8843, 1040, 2386, 647, 10455, 574, 10, 889, 1739, 1737, 4662, 303, 2615, 22675, 10317, 2029, 36, 2142, 76, 539, 19, 1589, 5783, 2376, 16829, 9336, 105, 860, 1330, 1597, 1236, 4662, 10455, 1125, 10456, 13827, 13828, 121, 1890, 4, 262, 491, 105, 16830, 3748, 934, 1015, 11877, 2101, 182, 69, 4756, 4484, 220, 16831, 89, 1574, 620, 16146, 9336, 6752, 2107, 3973, 484, 86, 50, 1221, 11878, 16832, 2259, 6159, 4177, 22676, 16808, 8524, 27, 75, 299, 2101, 4408, 122, 1111, 617, 13794, 11305, 770, 60, 57, 1, 697, 5571, 446, 10, 6668, 7612, 36, 22677, 1222, 4971, 48, 7557, 2786, 13822, 49, 1936, 585, 1111, 773, 35, 13829, 355, 177, 136, 280, 215, 1148, 39, 13830, 1552, 5714, 22678, 1261, 2, 2376, 22679, 94, 3775, 5736, 11039, 40, 361, 314, 2555, 8265, 432, 5378])],\n",
       "      dtype=object)"
      ]
     },
     "execution_count": 63,
     "metadata": {},
     "output_type": "execute_result"
    }
   ],
   "source": [
    "X = df['text'].values\n",
    "X"
   ]
  },
  {
   "cell_type": "code",
   "execution_count": 78,
   "id": "compressed-beijing",
   "metadata": {},
   "outputs": [],
   "source": [
    "X = pad_sequences(X, maxlen=max_len, padding=\"post\")"
   ]
  },
  {
   "cell_type": "code",
   "execution_count": 79,
   "id": "serious-canada",
   "metadata": {},
   "outputs": [
    {
     "data": {
      "text/plain": [
       "array([[  938,  7182,    52, ...,     0,     0,     0],\n",
       "       [12792,  7903,  3331, ...,     0,     0,     0],\n",
       "       [ 1029,   315, 10575, ...,     0,     0,     0],\n",
       "       ...,\n",
       "       [ 1324,  1510,   843, ...,     0,     0,     0],\n",
       "       [ 4350,  3728,  2997, ...,     0,     0,     0],\n",
       "       [ 1442,  1148,  8413, ...,  8265,   432,  5378]], dtype=int32)"
      ]
     },
     "execution_count": 79,
     "metadata": {},
     "output_type": "execute_result"
    }
   ],
   "source": [
    "X"
   ]
  },
  {
   "cell_type": "code",
   "execution_count": 37,
   "id": "adverse-collect",
   "metadata": {},
   "outputs": [],
   "source": [
    "batch = 32\n",
    "def train_generator():\n",
    "    start = 0\n",
    "    end = batch\n",
    "    x_length = len(X)\n",
    "    \n",
    "    while True:\n",
    "        curr_max_len = max([len(text) for text in df['text'][start:end]])\n",
    "        # print(f'batch: {i}:{i+batch}; max_len:{curr_max_len}')\n",
    "        x_train = pad_sequences(X[start:end], maxlen=curr_max_len, padding=\"post\")\n",
    "        y_train = Y[start:end]\n",
    "        yield x_train, y_train\n",
    "        \n",
    "        start += batch\n",
    "        end += batch\n",
    "        \n",
    "        if end > x_length:\n",
    "            start = 0\n",
    "            end = batch"
   ]
  },
  {
   "cell_type": "code",
   "execution_count": 38,
   "id": "christian-serbia",
   "metadata": {},
   "outputs": [
    {
     "data": {
      "text/plain": [
       "[(array([[  938,  7182,    52, ...,     0,     0,     0],\n",
       "         [12792,  7903,  3331, ...,     0,     0,     0],\n",
       "         [ 1029,   315, 10575, ...,     0,     0,     0],\n",
       "         ...,\n",
       "         [  373,  6063,  9950, ...,    74,   733,   376],\n",
       "         [ 4381,  2479,  2607, ...,   791,   240,  1592],\n",
       "         [12738,   427,  5362, ...,   775,    13,   284]], dtype=int32),\n",
       "  array([0, 1, 1, 1, 1, 1, 1, 1, 1, 1, 1, 1, 1, 1, 1, 1, 1, 1, 1, 1, 1, 1,\n",
       "         1, 1, 1, 1, 1, 1, 1, 1, 1, 1])),\n",
       " (array([[ 3938,  1265,   186, ...,     0,     0,     0],\n",
       "         [ 1118,  7587,   314, ...,     0,     0,     0],\n",
       "         [ 4381,  1334,   896, ...,     0,     0,     0],\n",
       "         ...,\n",
       "         [ 3332,  3494,  7836, ...,   702, 15303,     1],\n",
       "         [ 6277,  3005,  4627, ...,   346, 10220,   849],\n",
       "         [ 8148,    20,  6126, ...,  4329,   544,   107]], dtype=int32),\n",
       "  array([1, 1, 1, 1, 1, 1, 0, 1, 1, 1, 2, 1, 1, 1, 1, 1, 1, 2, 0, 1, 0, 1,\n",
       "         3, 1, 1, 1, 2, 1, 1, 2, 1, 1])),\n",
       " (array([[  500,   977,  2741, ...,     0,     0,     0],\n",
       "         [   18,  1434,  5689, ...,     0,     0,     0],\n",
       "         [ 5094, 24584,    33, ...,     0,     0,     0],\n",
       "         ...,\n",
       "         [  739, 16311,    30, ...,  1980,  1508,    37],\n",
       "         [ 3461, 10327,    14, ...,   156,    21,    14],\n",
       "         [10269,  2565,  7186, ...,   204, 21884,  1242]], dtype=int32),\n",
       "  array([0, 1, 2, 1, 2, 1, 1, 1, 0, 1, 2, 1, 1, 1, 2, 0, 2, 0, 1, 1, 1, 1,\n",
       "         3, 1, 1, 3, 1, 1, 2, 0, 1, 2])),\n",
       " (array([[ 3036, 12242,  1162, ...,     0,     0,     0],\n",
       "         [10850,   691,   323, ...,     0,     0,     0],\n",
       "         [ 3451,  1007,  1865, ...,     0,     0,     0],\n",
       "         ...,\n",
       "         [ 7368, 17847,     7, ...,  2312,  1165,     0],\n",
       "         [13142,   613,  9020, ...,  5808, 21103,     0],\n",
       "         [ 2141,  8862,  2734, ...,  1286,   134,   481]], dtype=int32),\n",
       "  array([3, 1, 1, 1, 3, 1, 0, 0, 3, 1, 1, 2, 0, 2, 2, 3, 2, 3, 2, 1, 1, 3,\n",
       "         0, 4, 1, 2, 1, 1, 0, 1, 3, 1])),\n",
       " (array([[ 6955,   488,     7, ...,     0,     0,     0],\n",
       "         [ 3495,   916,  7906, ...,     0,     0,     0],\n",
       "         [ 4660,  4824,   669, ...,     0,     0,     0],\n",
       "         ...,\n",
       "         [14442,  1600,    61, ...,  5496,    26,   480],\n",
       "         [ 2020, 26260,     6, ...,  1123,   107,   378],\n",
       "         [  399,  9243,  1173, ...,     9,   440,   663]], dtype=int32),\n",
       "  array([2, 1, 0, 1, 1, 1, 1, 2, 1, 1, 3, 1, 1, 0, 1, 1, 2, 0, 1, 2, 1, 1,\n",
       "         1, 2, 3, 3, 1, 3, 2, 3, 2, 2])),\n",
       " (array([[ 1118, 19601,  1660, ...,     0,     0,     0],\n",
       "         [12432,   558,  2039, ...,     0,     0,     0],\n",
       "         [ 3461,  2962,  7888, ...,     0,     0,     0],\n",
       "         ...,\n",
       "         [  455,  2074,  1333, ...,   194,   701,   753],\n",
       "         [  187,  1177,  3879, ...,  4696,  1068, 12882],\n",
       "         [10170,  1173,   853, ...,  5025,  3396,    37]], dtype=int32),\n",
       "  array([1, 3, 1, 0, 1, 1, 2, 2, 0, 1, 2, 2, 3, 2, 2, 0, 2, 3, 2, 3, 1, 1,\n",
       "         2, 2, 0, 2, 2, 3, 4, 4, 4, 1])),\n",
       " (array([[3125, 3850,  970, ...,    0,    0,    0],\n",
       "         [ 187, 2293,  175, ...,    0,    0,    0],\n",
       "         [1976,  303, 1086, ...,    0,    0,    0],\n",
       "         ...,\n",
       "         [ 329, 1173,    6, ...,  129, 4187,    1],\n",
       "         [3576, 3771, 2519, ...,   87, 1891,  371],\n",
       "         [7351, 1259, 4301, ...,    7, 1288,   43]], dtype=int32),\n",
       "  array([1, 0, 1, 3, 4, 3, 3, 3, 1, 1, 2, 3, 2, 2, 3, 2, 3, 0, 2, 2, 3, 2,\n",
       "         1, 1, 1, 1, 3, 2, 2, 2, 3, 3])),\n",
       " (array([[ 1918,   302,    24, ...,     0,     0,     0],\n",
       "         [ 1772,    20,   552, ...,     0,     0,     0],\n",
       "         [15069,  7291,  5862, ...,     0,     0,     0],\n",
       "         ...,\n",
       "         [ 4606,  6523,  2156, ..., 20230, 20231,    74],\n",
       "         [    7,    61,  2606, ...,    18,  1393,     9],\n",
       "         [   50,   253, 20654, ...,    93,   253, 11143]], dtype=int32),\n",
       "  array([1, 1, 1, 1, 1, 1, 2, 1, 2, 0, 2, 3, 2, 2, 2, 3, 1, 3, 1, 1, 2, 3,\n",
       "         1, 3, 4, 3, 1, 1, 1, 1, 3, 0])),\n",
       " (array([[13508,   718,    32, ...,     0,     0,     0],\n",
       "         [  274,  8438,  5119, ...,     0,     0,     0],\n",
       "         [ 1919,  2479, 10991, ...,     0,     0,     0],\n",
       "         ...,\n",
       "         [ 1411,  9690,  2263, ...,  4349,   612,   371],\n",
       "         [ 4730,  3006,   838, ...,  4504,  4099,   251],\n",
       "         [ 1026,  1637,    20, ...,   924, 20121, 20122]], dtype=int32),\n",
       "  array([3, 0, 1, 1, 3, 1, 3, 1, 1, 3, 1, 3, 0, 1, 0, 1, 3, 2, 2, 3, 1, 3,\n",
       "         3, 2, 1, 0, 2, 2, 3, 1, 3, 1])),\n",
       " (array([[ 2397,  7903,   859, ...,     0,     0,     0],\n",
       "         [ 2765,   143,  6895, ...,     0,     0,     0],\n",
       "         [ 7946,  2962,  1748, ...,     0,     0,     0],\n",
       "         ...,\n",
       "         [ 6882,  3108,   609, ...,   354,   418,    43],\n",
       "         [ 3506,   293, 11015, ..., 10678,  1725,    73],\n",
       "         [ 9460, 10350,  2996, ...,  6118, 23445,   181]], dtype=int32),\n",
       "  array([1, 1, 1, 1, 3, 1, 1, 3, 3, 1, 3, 1, 1, 3, 1, 1, 2, 1, 1, 1, 2, 1,\n",
       "         3, 3, 3, 3, 2, 1, 1, 2, 0, 1])),\n",
       " (array([[ 1376,  2700,  3220, ...,   110,     0,     0],\n",
       "         [13741,  2758,  1656, ...,  5986,     0,     0],\n",
       "         [14058, 11008, 19981, ...,  1864,     0,     0],\n",
       "         ...,\n",
       "         [    7,  1320,  9198, ...,   516, 13669, 25826],\n",
       "         [  258,  1677,  1587, ...,  1440,   459,   379],\n",
       "         [ 2607, 12663,  2147, ..., 27161,  5639,  7576]], dtype=int32),\n",
       "  array([1, 3, 2, 1, 1, 1, 0, 0, 1, 4, 3, 2, 2, 3, 1, 3, 1, 3, 1, 1, 3, 3,\n",
       "         3, 1, 2, 3, 1, 1, 4, 2, 4, 1])),\n",
       " (array([[ 4051,    97,  4052, ...,     0,     0,     0],\n",
       "         [ 5478,  2886,  1080, ...,     0,     0,     0],\n",
       "         [ 7912,   736, 15542, ...,     0,     0,     0],\n",
       "         ...,\n",
       "         [  710,   229,  2606, ..., 24959, 18192,  7035],\n",
       "         [ 8322,  3974,   627, ...,   898,   753,  1415],\n",
       "         [12392, 11592,   782, ...,   155, 10549,    92]], dtype=int32),\n",
       "  array([2, 3, 2, 2, 1, 2, 1, 2, 1, 3, 1, 3, 1, 1, 0, 3, 1, 2, 2, 2, 3, 1,\n",
       "         2, 3, 1, 1, 3, 3, 3, 3, 3, 3])),\n",
       " (array([[ 7263,   126,  1789, ...,     0,     0,     0],\n",
       "         [ 6499,  6115,  1452, ...,     0,     0,     0],\n",
       "         [ 5277,    91, 27305, ...,     0,     0,     0],\n",
       "         ...,\n",
       "         [  217, 14515,  2827, ...,   142,   226,     0],\n",
       "         [  481,  1713,   398, ...,   109,  2162,     0],\n",
       "         [   11,   324,  1177, ...,  4815,   720,  2063]], dtype=int32),\n",
       "  array([3, 1, 2, 3, 3, 3, 2, 0, 2, 1, 2, 3, 2, 1, 2, 2, 1, 3, 3, 3, 0, 3,\n",
       "         1, 2, 0, 3, 1, 2, 1, 1, 3, 0])),\n",
       " (array([[ 1094,   236,  2024, ...,  1474,     0,     0],\n",
       "         [ 6038,  1315,   851, ...,  1319,     0,     0],\n",
       "         [ 1844,   446,  2449, ...,  1796,     0,     0],\n",
       "         ...,\n",
       "         [ 3866,  5088, 27562, ..., 18454, 18455, 27571],\n",
       "         [ 2015,  3282,  1712, ...,   241,  1891,   371],\n",
       "         [ 1438, 10629, 23646, ...,   482,   862,   351]], dtype=int32),\n",
       "  array([3, 3, 3, 3, 1, 0, 2, 2, 2, 3, 3, 3, 1, 1, 3, 2, 0, 2, 2, 4, 1, 2,\n",
       "         3, 1, 3, 0, 2, 2, 3, 3, 3, 2])),\n",
       " (array([[  849, 12103,    76, ...,     0,     0,     0],\n",
       "         [ 4336,  2653,   159, ...,   608,     0,     0],\n",
       "         [ 7886,   543,   788, ...,   367,     0,     0],\n",
       "         ...,\n",
       "         [  629,  1008,    30, ...,  5314,   649,  1151],\n",
       "         [ 1928,   294,   191, ...,  2718,   321,   563],\n",
       "         [ 5430,  2215,   168, ...,   729,    11,   205]], dtype=int32),\n",
       "  array([1, 3, 0, 1, 4, 3, 1, 0, 3, 2, 3, 2, 3, 3, 3, 2, 3, 3, 1, 0, 0, 0,\n",
       "         2, 2, 0, 2, 1, 2, 3, 0, 1, 2])),\n",
       " (array([[  331,  3260,   759, ..., 13477,     0,     0],\n",
       "         [11757, 13686,  1050, ..., 22314,     0,     0],\n",
       "         [ 1537,   523,  2744, ...,  4846,     0,     0],\n",
       "         ...,\n",
       "         [  274,  2216,  9702, ...,  1221,   998,     3],\n",
       "         [ 6756,  5323,  1003, ...,  2963,   525, 16680],\n",
       "         [ 9175,   277,  7235, ..., 26900,  1208,   277]], dtype=int32),\n",
       "  array([2, 2, 2, 2, 3, 1, 2, 3, 3, 3, 3, 4, 1, 1, 1, 0, 1, 0, 3, 0, 0, 2,\n",
       "         3, 2, 2, 2, 3, 4, 4, 0, 2, 1])),\n",
       " (array([[  554,  1585,  2738, ...,  1861,     0,     0],\n",
       "         [  120,     8,  7581, ..., 10195,     0,     0],\n",
       "         [ 2233,  1234,  2847, ...,  1258,     0,     0],\n",
       "         ...,\n",
       "         [ 6623,    39,   255, ...,   269,  2882,  3187],\n",
       "         [ 2753,  1523,  6935, ...,   145,  6588,     1],\n",
       "         [    7,    84,   833, ...,   127,   708,   205]], dtype=int32),\n",
       "  array([1, 2, 1, 2, 3, 3, 3, 1, 1, 2, 3, 2, 2, 1, 3, 3, 2, 0, 3, 2, 3, 3,\n",
       "         3, 0, 2, 2, 3, 1, 2, 3, 4, 3])),\n",
       " (array([[  45, 2373, 5753, ...,    0,    0,    0],\n",
       "         [1052,  341, 5692, ...,    0,    0,    0],\n",
       "         [2806, 2811,  151, ...,    0,    0,    0],\n",
       "         ...,\n",
       "         [ 244, 1440,  132, ..., 8993,  972,    0],\n",
       "         [   7,  398,  175, ..., 1744, 2879,    0],\n",
       "         [1927,  591, 1766, ..., 4077, 1927, 4806]], dtype=int32),\n",
       "  array([2, 3, 3, 1, 4, 1, 3, 1, 1, 3, 2, 1, 3, 3, 4, 2, 2, 3, 2, 1, 3, 2,\n",
       "         1, 3, 4, 3, 2, 1, 3, 2, 3, 3])),\n",
       " (array([[ 2263,    61,  1223, ..., 11303,     0,     0],\n",
       "         [   32, 11714,  6193, ...,     1,     0,     0],\n",
       "         [ 2278, 12663,   954, ...,    97,     0,     0],\n",
       "         ...,\n",
       "         [ 1585,  3290,  6212, ...,  7951, 18387,     1],\n",
       "         [  465,   130,   159, ...,    13,    34,    98],\n",
       "         [    7,   853, 21934, ...,   197,   917,   297]], dtype=int32),\n",
       "  array([3, 3, 2, 2, 2, 0, 2, 1, 1, 2, 3, 4, 3, 0, 0, 2, 0, 4, 0, 1, 1, 3,\n",
       "         3, 3, 2, 1, 1, 2, 2, 1, 2, 3])),\n",
       " (array([[ 5666,  1542,  1373, ...,     0,     0,     0],\n",
       "         [  126,  6167,  2773, ...,     0,     0,     0],\n",
       "         [  244,   140,  2317, ...,     0,     0,     0],\n",
       "         ...,\n",
       "         [ 3375,   227, 12933, ...,  2200,    28,   251],\n",
       "         [ 2855,  1178,  5583, ...,   601,   125,   386],\n",
       "         [27316,    81,   110, ...,   704, 27323,  2596]], dtype=int32),\n",
       "  array([3, 1, 4, 3, 1, 4, 2, 1, 4, 1, 3, 0, 1, 4, 3, 3, 2, 3, 2, 1, 0, 4,\n",
       "         1, 0, 1, 3, 0, 1, 3, 4, 1, 2])),\n",
       " (array([[   59,  8805,   529, ...,     0,     0,     0],\n",
       "         [ 2575,  4871,     6, ...,     0,     0,     0],\n",
       "         [ 3821,   159,   126, ...,     0,     0,     0],\n",
       "         ...,\n",
       "         [ 5693,  3298,  2120, ...,    27,  3045,     0],\n",
       "         [ 3859,  1174,  3166, ...,  3825,   532,   129],\n",
       "         [  562, 31100,   687, ...,  3131,    12,    17]], dtype=int32),\n",
       "  array([0, 2, 1, 1, 1, 2, 3, 3, 2, 4, 1, 2, 0, 1, 0, 3, 3, 1, 3, 2, 0, 3,\n",
       "         4, 1, 4, 3, 2, 3, 1, 1, 3, 1])),\n",
       " (array([[ 2507,   736,  9712, ...,  1644,     0,     0],\n",
       "         [ 5928,  1581,  2510, ...,   895,     0,     0],\n",
       "         [ 1546,  6476,    72, ...,   141,     0,     0],\n",
       "         ...,\n",
       "         [  798,  7114,   347, ...,  1403,   547,    38],\n",
       "         [17586,  1851,   574, ...,   278,   356,   123],\n",
       "         [ 5694,  2191,   591, ...,  2191,   496,   126]], dtype=int32),\n",
       "  array([2, 2, 3, 3, 3, 3, 1, 0, 2, 2, 2, 0, 0, 1, 2, 2, 3, 3, 1, 1, 2, 3,\n",
       "         2, 3, 2, 1, 2, 1, 2, 1, 2, 1])),\n",
       " (array([[ 6145,  6773,   557, ...,     0,     0,     0],\n",
       "         [ 1495,    39,  3342, ...,     0,     0,     0],\n",
       "         [  822,   937,  4372, ...,     1,     0,     0],\n",
       "         ...,\n",
       "         [ 2654,  2128,  8149, ...,  1258,  3889,   323],\n",
       "         [ 1811,   184, 22837, ...,  3522,   697,   227],\n",
       "         [  640,    44,   159, ...,  1304,    90,  1513]], dtype=int32),\n",
       "  array([3, 1, 4, 2, 1, 2, 1, 4, 1, 2, 3, 3, 1, 0, 0, 2, 2, 2, 1, 3, 2, 0,\n",
       "         2, 2, 2, 0, 2, 4, 2, 2, 2, 2])),\n",
       " (array([[ 2411,   109,  1987, ...,     0,     0,     0],\n",
       "         [ 3842,  6405,  1334, ...,     0,     0,     0],\n",
       "         [ 4358,    43,   277, ...,     0,     0,     0],\n",
       "         ...,\n",
       "         [  663,  3202,   609, ...,   987,  2966,  1222],\n",
       "         [10058,   968,     6, ...,  2947,  1369,  2387],\n",
       "         [ 1811,   329, 15544, ...,  1400,    31,    18]], dtype=int32),\n",
       "  array([3, 1, 2, 3, 3, 1, 4, 2, 3, 4, 4, 2, 1, 1, 1, 4, 3, 1, 3, 1, 1, 0,\n",
       "         4, 3, 0, 2, 3, 3, 3, 2, 2, 2])),\n",
       " (array([[ 1976,  1133,   105, ...,  3782,     0,     0],\n",
       "         [ 1729,  1531,  1008, ...,  3542,     0,     0],\n",
       "         [ 2911,  1158,   263, ...,  5155,     0,     0],\n",
       "         ...,\n",
       "         [  688,    20, 11214, ...,  1280,   899,  1439],\n",
       "         [ 1802,  2544,  2293, ...,   358,   898,   952],\n",
       "         [  837,   300,  1810, ...,    17,    99,    98]], dtype=int32),\n",
       "  array([1, 3, 1, 1, 3, 2, 2, 2, 2, 3, 3, 1, 1, 3, 1, 1, 3, 3, 2, 0, 1, 0,\n",
       "         2, 1, 1, 3, 1, 2, 2, 0, 0, 2])),\n",
       " (array([[  804,    36,    68, ...,    68,     0,     0],\n",
       "         [ 3503,   468,   243, ...,   271,     0,     0],\n",
       "         [  244,   140,  2317, ..., 19459,     0,     0],\n",
       "         ...,\n",
       "         [    7,    84,   736, ...,    66,     5,    65],\n",
       "         [    6,  4326,  1173, ...,   745,    19,  1152],\n",
       "         [27173,  6270,   155, ..., 10478, 13873, 11916]], dtype=int32),\n",
       "  array([0, 2, 4, 2, 0, 1, 4, 1, 3, 1, 1, 1, 2, 3, 4, 2, 2, 2, 0, 2, 4, 2,\n",
       "         0, 4, 2, 4, 3, 3, 3, 3, 4, 1])),\n",
       " (array([[28390,  1658,   611, ...,     0,     0,     0],\n",
       "         [ 3503,   827,   773, ...,     0,     0,     0],\n",
       "         [  872, 10733,   532, ...,     0,     0,     0],\n",
       "         ...,\n",
       "         [ 2309,  9702,   438, ...,  3359,     2,  3546],\n",
       "         [ 7425,  5342,  5733, ...,   271,    37,  7425],\n",
       "         [   18,  1647,  5565, ...,  2043, 18775,  2467]], dtype=int32),\n",
       "  array([1, 2, 4, 4, 0, 3, 3, 1, 3, 2, 3, 0, 3, 0, 2, 2, 2, 3, 0, 3, 1, 2,\n",
       "         3, 2, 1, 2, 1, 2, 1, 2, 1, 3])),\n",
       " (array([[  258,  3653,  4467, ...,   897,     0,     0],\n",
       "         [ 1748,   344,  3092, ...,    78,     0,     0],\n",
       "         [  627,  1207,  1348, ...,  2655,     0,     0],\n",
       "         ...,\n",
       "         [ 2215,  1088,  2774, ...,  1931,   817,  2215],\n",
       "         [ 8939,   879,  1285, ...,   967,  1103,   677],\n",
       "         [  367,   736,  2058, ...,   490,  1807, 19345]], dtype=int32),\n",
       "  array([4, 1, 3, 0, 2, 3, 1, 0, 2, 0, 2, 2, 4, 3, 3, 3, 0, 3, 3, 3, 1, 4,\n",
       "         3, 4, 0, 2, 4, 2, 4, 4, 2, 0])),\n",
       " (array([[   72,   322,   500, ...,     0,     0,     0],\n",
       "         [14584,  2140,  5969, ...,     0,     0,     0],\n",
       "         [ 3689,  2515,  2348, ...,     0,     0,     0],\n",
       "         ...,\n",
       "         [ 8744,  5726,   704, ...,  2611,   753,  4390],\n",
       "         [ 2191,   141,  4438, ...,  9268,    12,  4004],\n",
       "         [ 1558, 10742,  4474, ...,   330,   264,   712]], dtype=int32),\n",
       "  array([0, 2, 3, 2, 1, 1, 1, 3, 4, 3, 4, 2, 1, 3, 4, 3, 1, 2, 1, 2, 2, 4,\n",
       "         3, 3, 4, 2, 3, 0, 2, 2, 2, 2])),\n",
       " (array([[ 6936,  2561,   451, ...,     0,     0,     0],\n",
       "         [    6,  1348,  2411, ...,     0,     0,     0],\n",
       "         [  134,   639,   116, ...,  1362,     0,     0],\n",
       "         ...,\n",
       "         [ 4638,  2886,  3821, ...,  8778,    37, 12789],\n",
       "         [  851,   176,  1173, ...,   140,    28,    51],\n",
       "         [ 1186,  8936,  9927, ...,  1148,   417,    19]], dtype=int32),\n",
       "  array([2, 3, 1, 2, 3, 3, 2, 2, 3, 2, 3, 4, 4, 0, 2, 2, 1, 4, 3, 0, 0, 3,\n",
       "         2, 4, 0, 2, 2, 4, 0, 1, 4, 0])),\n",
       " (array([[3336, 3505, 8540, ...,    0,    0,    0],\n",
       "         [2912,  644,  922, ...,    0,    0,    0],\n",
       "         [2340,  676,   99, ...,    0,    0,    0],\n",
       "         ...,\n",
       "         [3938,  872, 5628, ..., 3803,    6, 6035],\n",
       "         [ 328,   26, 2473, ..., 2004, 1388,  672],\n",
       "         [ 155,   39,    6, ...,  572, 7944, 4864]], dtype=int32),\n",
       "  array([1, 1, 3, 4, 0, 1, 1, 2, 0, 3, 0, 3, 0, 2, 1, 1, 2, 1, 1, 2, 3, 3,\n",
       "         1, 1, 2, 4, 3, 2, 2, 4, 3, 3])),\n",
       " (array([[    7,   247,   338, ...,     0,     0,     0],\n",
       "         [   59,  7587, 29199, ...,     0,     0,     0],\n",
       "         [  986,  4292,    26, ...,     0,     0,     0],\n",
       "         ...,\n",
       "         [ 7076, 10056,   295, ...,   603,   154,  3168],\n",
       "         [ 3992,  5342,  3701, ...,   380,   539,    19],\n",
       "         [   50,   193,   766, ...,  9808,   663, 11819]], dtype=int32),\n",
       "  array([2, 0, 3, 3, 2, 3, 2, 3, 1, 3, 1, 0, 2, 3, 0, 2, 2, 2, 2, 0, 3, 0,\n",
       "         0, 3, 2, 4, 0, 0, 4, 1, 1, 1])),\n",
       " (array([[ 2072,  1920,    13, ...,     0,     0,     0],\n",
       "         [ 4659,  1082,  6971, ...,     0,     0,     0],\n",
       "         [10916,   771,    21, ...,     0,     0,     0],\n",
       "         ...,\n",
       "         [ 1537,   591,   262, ...,  4681,  2330,  6892],\n",
       "         [14967,   294,  1174, ...,   294,    71,  3836],\n",
       "         [  688,  1178,   847, ...,  3268,   605,  2113]], dtype=int32),\n",
       "  array([4, 3, 3, 4, 1, 4, 3, 2, 4, 2, 2, 1, 2, 2, 2, 2, 2, 2, 2, 1, 1, 2,\n",
       "         1, 1, 2, 2, 2, 0, 2, 2, 2, 0])),\n",
       " (array([[   59,  5367,     7, ...,   951,     0,     0],\n",
       "         [ 1448, 17445,  7339, ...,   135,     0,     0],\n",
       "         [ 4699,  5689,     6, ...,    39,     0,     0],\n",
       "         ...,\n",
       "         [ 9841,  1289,   935, ...,  2125,  8105,  3759],\n",
       "         [12674,  2109, 27331, ..., 12674,   227,   332],\n",
       "         [  739,  2216,  1260, ...,   183,  2293,   303]], dtype=int32),\n",
       "  array([0, 2, 1, 2, 2, 2, 3, 3, 1, 2, 3, 4, 4, 2, 1, 2, 1, 4, 1, 1, 4, 2,\n",
       "         1, 1, 2, 1, 1, 2, 2, 4, 4, 0])),\n",
       " (array([[ 2658,    24,   251, ...,     0,     0,     0],\n",
       "         [ 2658,    24,   251, ...,     0,     0,     0],\n",
       "         [    6,   739, 10541, ...,     0,     0,     0],\n",
       "         ...,\n",
       "         [ 3729,  1581,   534, ...,   622, 14870,     0],\n",
       "         [  389,   857,   266, ...,   798,   166,     0],\n",
       "         [11826,   703,  6372, ...,  1951,  1919,   545]], dtype=int32),\n",
       "  array([4, 4, 0, 0, 4, 0, 3, 2, 2, 2, 0, 0, 0, 2, 4, 0, 2, 0, 2, 4, 2, 3,\n",
       "         1, 0, 3, 4, 3, 1, 1, 2, 1, 1])),\n",
       " (array([[32444, 32445,  9758, ...,    51,     0,     0],\n",
       "         [ 2398,  3262,   393, ...,   672,     0,     0],\n",
       "         [ 6403,   644,   146, ...,  3388,     0,     0],\n",
       "         ...,\n",
       "         [ 1469,  1841, 16440, ..., 14885,   207,   119],\n",
       "         [ 4613,    91,  2916, ...,  6976,    71,   571],\n",
       "         [ 1811, 10422,    88, ...,  2122,   729,   185]], dtype=int32),\n",
       "  array([2, 2, 1, 2, 1, 1, 2, 1, 4, 2, 2, 0, 2, 0, 1, 3, 4, 1, 1, 3, 1, 2,\n",
       "         4, 1, 2, 4, 3, 2, 0, 4, 2, 2])),\n",
       " (array([[  426,  2274,  1993, ...,     0,     0,     0],\n",
       "         [ 6870,  7575, 19158, ...,     0,     0,     0],\n",
       "         [ 5999,  3980,   101, ...,     0,     0,     0],\n",
       "         ...,\n",
       "         [  882,    61, 11067, ...,   357, 12190,     0],\n",
       "         [  882,    61, 11067, ...,   357, 12190,     0],\n",
       "         [ 4692,   579,    76, ...,    74,    65,  1212]], dtype=int32),\n",
       "  array([4, 1, 2, 2, 4, 4, 1, 4, 0, 2, 3, 0, 1, 1, 3, 0, 1, 2, 2, 2, 2, 3,\n",
       "         3, 4, 1, 0, 2, 3, 3, 4, 4, 1])),\n",
       " (array([[ 1166,   806,   120, ...,     0,     0,     0],\n",
       "         [ 2278,  4086,   338, ...,     0,     0,     0],\n",
       "         [ 6331, 11302,   581, ...,     0,     0,     0],\n",
       "         ...,\n",
       "         [  938,  2637,   619, ...,   493,  5493,     0],\n",
       "         [ 1601,    55, 20164, ...,   522,     5,  3147],\n",
       "         [14388,   244,  2317, ...,   738,   315,     7]], dtype=int32),\n",
       "  array([4, 2, 0, 2, 1, 4, 2, 1, 4, 2, 2, 0, 2, 2, 4, 4, 2, 3, 4, 2, 0, 4,\n",
       "         2, 3, 2, 2, 1, 2, 2, 0, 3, 4])),\n",
       " (array([[  406,  4540, 11324, ...,     0,     0,     0],\n",
       "         [  191,  5410,   790, ...,     0,     0,     0],\n",
       "         [ 2821,   362,  1526, ...,     0,     0,     0],\n",
       "         ...,\n",
       "         [ 2258,  1200,     7, ...,    21, 12607,    37],\n",
       "         [  520,  2910,   476, ...,  8466,   107,   850],\n",
       "         [ 3282,   198,  2514, ...,   605,  2784,   202]], dtype=int32),\n",
       "  array([1, 4, 4, 4, 2, 4, 2, 3, 4, 3, 2, 1, 2, 0, 3, 4, 1, 4, 2, 2, 2, 4,\n",
       "         4, 0, 2, 2, 2, 2, 3, 3, 0, 4])),\n",
       " (array([[ 1892, 15161,   402, ...,     0,     0,     0],\n",
       "         [ 2116,   227,  5751, ...,     0,     0,     0],\n",
       "         [ 4846,  3177, 12449, ...,     0,     0,     0],\n",
       "         ...,\n",
       "         [  639,  3433,  2267, ...,  1160,  3813,     0],\n",
       "         [ 4277,   738,  7648, ..., 14012,   238,  4540],\n",
       "         [  322,     3,   266, ...,   655,    13,   655]], dtype=int32),\n",
       "  array([0, 4, 2, 4, 3, 3, 0, 0, 4, 3, 1, 1, 1, 2, 4, 4, 4, 2, 4, 0, 4, 1,\n",
       "         1, 0, 4, 1, 3, 4, 3, 3, 4, 0])),\n",
       " (array([[ 1694,  5689,  1641, ...,     0,     0,     0],\n",
       "         [  639,   268,  2608, ...,     0,     0,     0],\n",
       "         [ 4601,  1866,  2059, ...,     0,     0,     0],\n",
       "         ...,\n",
       "         [16277,  1788,   644, ...,    40,    12,   263],\n",
       "         [ 1805,   493,   940, ...,   850,   519,   102],\n",
       "         [   18,   196,  5261, ...,     6,   244,   202]], dtype=int32),\n",
       "  array([2, 3, 0, 3, 0, 1, 0, 4, 4, 4, 0, 4, 3, 4, 2, 0, 3, 2, 2, 2, 3, 1,\n",
       "         3, 4, 3, 2, 2, 1, 0, 1, 0, 3])),\n",
       " (array([[ 149, 7576,   18, ...,    0,    0,    0],\n",
       "         [   6,    8, 7392, ...,    0,    0,    0],\n",
       "         [  18, 3986, 2757, ...,    0,    0,    0],\n",
       "         ...,\n",
       "         [ 341,  495,  252, ...,  410,   47,    0],\n",
       "         [1819, 2527, 6520, ..., 7693, 4677, 4595],\n",
       "         [4458,   33,  975, ...,  157, 7546, 4800]], dtype=int32),\n",
       "  array([0, 4, 3, 2, 4, 1, 4, 0, 1, 4, 4, 0, 2, 2, 2, 0, 1, 3, 4, 4, 0, 2,\n",
       "         2, 2, 4, 2, 4, 3, 2, 3, 2, 3])),\n",
       " (array([[ 970, 2700, 1694, ...,    0,    0,    0],\n",
       "         [4458,   33,  975, ...,    0,    0,    0],\n",
       "         [  14,  556,   72, ...,    0,    0,    0],\n",
       "         ...,\n",
       "         [ 393,  266,  170, ..., 1429,  285,   37],\n",
       "         [ 329, 2657, 4293, ...,  288, 1904, 2217],\n",
       "         [2287, 1596,  173, ...,   96,  981, 3132]], dtype=int32),\n",
       "  array([2, 3, 4, 3, 2, 2, 1, 3, 2, 0, 1, 4, 3, 2, 2, 4, 0, 4, 1, 4, 4, 2,\n",
       "         0, 4, 0, 0, 2, 2, 0, 0, 2, 1])),\n",
       " (array([[ 1569,   967,  1957, ...,     0,     0,     0],\n",
       "         [  634,   543,   244, ...,     0,     0,     0],\n",
       "         [12592,  1438,  1578, ...,     0,     0,     0],\n",
       "         ...,\n",
       "         [ 1106,  1682,   644, ...,   300,  5629,  1070],\n",
       "         [  777,    58,   673, ..., 28313,   334,  2261],\n",
       "         [  140,  1697,    58, ...,  1356,   184,    37]], dtype=int32),\n",
       "  array([1, 2, 0, 1, 0, 2, 0, 4, 0, 4, 3, 2, 2, 2, 4, 4, 4, 1, 1, 4, 0, 1,\n",
       "         0, 0, 2, 4, 0, 0, 4, 4, 1, 4])),\n",
       " (array([[  290,   432,  2997, ...,     0,     0,     0],\n",
       "         [ 3108,   534,   159, ...,     0,     0,     0],\n",
       "         [    7,   312,   906, ...,     0,     0,     0],\n",
       "         ...,\n",
       "         [ 7879,   115,  2412, ...,     1,     2, 13889],\n",
       "         [ 3729,  7790,  5889, ...,   170,   478,  3516],\n",
       "         [ 5291, 10586,    13, ..., 13664,  1951,  1495]], dtype=int32),\n",
       "  array([3, 2, 2, 4, 4, 4, 2, 3, 2, 4, 1, 1, 1, 4, 4, 0, 0, 3, 1, 1, 1, 1,\n",
       "         4, 2, 1, 2, 0, 0, 2, 4, 2, 3])),\n",
       " (array([[  258,    91,  4764, ...,     0,     0,     0],\n",
       "         [ 4265,    12,   426, ...,     0,     0,     0],\n",
       "         [ 3188,   197,  5030, ...,     0,     0,     0],\n",
       "         ...,\n",
       "         [10593,  4425,   644, ...,  1956,  1709,   578],\n",
       "         [ 1118,  1216,  2194, ...,    20,   559,   574],\n",
       "         [ 2287,   333,    50, ...,   219, 25548,   765]], dtype=int32),\n",
       "  array([4, 4, 3, 4, 1, 0, 0, 2, 1, 4, 1, 1, 3, 1, 2, 4, 1, 4, 2, 2, 3, 1,\n",
       "         1, 0, 0, 0, 0, 1, 1, 0, 1, 1])),\n",
       " (array([[ 3992,  3701,   294, ...,     0,     0,     0],\n",
       "         [  408,  5500,  4074, ...,     0,     0,     0],\n",
       "         [  248,   230,    61, ...,     0,     0,     0],\n",
       "         ...,\n",
       "         [   59,    41,  3016, ...,  3377,    71,   165],\n",
       "         [ 4679,  1120,  9647, ..., 12980,  1421,   428],\n",
       "         [  674,   976,   446, ...,   674,   486,    43]], dtype=int32),\n",
       "  array([1, 1, 2, 2, 2, 0, 4, 0, 0, 0, 0, 2, 4, 2, 0, 4, 4, 4, 1, 1, 0, 2,\n",
       "         1, 0, 0, 3, 2, 0, 4, 0, 1, 4])),\n",
       " (array([[   18,   248,   230, ...,     0,     0,     0],\n",
       "         [    7,  8805,  3354, ...,     0,     0,     0],\n",
       "         [ 2430,  3432, 10837, ...,     0,     0,     0],\n",
       "         ...,\n",
       "         [  533,   404,  6606, ...,   124,   117,     0],\n",
       "         [ 3126,   967,  3672, ...,  2183,  2838,  7302],\n",
       "         [ 1477, 12616,    99, ...,  2511,     5, 13891]], dtype=int32),\n",
       "  array([2, 2, 2, 0, 0, 3, 1, 2, 2, 0, 4, 4, 0, 0, 0, 4, 0, 1, 2, 1, 0, 3,\n",
       "         3, 2, 0, 2, 3, 2, 0, 0, 0, 2])),\n",
       " (array([[  332,   227,    43, ...,     0,     0,     0],\n",
       "         [  104,   779,    52, ...,     0,     0,     0],\n",
       "         [ 3192, 11597,  1780, ...,     0,     0,     0],\n",
       "         ...,\n",
       "         [ 2176, 16868,  1272, ...,  1805,  8035,  1752],\n",
       "         [ 2629, 14223,  3646, ...,  1522,   358,  7527],\n",
       "         [ 1892,  1578,   327, ...,  5142,  1892,  6773]], dtype=int32),\n",
       "  array([4, 0, 4, 3, 4, 0, 0, 3, 4, 4, 2, 3, 2, 1, 3, 3, 3, 3, 0, 3, 4, 2,\n",
       "         4, 2, 2, 3, 0, 3, 2, 0, 4, 0])),\n",
       " (array([[  426,  4824,  3352, ...,     0,     0,     0],\n",
       "         [  426,  4824,  3352, ...,     0,     0,     0],\n",
       "         [ 1931,  1309,   822, ...,     0,     0,     0],\n",
       "         ...,\n",
       "         [  173,   554,  7800, ...,  2875, 18978,  2727],\n",
       "         [  879,   581,   438, ...,   749,   124,  4737],\n",
       "         [  322,   724,  7278, ...,   854,    13,   145]], dtype=int32),\n",
       "  array([4, 4, 4, 1, 0, 1, 1, 4, 2, 2, 0, 0, 1, 0, 4, 4, 0, 4, 0, 4, 4, 4,\n",
       "         0, 1, 3, 0, 2, 2, 2, 1, 2, 0])),\n",
       " (array([[  938,   925,    90, ...,     0,     0,     0],\n",
       "         [19533,  1371,   211, ...,     0,     0,     0],\n",
       "         [ 4130,    41,  5646, ...,     0,     0,     0],\n",
       "         ...,\n",
       "         [ 1939,  2513,    72, ...,  3826,   190,  1824],\n",
       "         [ 1765, 15627,    80, ...,    46,  5461,  6140],\n",
       "         [   24,  1712,    23, ..., 16048,   685,     1]], dtype=int32),\n",
       "  array([0, 0, 2, 4, 2, 0, 2, 4, 2, 0, 0, 1, 0, 0, 1, 0, 0, 0, 0, 4, 0, 1,\n",
       "         2, 0, 2, 4, 3, 2, 1, 2, 1, 4])),\n",
       " (array([[  59, 1120,  554, ...,    0,    0,    0],\n",
       "         [  30,   91, 3942, ...,    0,    0,    0],\n",
       "         [6001, 1334,   50, ...,    0,    0,    0],\n",
       "         ...,\n",
       "         [3160, 4711, 4146, ..., 2050,  289, 4792],\n",
       "         [ 104, 1774, 1457, ..., 3805, 1807,  700],\n",
       "         [5098,   36,  655, ...,  241,  569,  371]], dtype=int32),\n",
       "  array([0, 0, 1, 4, 0, 4, 0, 2, 2, 0, 4, 3, 0, 1, 2, 0, 2, 2, 3, 1, 4, 0,\n",
       "         0, 2, 0, 0, 4, 1, 4, 0, 2, 3])),\n",
       " (array([[ 4301,   538,   188, ...,     0,     0,     0],\n",
       "         [   72,  1069,  9915, ...,     0,     0,     0],\n",
       "         [  191,  4402,     6, ...,     0,     0,     0],\n",
       "         ...,\n",
       "         [   18,  3620,   712, ...,  2224,    83,     0],\n",
       "         [ 3345,  2372,  2351, ..., 28305, 12714, 12423],\n",
       "         [  723,   759,   362, ...,     1,     2, 13601]], dtype=int32),\n",
       "  array([3, 0, 2, 0, 0, 4, 0, 4, 0, 0, 0, 4, 3, 4, 2, 0, 2, 4, 2, 2, 0, 0,\n",
       "         0, 4, 2, 3, 0, 4, 0, 0, 1, 4])),\n",
       " (array([[10541, 14142,   159, ...,     0,     0,     0],\n",
       "         [  706,    28,  9656, ...,     0,     0,     0],\n",
       "         [  546,   208,  2294, ...,     0,     0,     0],\n",
       "         ...,\n",
       "         [ 6037,  2284,  2233, ...,   218,    17,     0],\n",
       "         [ 6037,  2284,  2233, ...,   218,    17,     0],\n",
       "         [ 1964,  2045,  2267, ...,   833,   197,    37]], dtype=int32),\n",
       "  array([0, 3, 2, 0, 4, 0, 0, 4, 4, 0, 4, 2, 0, 0, 4, 1, 4, 2, 0, 4, 0, 1,\n",
       "         0, 4, 1, 0, 0, 4, 0, 1, 1, 3])),\n",
       " (array([[   30,  2274,   149, ...,     0,     0,     0],\n",
       "         [21984,  2705,  5905, ...,     0,     0,     0],\n",
       "         [  615,   568,   159, ...,     0,     0,     0],\n",
       "         ...,\n",
       "         [   52,    10,  1442, ...,   412,  3685,   788],\n",
       "         [ 5240, 10089, 21272, ...,  1134,   825,  9078],\n",
       "         [ 2974,  4724,  2499, ...,   819,   901,   371]], dtype=int32),\n",
       "  array([0, 4, 2, 0, 2, 0, 0, 4, 0, 4, 0, 0, 0, 2, 4, 2, 2, 4, 1, 4, 4, 4,\n",
       "         2, 3, 0, 0, 0, 4, 0, 0, 1, 4])),\n",
       " (array([[  790,  9820, 13198, ...,     0,     0,     0],\n",
       "         [ 1845,   771,    18, ...,     0,     0,     0],\n",
       "         [ 2267,  1010,   557, ...,     0,     0,     0],\n",
       "         ...,\n",
       "         [  328,   429,  2904, ...,  3271,   120,     0],\n",
       "         [ 1160,     6,  1213, ...,    48,    70,     1],\n",
       "         [ 7265,   581, 19188, ...,   837,  1600,   633]], dtype=int32),\n",
       "  array([4, 1, 3, 2, 3, 0, 4, 0, 2, 2, 0, 0, 2, 1, 0, 2, 4, 1, 4, 0, 0, 1,\n",
       "         4, 0, 2, 0, 4, 4, 4, 0, 4, 3])),\n",
       " (array([[ 7300,  1442,   531, ...,     0,     0,     0],\n",
       "         [  438,   610,  4603, ...,     0,     0,     0],\n",
       "         [  149,  4824,    52, ...,     0,     0,     0],\n",
       "         ...,\n",
       "         [ 3055,  8127,   999, ...,   324,   632,  3948],\n",
       "         [  837, 14077,  1810, ...,  3321,  2373,  5385],\n",
       "         [ 1855,  5114,   585, ...,  2048, 25395, 25396]], dtype=int32),\n",
       "  array([0, 2, 0, 4, 4, 0, 4, 1, 3, 1, 0, 2, 0, 0, 4, 1, 1, 2, 2, 0, 4, 0,\n",
       "         3, 0, 0, 2, 3, 0, 0, 4, 2, 1])),\n",
       " (array([[  218,   168,  1232, ...,     0,     0,     0],\n",
       "         [ 3446,  1879,    18, ...,     0,     0,     0],\n",
       "         [ 3993, 12622,   366, ...,     0,     0,     0],\n",
       "         ...,\n",
       "         [ 8961,  3758,  1772, ...,  1070,  2180,  7618],\n",
       "         [   95,   543, 10024, ...,    14,   432,    15],\n",
       "         [   59,   867,    52, ...,  3448,   434,    43]], dtype=int32),\n",
       "  array([4, 0, 3, 4, 0, 4, 0, 0, 0, 2, 0, 2, 2, 4, 4, 4, 1, 0, 2, 2, 0, 1,\n",
       "         2, 2, 1, 3, 1, 0, 2, 1, 0, 0])),\n",
       " (array([[   59, 26608,   716, ...,     0,     0,     0],\n",
       "         [   95,   474,  3348, ...,     0,     0,     0],\n",
       "         [ 2107,  2897,  3346, ...,     0,     0,     0],\n",
       "         ...,\n",
       "         [   59, 12430,  1442, ...,   228,   732,     0],\n",
       "         [   80,  1883,  1306, ...,    75,  1732,     0],\n",
       "         [ 1177,   837,   495, ...,     6,  2986,  1006]], dtype=int32),\n",
       "  array([0, 0, 4, 4, 0, 0, 3, 0, 2, 0, 1, 2, 2, 2, 4, 3, 0, 0, 0, 3, 4, 3,\n",
       "         0, 0, 1, 0, 0, 2, 4, 0, 1, 4])),\n",
       " (array([[ 1513,    46,   326, ...,     0,     0,     0],\n",
       "         [    7,  3646,  2853, ...,     0,     0,     0],\n",
       "         [ 5621,   540,    36, ...,     0,     0,     0],\n",
       "         ...,\n",
       "         [ 3364,  1658,   134, ...,  7326,   257,    17],\n",
       "         [ 2678, 11391,  4445, ...,  1549,  2590,   102],\n",
       "         [ 4892,  6471,   940, ...,   445,   105,   521]], dtype=int32),\n",
       "  array([4, 4, 4, 4, 4, 2, 0, 0, 4, 2, 0, 0, 0, 4, 0, 0, 4, 2, 0, 2, 0, 0,\n",
       "         4, 2, 0, 0, 0, 2, 3, 1, 0, 4])),\n",
       " (array([[2787, 2337, 2078, ...,    0,    0,    0],\n",
       "         [3126,  103,  383, ...,    0,    0,    0],\n",
       "         [ 426, 1204,  542, ...,    0,    0,    0],\n",
       "         ...,\n",
       "         [1033,  253,  294, ...,   15,  202,    0],\n",
       "         [ 639, 8566, 2267, ...,   76,  290,    0],\n",
       "         [  18,   13,  119, ..., 1413,  144, 2084]], dtype=int32),\n",
       "  array([3, 0, 4, 1, 3, 4, 4, 1, 4, 1, 4, 2, 0, 3, 0, 1, 1, 3, 3, 0, 4, 0,\n",
       "         0, 4, 4, 2, 0, 0, 0, 0, 3, 4])),\n",
       " (array([[  429,   854,  6628, ...,     0,     0,     0],\n",
       "         [  322,   402, 12588, ...,     0,     0,     0],\n",
       "         [  997,   847,    73, ...,     0,     0,     0],\n",
       "         ...,\n",
       "         [  739,  3965,  2274, ...,  2246,   375,     0],\n",
       "         [   52,   110, 13530, ...,     6,  2493,    16],\n",
       "         [  134,   316,  2065, ...,   747,  2089,   285]], dtype=int32),\n",
       "  array([0, 0, 4, 0, 0, 4, 3, 1, 0, 0, 4, 2, 0, 4, 0, 0, 1, 4, 1, 4, 4, 0,\n",
       "         4, 0, 3, 1, 2, 0, 0, 0, 0, 0])),\n",
       " (array([[   59, 13239,  1550, ...,     0,     0,     0],\n",
       "         [ 2346, 19102,  2897, ...,     0,     0,     0],\n",
       "         [   59, 13239,  1550, ...,     0,     0,     0],\n",
       "         ...,\n",
       "         [   81,    84,  1664, ...,   114,  4235,     0],\n",
       "         [ 6551,  1713,  2348, ...,   480, 13305,   168],\n",
       "         [  362,  2523,   159, ...,  3198,  4219,  1803]], dtype=int32),\n",
       "  array([0, 4, 0, 4, 3, 0, 4, 0, 0, 1, 1, 3, 4, 4, 1, 4, 2, 2, 4, 2, 0, 4,\n",
       "         3, 0, 4, 4, 4, 4, 0, 4, 3, 4])),\n",
       " (array([[ 429, 1866, 2059, ...,    0,    0,    0],\n",
       "         [1065, 7393, 1646, ...,    0,    0,    0],\n",
       "         [1469, 1249, 1556, ...,    0,    0,    0],\n",
       "         ...,\n",
       "         [2436, 2291,  689, ...,  982, 3690, 7052],\n",
       "         [ 882,   42, 1290, ...,  923, 1064,  205],\n",
       "         [ 882,   42, 1290, ...,  923, 1064,  205]], dtype=int32),\n",
       "  array([0, 2, 4, 4, 1, 4, 3, 0, 1, 3, 3, 3, 4, 1, 0, 3, 2, 2, 4, 1, 0, 4,\n",
       "         1, 0, 2, 4, 2, 3, 0, 4, 4, 4])),\n",
       " (array([[  867,    28,   689, ...,     0,     0,     0],\n",
       "         [   95, 19985,   104, ...,     0,     0,     0],\n",
       "         [  716,   331,  3415, ...,     0,     0,     0],\n",
       "         ...,\n",
       "         [  319,     5,    41, ...,  1031,     0,     0],\n",
       "         [ 1795,    28,  1650, ...,  3878,   156,     0],\n",
       "         [  191,  7504,   190, ...,  2286, 17402,  3180]], dtype=int32),\n",
       "  array([4, 0, 2, 0, 4, 0, 0, 4, 4, 3, 0, 0, 1, 0, 4, 1, 1, 1, 2, 4, 1, 2,\n",
       "         3, 4, 4, 4, 2, 4, 1, 4, 3, 4])),\n",
       " (array([[  155,  2744,   118, ...,     0,     0,     0],\n",
       "         [   28,   314,  1292, ...,     0,     0,     0],\n",
       "         [  996,  1411,    11, ...,     0,     0,     0],\n",
       "         ...,\n",
       "         [ 1748,  3262,  3792, ...,   181,     0,     0],\n",
       "         [   47,   640,  1434, ...,  4031,     0,     0],\n",
       "         [   10,   438, 11251, ...,  1150,  1218,   379]], dtype=int32),\n",
       "  array([4, 3, 1, 1, 0, 1, 0, 4, 4, 1, 0, 4, 4, 4, 0, 1, 4, 4, 4, 0, 4, 0,\n",
       "         4, 4, 4, 4, 3, 4, 0, 1, 1, 2])),\n",
       " (array([[3576,  509, 5514, ...,    0,    0,    0],\n",
       "         [  51,  115, 2065, ...,    0,    0,    0],\n",
       "         [  84,  143, 1155, ...,    0,    0,    0],\n",
       "         ...,\n",
       "         [ 126,  432,   51, ..., 9258,    0,    0],\n",
       "         [ 162,  340,  407, ..., 1278,  830,    0],\n",
       "         [ 135, 1216, 4156, ..., 1253,  199,  363]], dtype=int32),\n",
       "  array([3, 4, 4, 4, 0, 1, 3, 0, 4, 1, 2, 4, 4, 1, 4, 2, 4, 1, 4, 4, 2, 0,\n",
       "         4, 0, 4, 4, 1, 4, 1, 4, 4, 2])),\n",
       " (array([[   73,  1315,   313, ...,     0,     0,     0],\n",
       "         [   84,   143,   144, ...,     0,     0,     0],\n",
       "         [   95,  1334, 22004, ...,     0,     0,     0],\n",
       "         ...,\n",
       "         [11468,   331,  1089, ...,     0,     0,     0],\n",
       "         [ 1641,   493,  2884, ...,     0,     0,     0],\n",
       "         [ 4374,  1003, 12212, ...,   334,   871,   265]], dtype=int32),\n",
       "  array([4, 4, 0, 2, 4, 4, 4, 2, 2, 4, 4, 4, 1, 4, 3, 4, 4, 4, 1, 2, 2, 1,\n",
       "         1, 4, 4, 4, 4, 4, 4, 2, 2, 4])),\n",
       " (array([[ 6138,  2962,  1969, ...,     0,     0,     0],\n",
       "         [  296,    39, 12395, ...,     0,     0,     0],\n",
       "         [ 3456,    13,   187, ...,     0,     0,     0],\n",
       "         ...,\n",
       "         [ 1187,   197, 19609, ...,     0,     0,     0],\n",
       "         [ 1464,  2264,   426, ...,     0,     0,     0],\n",
       "         [    6,  1768,  2152, ...,  1456,  1461,   994]], dtype=int32),\n",
       "  array([4, 4, 4, 4, 2, 1, 4, 4, 0, 4, 1, 1, 4, 4, 4, 4, 2, 4, 0, 2, 4, 2,\n",
       "         4, 4, 4, 0, 4, 0, 1, 3, 4, 4]))]"
      ]
     },
     "execution_count": 38,
     "metadata": {},
     "output_type": "execute_result"
    }
   ],
   "source": [
    "[i for i in train_generator()]"
   ]
  },
  {
   "cell_type": "markdown",
   "id": "auburn-walter",
   "metadata": {},
   "source": [
    "Строим модель"
   ]
  },
  {
   "cell_type": "code",
   "execution_count": 82,
   "id": "czech-vehicle",
   "metadata": {},
   "outputs": [
    {
     "name": "stdout",
     "output_type": "stream",
     "text": [
      "Model: \"sequential_6\"\n",
      "_________________________________________________________________\n",
      "Layer (type)                 Output Shape              Param #   \n",
      "=================================================================\n",
      "embedding_6 (Embedding)      (None, 2213, 40)          1299440   \n",
      "_________________________________________________________________\n",
      "bidirectional_1 (Bidirection (None, 80)                25920     \n",
      "_________________________________________________________________\n",
      "dense_6 (Dense)              (None, 5)                 405       \n",
      "=================================================================\n",
      "Total params: 1,325,765\n",
      "Trainable params: 1,325,765\n",
      "Non-trainable params: 0\n",
      "_________________________________________________________________\n"
     ]
    }
   ],
   "source": [
    "import keras\n",
    "from keras import backend as K\n",
    "from keras.optimizers import Adam\n",
    "from keras.metrics import categorical_crossentropy\n",
    "from keras.preprocessing import image\n",
    "from keras.models import Model,Sequential\n",
    "from keras.layers import Dense,LSTM,Embedding,Bidirectional\n",
    "\n",
    "numFeatures = 40 # число признаков (число входов LSTM)\n",
    "numHidden   = 40 # число скрытых блоков LSTM\n",
    "numClasses  = desc.shape[0] # число итоговых классов\n",
    "vocabSize   = len(word_index) + 1 # размер словаря (количество слов)\n",
    "#inputLength = X.shape[1]\n",
    "\n",
    "model = Sequential() # строим модель на основе стека слоев\n",
    "model.add(Embedding(vocabSize, numFeatures, input_length=max_len))# перекодируем целочисленный код слова в вектор признаков\n",
    "model.add(Bidirectional(LSTM(numHidden, return_sequences=False)))# возвращает одно значение, а не последовательность\n",
    "model.add(Dense(numClasses, activation='softmax'))\n",
    "\n",
    "model.summary()"
   ]
  },
  {
   "cell_type": "code",
   "execution_count": 83,
   "id": "essential-writer",
   "metadata": {},
   "outputs": [],
   "source": [
    "from sklearn.model_selection import train_test_split\n",
    "\n",
    "X_train, X_test, Y_train, Y_test = train_test_split(X,Y, test_size = 0.10, random_state = 42)"
   ]
  },
  {
   "cell_type": "code",
   "execution_count": 87,
   "id": "major-jurisdiction",
   "metadata": {},
   "outputs": [
    {
     "data": {
      "text/plain": [
       "(2002, 2213)"
      ]
     },
     "execution_count": 87,
     "metadata": {},
     "output_type": "execute_result"
    }
   ],
   "source": [
    "X_train.shape"
   ]
  },
  {
   "cell_type": "code",
   "execution_count": 86,
   "id": "fossil-revelation",
   "metadata": {},
   "outputs": [
    {
     "data": {
      "text/plain": [
       "(223, 2213)"
      ]
     },
     "execution_count": 86,
     "metadata": {},
     "output_type": "execute_result"
    }
   ],
   "source": [
    "X_test.shape"
   ]
  },
  {
   "cell_type": "markdown",
   "id": "after-password",
   "metadata": {},
   "source": [
    "Обучаем"
   ]
  },
  {
   "cell_type": "code",
   "execution_count": 88,
   "id": "acquired-institution",
   "metadata": {},
   "outputs": [
    {
     "name": "stdout",
     "output_type": "stream",
     "text": [
      "Epoch 1/5\n",
      "63/63 [==============================] - 13s 179ms/step - loss: 1.5778 - accuracy: 0.2330\n",
      "Epoch 2/5\n",
      "63/63 [==============================] - 12s 185ms/step - loss: 1.1227 - accuracy: 0.5040\n",
      "Epoch 3/5\n",
      "63/63 [==============================] - 12s 186ms/step - loss: 0.8025 - accuracy: 0.7679\n",
      "Epoch 4/5\n",
      "63/63 [==============================] - 12s 185ms/step - loss: 0.4077 - accuracy: 0.9297\n",
      "Epoch 5/5\n",
      "63/63 [==============================] - 12s 187ms/step - loss: 0.1796 - accuracy: 0.9878\n"
     ]
    }
   ],
   "source": [
    "model.compile(loss='sparse_categorical_crossentropy', optimizer='adam', metrics=['accuracy'])\n",
    "history = model.fit(\n",
    "    X_train,\n",
    "    Y_train,\n",
    "    shuffle=False,\n",
    "    epochs=5,\n",
    "    batch_size=32\n",
    ")"
   ]
  },
  {
   "cell_type": "code",
   "execution_count": 92,
   "id": "british-charm",
   "metadata": {},
   "outputs": [
    {
     "data": {
      "image/png": "[encoded data removed]",
      "text/plain": [
       "<Figure size 432x288 with 2 Axes>"
      ]
     },
     "metadata": {
      "needs_background": "light"
     },
     "output_type": "display_data"
    }
   ],
   "source": [
    "import matplotlib.pyplot as plt\n",
    "\n",
    "plt.subplot(2, 1, 1)\n",
    "plt.plot(history.history['accuracy'])\n",
    "#plt.plot(history.history['val_accuracy'])\n",
    "plt.title('Model accuracy')\n",
    "plt.ylabel('Accuracy')\n",
    "plt.xlabel('Epoch')\n",
    "plt.legend(['Train', 'Test'], loc='upper left')\n",
    "\n",
    "plt.subplot(2, 1, 2)\n",
    "plt.plot(history.history['loss'])\n",
    "#plt.plot(history.history['val_loss'])\n",
    "plt.title('Model loss')\n",
    "plt.ylabel('Loss')\n",
    "plt.xlabel('Epoch')\n",
    "plt.legend(['Train', 'Test'], loc='upper left')\n",
    "\n",
    "plt.show()"
   ]
  },
  {
   "cell_type": "code",
   "execution_count": 93,
   "id": "multiple-baseline",
   "metadata": {},
   "outputs": [
    {
     "name": "stdout",
     "output_type": "stream",
     "text": [
      "7/7 [==============================] - 1s 83ms/step - loss: 0.2111 - accuracy: 0.9596\n"
     ]
    },
    {
     "data": {
      "text/plain": [
       "0.9596412777900696"
      ]
     },
     "execution_count": 93,
     "metadata": {},
     "output_type": "execute_result"
    }
   ],
   "source": [
    "_, accuracy = model.evaluate(X_test, Y_test)\n",
    "accuracy"
   ]
  },
  {
   "cell_type": "markdown",
   "id": "military-gibson",
   "metadata": {},
   "source": [
    "### Задание 2"
   ]
  },
  {
   "cell_type": "markdown",
   "id": "delayed-kernel",
   "metadata": {},
   "source": [
    "Загружаем данные NASA"
   ]
  },
  {
   "cell_type": "code",
   "execution_count": 99,
   "id": "designed-interference",
   "metadata": {},
   "outputs": [
    {
     "name": "stdout",
     "output_type": "stream",
     "text": [
      "  % Total    % Received % Xferd  Average Speed   Time    Time     Time  Current\n",
      "                                 Dload  Upload   Total   Spent    Left  Speed\n",
      "100 11.8M  100 11.8M    0     0  1035k      0  0:00:11  0:00:11 --:--:-- 1310k\n"
     ]
    }
   ],
   "source": [
    "!curl https://ti.arc.nasa.gov/m/project/prognostic-repository/CMAPSSData.zip -o CMAPSSData.zip"
   ]
  },
  {
   "cell_type": "code",
   "execution_count": 103,
   "id": "greatest-sunset",
   "metadata": {},
   "outputs": [
    {
     "name": "stdout",
     "output_type": "stream",
     "text": [
      "Archive:  CMAPSSData.zip\n",
      "  inflating: CMAPSSData/Damage Propagation Modeling.pdf  \n",
      "  inflating: CMAPSSData/readme.txt   \n",
      "  inflating: CMAPSSData/RUL_FD001.txt  \n",
      "  inflating: CMAPSSData/RUL_FD002.txt  \n",
      "  inflating: CMAPSSData/RUL_FD003.txt  \n",
      "  inflating: CMAPSSData/RUL_FD004.txt  \n",
      "  inflating: CMAPSSData/test_FD001.txt  \n",
      "  inflating: CMAPSSData/test_FD002.txt  \n",
      "  inflating: CMAPSSData/test_FD003.txt  \n",
      "  inflating: CMAPSSData/test_FD004.txt  \n",
      "  inflating: CMAPSSData/train_FD001.txt  \n",
      "  inflating: CMAPSSData/train_FD002.txt  \n",
      "  inflating: CMAPSSData/train_FD003.txt  \n",
      "  inflating: CMAPSSData/train_FD004.txt  \n"
     ]
    }
   ],
   "source": [
    "!unzip CMAPSSData.zip -d CMAPSSData/"
   ]
  },
  {
   "cell_type": "code",
   "execution_count": 289,
   "id": "incomplete-amplifier",
   "metadata": {},
   "outputs": [
    {
     "name": "stdout",
     "output_type": "stream",
     "text": [
      "Data Set: FD001\r\n",
      "Train trjectories: 100\r\n",
      "Test trajectories: 100\r\n",
      "Conditions: ONE (Sea Level)\r\n",
      "Fault Modes: ONE (HPC Degradation)\r\n",
      "\r\n",
      "Data Set: FD002\r\n",
      "Train trjectories: 260\r\n",
      "Test trajectories: 259\r\n",
      "Conditions: SIX \r\n",
      "Fault Modes: ONE (HPC Degradation)\r\n",
      "\r\n",
      "Data Set: FD003\r\n",
      "Train trjectories: 100\r\n",
      "Test trajectories: 100\r\n",
      "Conditions: ONE (Sea Level)\r\n",
      "Fault Modes: TWO (HPC Degradation, Fan Degradation)\r\n",
      "\r\n",
      "Data Set: FD004\r\n",
      "Train trjectories: 248\r\n",
      "Test trajectories: 249\r\n",
      "Conditions: SIX \r\n",
      "Fault Modes: TWO (HPC Degradation, Fan Degradation)\r\n",
      "\r\n",
      "\r\n",
      "\r\n",
      "Experimental Scenario\r\n",
      "\r\n",
      "Data sets consists of multiple multivariate time series. Each data set is further divided into training and test subsets. Each time series is from a different engine � i.e., the data can be considered to be from a fleet of engines of the same type. Each engine starts with different degrees of initial wear and manufacturing variation which is unknown to the user. This wear and variation is considered normal, i.e., it is not considered a fault condition. There are three operational settings that have a substantial effect on engine performance. These settings are also included in the data. The data is contaminated with sensor noise.\r\n",
      "\r\n",
      "The engine is operating normally at the start of each time series, and develops a fault at some point during the series. In the training set, the fault grows in magnitude until system failure. In the test set, the time series ends some time prior to system failure. The objective of the competition is to predict the number of remaining operational cycles before failure in the test set, i.e., the number of operational cycles after the last cycle that the engine will continue to operate. Also provided a vector of true Remaining Useful Life (RUL) values for the test data.\r\n",
      "\r\n",
      "The data are provided as a zip-compressed text file with 26 columns of numbers, separated by spaces. Each row is a snapshot of data taken during a single operational cycle, each column is a different variable. The columns correspond to:\r\n",
      "1)\tunit number\r\n",
      "2)\ttime, in cycles\r\n",
      "3)\toperational setting 1\r\n",
      "4)\toperational setting 2\r\n",
      "5)\toperational setting 3\r\n",
      "6)\tsensor measurement  1\r\n",
      "7)\tsensor measurement  2\r\n",
      "...\r\n",
      "26)\tsensor measurement  26\r\n",
      "\r\n",
      "\r\n",
      "Reference: A. Saxena, K. Goebel, D. Simon, and N. Eklund, �Damage Propagation Modeling for Aircraft Engine Run-to-Failure Simulation�, in the Proceedings of the Ist International Conference on Prognostics and Health Management (PHM08), Denver CO, Oct 2008.\r\n"
     ]
    }
   ],
   "source": [
    "!cat CMAPSSData/readme.txt"
   ]
  },
  {
   "cell_type": "markdown",
   "id": "owned-civilization",
   "metadata": {},
   "source": [
    "Проверяем структуру данных"
   ]
  },
  {
   "cell_type": "code",
   "execution_count": 619,
   "id": "confident-comfort",
   "metadata": {},
   "outputs": [
    {
     "name": "stdout",
     "output_type": "stream",
     "text": [
      "1 1 0.0023 0.0003 100.0 518.67 643.02 1585.29 1398.21 14.62 21.61 553.90 2388.04 9050.17 1.30 47.20 521.72 2388.03 8125.55 8.4052 0.03 392 2388 100.00 38.86 23.3735  \r\n",
      "1 2 -0.0027 -0.0003 100.0 518.67 641.71 1588.45 1395.42 14.62 21.61 554.85 2388.01 9054.42 1.30 47.50 522.16 2388.06 8139.62 8.3803 0.03 393 2388 100.00 39.02 23.3916  \r\n",
      "1 3 0.0003 0.0001 100.0 518.67 642.46 1586.94 1401.34 14.62 21.61 554.11 2388.05 9056.96 1.30 47.50 521.97 2388.03 8130.10 8.4441 0.03 393 2388 100.00 39.08 23.4166  \r\n"
     ]
    }
   ],
   "source": [
    "!head CMAPSSData/test_FD001.txt -n 3"
   ]
  },
  {
   "cell_type": "code",
   "execution_count": 620,
   "id": "amateur-whale",
   "metadata": {},
   "outputs": [
    {
     "name": "stdout",
     "output_type": "stream",
     "text": [
      "112 \r\n",
      "98 \r\n",
      "69 \r\n"
     ]
    }
   ],
   "source": [
    "!head CMAPSSData/RUL_FD001.txt -n 3"
   ]
  },
  {
   "cell_type": "markdown",
   "id": "african-leisure",
   "metadata": {},
   "source": [
    "Предобрабатываем данные"
   ]
  },
  {
   "cell_type": "code",
   "execution_count": 629,
   "id": "functioning-bracket",
   "metadata": {},
   "outputs": [],
   "source": [
    "import pandas as pd\n",
    "\n",
    "train_FD001 = pd.read_csv('CMAPSSData/train_FD001.txt', header=None, delim_whitespace=True)\n",
    "test_FD001 = pd.read_csv('CMAPSSData/test_FD001.txt', header=None, delim_whitespace=True)\n",
    "test_RUL_FD001 = pd.read_csv('CMAPSSData/RUL_FD001.txt', header=None, delim_whitespace=True)"
   ]
  },
  {
   "cell_type": "code",
   "execution_count": 630,
   "id": "large-buffer",
   "metadata": {},
   "outputs": [
    {
     "data": {
      "text/html": [
       "<div>\n",
       "<style scoped>\n",
       "    .dataframe tbody tr th:only-of-type {\n",
       "        vertical-align: middle;\n",
       "    }\n",
       "\n",
       "    .dataframe tbody tr th {\n",
       "        vertical-align: top;\n",
       "    }\n",
       "\n",
       "    .dataframe thead th {\n",
       "        text-align: right;\n",
       "    }\n",
       "</style>\n",
       "<table border=\"1\" class=\"dataframe\">\n",
       "  <thead>\n",
       "    <tr style=\"text-align: right;\">\n",
       "      <th></th>\n",
       "      <th>0</th>\n",
       "      <th>1</th>\n",
       "      <th>2</th>\n",
       "      <th>3</th>\n",
       "      <th>4</th>\n",
       "      <th>5</th>\n",
       "      <th>6</th>\n",
       "      <th>7</th>\n",
       "      <th>8</th>\n",
       "      <th>9</th>\n",
       "      <th>...</th>\n",
       "      <th>16</th>\n",
       "      <th>17</th>\n",
       "      <th>18</th>\n",
       "      <th>19</th>\n",
       "      <th>20</th>\n",
       "      <th>21</th>\n",
       "      <th>22</th>\n",
       "      <th>23</th>\n",
       "      <th>24</th>\n",
       "      <th>25</th>\n",
       "    </tr>\n",
       "  </thead>\n",
       "  <tbody>\n",
       "    <tr>\n",
       "      <th>0</th>\n",
       "      <td>1</td>\n",
       "      <td>1</td>\n",
       "      <td>-0.0007</td>\n",
       "      <td>-0.0004</td>\n",
       "      <td>100.0</td>\n",
       "      <td>518.67</td>\n",
       "      <td>641.82</td>\n",
       "      <td>1589.70</td>\n",
       "      <td>1400.60</td>\n",
       "      <td>14.62</td>\n",
       "      <td>...</td>\n",
       "      <td>521.66</td>\n",
       "      <td>2388.02</td>\n",
       "      <td>8138.62</td>\n",
       "      <td>8.4195</td>\n",
       "      <td>0.03</td>\n",
       "      <td>392</td>\n",
       "      <td>2388</td>\n",
       "      <td>100.0</td>\n",
       "      <td>39.06</td>\n",
       "      <td>23.4190</td>\n",
       "    </tr>\n",
       "    <tr>\n",
       "      <th>1</th>\n",
       "      <td>1</td>\n",
       "      <td>2</td>\n",
       "      <td>0.0019</td>\n",
       "      <td>-0.0003</td>\n",
       "      <td>100.0</td>\n",
       "      <td>518.67</td>\n",
       "      <td>642.15</td>\n",
       "      <td>1591.82</td>\n",
       "      <td>1403.14</td>\n",
       "      <td>14.62</td>\n",
       "      <td>...</td>\n",
       "      <td>522.28</td>\n",
       "      <td>2388.07</td>\n",
       "      <td>8131.49</td>\n",
       "      <td>8.4318</td>\n",
       "      <td>0.03</td>\n",
       "      <td>392</td>\n",
       "      <td>2388</td>\n",
       "      <td>100.0</td>\n",
       "      <td>39.00</td>\n",
       "      <td>23.4236</td>\n",
       "    </tr>\n",
       "    <tr>\n",
       "      <th>2</th>\n",
       "      <td>1</td>\n",
       "      <td>3</td>\n",
       "      <td>-0.0043</td>\n",
       "      <td>0.0003</td>\n",
       "      <td>100.0</td>\n",
       "      <td>518.67</td>\n",
       "      <td>642.35</td>\n",
       "      <td>1587.99</td>\n",
       "      <td>1404.20</td>\n",
       "      <td>14.62</td>\n",
       "      <td>...</td>\n",
       "      <td>522.42</td>\n",
       "      <td>2388.03</td>\n",
       "      <td>8133.23</td>\n",
       "      <td>8.4178</td>\n",
       "      <td>0.03</td>\n",
       "      <td>390</td>\n",
       "      <td>2388</td>\n",
       "      <td>100.0</td>\n",
       "      <td>38.95</td>\n",
       "      <td>23.3442</td>\n",
       "    </tr>\n",
       "    <tr>\n",
       "      <th>3</th>\n",
       "      <td>1</td>\n",
       "      <td>4</td>\n",
       "      <td>0.0007</td>\n",
       "      <td>0.0000</td>\n",
       "      <td>100.0</td>\n",
       "      <td>518.67</td>\n",
       "      <td>642.35</td>\n",
       "      <td>1582.79</td>\n",
       "      <td>1401.87</td>\n",
       "      <td>14.62</td>\n",
       "      <td>...</td>\n",
       "      <td>522.86</td>\n",
       "      <td>2388.08</td>\n",
       "      <td>8133.83</td>\n",
       "      <td>8.3682</td>\n",
       "      <td>0.03</td>\n",
       "      <td>392</td>\n",
       "      <td>2388</td>\n",
       "      <td>100.0</td>\n",
       "      <td>38.88</td>\n",
       "      <td>23.3739</td>\n",
       "    </tr>\n",
       "    <tr>\n",
       "      <th>4</th>\n",
       "      <td>1</td>\n",
       "      <td>5</td>\n",
       "      <td>-0.0019</td>\n",
       "      <td>-0.0002</td>\n",
       "      <td>100.0</td>\n",
       "      <td>518.67</td>\n",
       "      <td>642.37</td>\n",
       "      <td>1582.85</td>\n",
       "      <td>1406.22</td>\n",
       "      <td>14.62</td>\n",
       "      <td>...</td>\n",
       "      <td>522.19</td>\n",
       "      <td>2388.04</td>\n",
       "      <td>8133.80</td>\n",
       "      <td>8.4294</td>\n",
       "      <td>0.03</td>\n",
       "      <td>393</td>\n",
       "      <td>2388</td>\n",
       "      <td>100.0</td>\n",
       "      <td>38.90</td>\n",
       "      <td>23.4044</td>\n",
       "    </tr>\n",
       "    <tr>\n",
       "      <th>...</th>\n",
       "      <td>...</td>\n",
       "      <td>...</td>\n",
       "      <td>...</td>\n",
       "      <td>...</td>\n",
       "      <td>...</td>\n",
       "      <td>...</td>\n",
       "      <td>...</td>\n",
       "      <td>...</td>\n",
       "      <td>...</td>\n",
       "      <td>...</td>\n",
       "      <td>...</td>\n",
       "      <td>...</td>\n",
       "      <td>...</td>\n",
       "      <td>...</td>\n",
       "      <td>...</td>\n",
       "      <td>...</td>\n",
       "      <td>...</td>\n",
       "      <td>...</td>\n",
       "      <td>...</td>\n",
       "      <td>...</td>\n",
       "      <td>...</td>\n",
       "    </tr>\n",
       "    <tr>\n",
       "      <th>20626</th>\n",
       "      <td>100</td>\n",
       "      <td>196</td>\n",
       "      <td>-0.0004</td>\n",
       "      <td>-0.0003</td>\n",
       "      <td>100.0</td>\n",
       "      <td>518.67</td>\n",
       "      <td>643.49</td>\n",
       "      <td>1597.98</td>\n",
       "      <td>1428.63</td>\n",
       "      <td>14.62</td>\n",
       "      <td>...</td>\n",
       "      <td>519.49</td>\n",
       "      <td>2388.26</td>\n",
       "      <td>8137.60</td>\n",
       "      <td>8.4956</td>\n",
       "      <td>0.03</td>\n",
       "      <td>397</td>\n",
       "      <td>2388</td>\n",
       "      <td>100.0</td>\n",
       "      <td>38.49</td>\n",
       "      <td>22.9735</td>\n",
       "    </tr>\n",
       "    <tr>\n",
       "      <th>20627</th>\n",
       "      <td>100</td>\n",
       "      <td>197</td>\n",
       "      <td>-0.0016</td>\n",
       "      <td>-0.0005</td>\n",
       "      <td>100.0</td>\n",
       "      <td>518.67</td>\n",
       "      <td>643.54</td>\n",
       "      <td>1604.50</td>\n",
       "      <td>1433.58</td>\n",
       "      <td>14.62</td>\n",
       "      <td>...</td>\n",
       "      <td>519.68</td>\n",
       "      <td>2388.22</td>\n",
       "      <td>8136.50</td>\n",
       "      <td>8.5139</td>\n",
       "      <td>0.03</td>\n",
       "      <td>395</td>\n",
       "      <td>2388</td>\n",
       "      <td>100.0</td>\n",
       "      <td>38.30</td>\n",
       "      <td>23.1594</td>\n",
       "    </tr>\n",
       "    <tr>\n",
       "      <th>20628</th>\n",
       "      <td>100</td>\n",
       "      <td>198</td>\n",
       "      <td>0.0004</td>\n",
       "      <td>0.0000</td>\n",
       "      <td>100.0</td>\n",
       "      <td>518.67</td>\n",
       "      <td>643.42</td>\n",
       "      <td>1602.46</td>\n",
       "      <td>1428.18</td>\n",
       "      <td>14.62</td>\n",
       "      <td>...</td>\n",
       "      <td>520.01</td>\n",
       "      <td>2388.24</td>\n",
       "      <td>8141.05</td>\n",
       "      <td>8.5646</td>\n",
       "      <td>0.03</td>\n",
       "      <td>398</td>\n",
       "      <td>2388</td>\n",
       "      <td>100.0</td>\n",
       "      <td>38.44</td>\n",
       "      <td>22.9333</td>\n",
       "    </tr>\n",
       "    <tr>\n",
       "      <th>20629</th>\n",
       "      <td>100</td>\n",
       "      <td>199</td>\n",
       "      <td>-0.0011</td>\n",
       "      <td>0.0003</td>\n",
       "      <td>100.0</td>\n",
       "      <td>518.67</td>\n",
       "      <td>643.23</td>\n",
       "      <td>1605.26</td>\n",
       "      <td>1426.53</td>\n",
       "      <td>14.62</td>\n",
       "      <td>...</td>\n",
       "      <td>519.67</td>\n",
       "      <td>2388.23</td>\n",
       "      <td>8139.29</td>\n",
       "      <td>8.5389</td>\n",
       "      <td>0.03</td>\n",
       "      <td>395</td>\n",
       "      <td>2388</td>\n",
       "      <td>100.0</td>\n",
       "      <td>38.29</td>\n",
       "      <td>23.0640</td>\n",
       "    </tr>\n",
       "    <tr>\n",
       "      <th>20630</th>\n",
       "      <td>100</td>\n",
       "      <td>200</td>\n",
       "      <td>-0.0032</td>\n",
       "      <td>-0.0005</td>\n",
       "      <td>100.0</td>\n",
       "      <td>518.67</td>\n",
       "      <td>643.85</td>\n",
       "      <td>1600.38</td>\n",
       "      <td>1432.14</td>\n",
       "      <td>14.62</td>\n",
       "      <td>...</td>\n",
       "      <td>519.30</td>\n",
       "      <td>2388.26</td>\n",
       "      <td>8137.33</td>\n",
       "      <td>8.5036</td>\n",
       "      <td>0.03</td>\n",
       "      <td>396</td>\n",
       "      <td>2388</td>\n",
       "      <td>100.0</td>\n",
       "      <td>38.37</td>\n",
       "      <td>23.0522</td>\n",
       "    </tr>\n",
       "  </tbody>\n",
       "</table>\n",
       "<p>20631 rows × 26 columns</p>\n",
       "</div>"
      ],
      "text/plain": [
       "        0    1       2       3      4       5       6        7        8   \\\n",
       "0        1    1 -0.0007 -0.0004  100.0  518.67  641.82  1589.70  1400.60   \n",
       "1        1    2  0.0019 -0.0003  100.0  518.67  642.15  1591.82  1403.14   \n",
       "2        1    3 -0.0043  0.0003  100.0  518.67  642.35  1587.99  1404.20   \n",
       "3        1    4  0.0007  0.0000  100.0  518.67  642.35  1582.79  1401.87   \n",
       "4        1    5 -0.0019 -0.0002  100.0  518.67  642.37  1582.85  1406.22   \n",
       "...    ...  ...     ...     ...    ...     ...     ...      ...      ...   \n",
       "20626  100  196 -0.0004 -0.0003  100.0  518.67  643.49  1597.98  1428.63   \n",
       "20627  100  197 -0.0016 -0.0005  100.0  518.67  643.54  1604.50  1433.58   \n",
       "20628  100  198  0.0004  0.0000  100.0  518.67  643.42  1602.46  1428.18   \n",
       "20629  100  199 -0.0011  0.0003  100.0  518.67  643.23  1605.26  1426.53   \n",
       "20630  100  200 -0.0032 -0.0005  100.0  518.67  643.85  1600.38  1432.14   \n",
       "\n",
       "          9   ...      16       17       18      19    20   21    22     23  \\\n",
       "0      14.62  ...  521.66  2388.02  8138.62  8.4195  0.03  392  2388  100.0   \n",
       "1      14.62  ...  522.28  2388.07  8131.49  8.4318  0.03  392  2388  100.0   \n",
       "2      14.62  ...  522.42  2388.03  8133.23  8.4178  0.03  390  2388  100.0   \n",
       "3      14.62  ...  522.86  2388.08  8133.83  8.3682  0.03  392  2388  100.0   \n",
       "4      14.62  ...  522.19  2388.04  8133.80  8.4294  0.03  393  2388  100.0   \n",
       "...      ...  ...     ...      ...      ...     ...   ...  ...   ...    ...   \n",
       "20626  14.62  ...  519.49  2388.26  8137.60  8.4956  0.03  397  2388  100.0   \n",
       "20627  14.62  ...  519.68  2388.22  8136.50  8.5139  0.03  395  2388  100.0   \n",
       "20628  14.62  ...  520.01  2388.24  8141.05  8.5646  0.03  398  2388  100.0   \n",
       "20629  14.62  ...  519.67  2388.23  8139.29  8.5389  0.03  395  2388  100.0   \n",
       "20630  14.62  ...  519.30  2388.26  8137.33  8.5036  0.03  396  2388  100.0   \n",
       "\n",
       "          24       25  \n",
       "0      39.06  23.4190  \n",
       "1      39.00  23.4236  \n",
       "2      38.95  23.3442  \n",
       "3      38.88  23.3739  \n",
       "4      38.90  23.4044  \n",
       "...      ...      ...  \n",
       "20626  38.49  22.9735  \n",
       "20627  38.30  23.1594  \n",
       "20628  38.44  22.9333  \n",
       "20629  38.29  23.0640  \n",
       "20630  38.37  23.0522  \n",
       "\n",
       "[20631 rows x 26 columns]"
      ]
     },
     "execution_count": 630,
     "metadata": {},
     "output_type": "execute_result"
    }
   ],
   "source": [
    "train_FD001"
   ]
  },
  {
   "cell_type": "code",
   "execution_count": 631,
   "id": "adaptive-austin",
   "metadata": {},
   "outputs": [
    {
     "data": {
      "text/plain": [
       "array([[192],\n",
       "       [287],\n",
       "       [179],\n",
       "       [189],\n",
       "       [269],\n",
       "       [188],\n",
       "       [259],\n",
       "       [150],\n",
       "       [201],\n",
       "       [222]])"
      ]
     },
     "execution_count": 631,
     "metadata": {},
     "output_type": "execute_result"
    }
   ],
   "source": [
    "max_cycles = train_FD001.loc[:,:1].groupby(0).max(1)\n",
    "train_RUL_FD001 = max_cycles.to_numpy()\n",
    "train_RUL_FD001[:10]"
   ]
  },
  {
   "cell_type": "code",
   "execution_count": 632,
   "id": "earlier-culture",
   "metadata": {},
   "outputs": [],
   "source": [
    "train_FD001_engine_groups = []\n",
    "\n",
    "for i, group in train_FD001.groupby(0):\n",
    "    train_FD001_engine_groups.append(group.loc[:,2:].to_numpy())\n",
    "\n",
    "train_FD001_engine_groups_padded = pad_sequences(train_FD001_engine_groups, padding=\"pre\", dtype='float32')"
   ]
  },
  {
   "cell_type": "code",
   "execution_count": 633,
   "id": "bored-immune",
   "metadata": {},
   "outputs": [],
   "source": [
    "test_FD001_engine_groups = []\n",
    "\n",
    "for i, group in test_FD001.groupby(0):\n",
    "    test_FD001_engine_groups.append(group.loc[:,2:].to_numpy())\n",
    "    \n",
    "test_FD001_engine_groups_padded = pad_sequences(test_FD001_engine_groups, padding=\"pre\", dtype='float32')"
   ]
  },
  {
   "cell_type": "code",
   "execution_count": 638,
   "id": "political-tablet",
   "metadata": {},
   "outputs": [],
   "source": [
    "import numpy as np\n",
    "from keras.preprocessing.sequence import pad_sequences\n",
    "\n",
    "def train_generator_2():\n",
    "    min_cycles = 30\n",
    "    batch_size = 40  \n",
    "    current_engine = 0\n",
    "    \n",
    "    while True: \n",
    "        current_batch_data = train_FD001_engine_groups[current_engine]\n",
    "        current_batch_data_length = current_batch_data.shape[0]\n",
    "        #batch_step = current_batch_data_length // batch_size\n",
    "        batch_len_range = [x for x in range(min_cycles, current_batch_data_length, 1)]\n",
    "        \n",
    "        x_train = []\n",
    "        y_train = []\n",
    "        for train_size in batch_len_range:\n",
    "            x_item_tmp = train_FD001_engine_groups[current_engine][0:train_size]\n",
    "            x_train.append(x_item_tmp)\n",
    "            y_train.append(train_RUL_FD001[current_engine].item() - x_item_tmp.shape[0])\n",
    "        \n",
    "        x_train = pad_sequences(x_train, maxlen=current_batch_data_length, padding=\"pre\", dtype='float32')\n",
    "        y_train = np.array(y_train)\n",
    "        \n",
    "        yield x_train, y_train\n",
    "        \n",
    "        current_engine += 1\n",
    "        if current_engine == 100:\n",
    "            current_engine = 0\n",
    "            \n",
    "def valid_generator_2():\n",
    "    current_engine = 0\n",
    "    \n",
    "    while True: \n",
    "        x_train = []\n",
    "        y_train = []\n",
    "        \n",
    "        x_train.append(test_FD001_engine_groups[current_engine])\n",
    "        y_train.append(RUL_FD001.loc[current_engine].item())\n",
    "        \n",
    "        x_train = np.asarray(x_train)\n",
    "        y_train = np.asarray(y_train)\n",
    "        \n",
    "        yield x_train, y_train\n",
    "        \n",
    "        current_engine += 1\n",
    "        if current_engine == 100:\n",
    "            current_engine = 0"
   ]
  },
  {
   "cell_type": "markdown",
   "id": "immediate-television",
   "metadata": {},
   "source": [
    "Проверяем генераторы"
   ]
  },
  {
   "cell_type": "code",
   "execution_count": 641,
   "id": "macro-order",
   "metadata": {},
   "outputs": [],
   "source": [
    "my_train_gen = train_generator_2()\n",
    "my_valid_gen = valid_generator_2()"
   ]
  },
  {
   "cell_type": "code",
   "execution_count": 647,
   "id": "illegal-failure",
   "metadata": {},
   "outputs": [
    {
     "name": "stdout",
     "output_type": "stream",
     "text": [
      "(159, 189, 24)\n",
      "(159,)\n"
     ]
    }
   ],
   "source": [
    "x_train, y_train = next(my_train_gen)\n",
    "from pprint import pprint\n",
    "pprint(x_train.shape)\n",
    "pprint(y_train.shape)"
   ]
  },
  {
   "cell_type": "code",
   "execution_count": 644,
   "id": "scheduled-headline",
   "metadata": {},
   "outputs": [
    {
     "name": "stdout",
     "output_type": "stream",
     "text": [
      "(1, 49, 24)\n",
      "(1,)\n"
     ]
    }
   ],
   "source": [
    "x_valid, y_valid = next(my_valid_gen)\n",
    "from pprint import pprint\n",
    "pprint(x_valid.shape)\n",
    "pprint(y_valid.shape)"
   ]
  },
  {
   "cell_type": "code",
   "execution_count": 674,
   "id": "featured-consortium",
   "metadata": {},
   "outputs": [
    {
     "name": "stdout",
     "output_type": "stream",
     "text": [
      "Model: \"sequential_72\"\n",
      "_________________________________________________________________\n",
      "Layer (type)                 Output Shape              Param #   \n",
      "=================================================================\n",
      "lstm_70 (LSTM)               (None, 100)               50000     \n",
      "_________________________________________________________________\n",
      "dropout_6 (Dropout)          (None, 100)               0         \n",
      "_________________________________________________________________\n",
      "batch_normalization_13 (Batc (None, 100)               400       \n",
      "_________________________________________________________________\n",
      "dense_70 (Dense)             (None, 1)                 101       \n",
      "=================================================================\n",
      "Total params: 50,501\n",
      "Trainable params: 50,301\n",
      "Non-trainable params: 200\n",
      "_________________________________________________________________\n"
     ]
    }
   ],
   "source": [
    "import keras\n",
    "from keras import backend as K\n",
    "from keras.optimizers import Adam\n",
    "from keras.metrics import categorical_crossentropy\n",
    "from keras.models import Model,Sequential\n",
    "from keras.layers import Dense,LSTM,Embedding,Bidirectional, Dropout, BatchNormalization\n",
    "\n",
    "numFeatures  = 24  # число признаков (число входов сети).\n",
    "numHiddenUnits  = 100 # число скрытых блоков \n",
    "LSTMnumResponses  = 1 # число выходов для слоя регрессии\n",
    "\n",
    "model = Sequential() # строим модель на основе стека слоев\n",
    "model.add(LSTM(numHiddenUnits, return_sequences=False, input_shape=(None, numFeatures)))\n",
    "model.add(Dropout(0.1))\n",
    "model.add(BatchNormalization())\n",
    "model.add(Dense(LSTMnumResponses))\n",
    "\n",
    "model.summary()"
   ]
  },
  {
   "cell_type": "code",
   "execution_count": 675,
   "id": "theoretical-hungarian",
   "metadata": {},
   "outputs": [
    {
     "name": "stdout",
     "output_type": "stream",
     "text": [
      "Epoch 1/100\n",
      "100/100 [==============================] - 4s 28ms/step - loss: 11657.1420 - val_loss: 7134.6738\n",
      "Epoch 2/100\n",
      "100/100 [==============================] - 2s 25ms/step - loss: 10865.9962 - val_loss: 6351.5620\n",
      "Epoch 3/100\n",
      "100/100 [==============================] - 2s 24ms/step - loss: 9416.6193 - val_loss: 5208.2109\n",
      "Epoch 4/100\n",
      "100/100 [==============================] - 2s 24ms/step - loss: 7541.0817 - val_loss: 3931.2676\n",
      "Epoch 5/100\n",
      "100/100 [==============================] - 2s 24ms/step - loss: 5650.1502 - val_loss: 2852.5510\n",
      "Epoch 6/100\n",
      "100/100 [==============================] - 2s 24ms/step - loss: 4211.1641 - val_loss: 2263.1257\n",
      "Epoch 7/100\n",
      "100/100 [==============================] - 2s 25ms/step - loss: 3039.2857 - val_loss: 1910.3746\n",
      "Epoch 8/100\n",
      "100/100 [==============================] - 2s 25ms/step - loss: 2614.0965 - val_loss: 1842.8174\n",
      "Epoch 9/100\n",
      "100/100 [==============================] - 2s 25ms/step - loss: 2086.9240 - val_loss: 1757.8025\n",
      "Epoch 10/100\n",
      "100/100 [==============================] - 2s 25ms/step - loss: 1809.7800 - val_loss: 1728.0168\n",
      "Epoch 11/100\n",
      "100/100 [==============================] - 2s 25ms/step - loss: 1617.2310 - val_loss: 1727.1099\n",
      "Epoch 12/100\n",
      "100/100 [==============================] - 2s 25ms/step - loss: 1460.5406 - val_loss: 1727.8711\n",
      "Epoch 13/100\n",
      "100/100 [==============================] - 2s 25ms/step - loss: 1320.5724 - val_loss: 1727.1396\n",
      "Epoch 14/100\n",
      "100/100 [==============================] - 2s 25ms/step - loss: 1204.9933 - val_loss: 1726.8710\n",
      "Epoch 15/100\n",
      "100/100 [==============================] - 2s 25ms/step - loss: 1102.6237 - val_loss: 1727.3733\n",
      "Epoch 16/100\n",
      "100/100 [==============================] - 2s 25ms/step - loss: 1008.7797 - val_loss: 1728.0863\n",
      "Epoch 17/100\n",
      "100/100 [==============================] - 2s 25ms/step - loss: 940.3736 - val_loss: 1729.9225\n",
      "Epoch 18/100\n",
      "100/100 [==============================] - 2s 25ms/step - loss: 879.8430 - val_loss: 1730.9402\n",
      "Epoch 19/100\n",
      "100/100 [==============================] - 2s 25ms/step - loss: 828.0832 - val_loss: 1730.4269\n"
     ]
    }
   ],
   "source": [
    "from keras.callbacks import EarlyStopping\n",
    "\n",
    "model.compile(loss='mean_squared_error', optimizer='adam')\n",
    "\n",
    "history = model.fit(\n",
    "    train_generator_2(),\n",
    "    validation_data=valid_generator_2(),\n",
    "    validation_steps=100,\n",
    "    epochs=100,\n",
    "    steps_per_epoch=100,\n",
    "    shuffle=False,\n",
    "    callbacks=[EarlyStopping(monitor='val_loss', patience=5, restore_best_weights=True)]\n",
    ")"
   ]
  },
  {
   "cell_type": "code",
   "execution_count": 669,
   "id": "limited-container",
   "metadata": {},
   "outputs": [
    {
     "data": {
      "image/png": "[encoded data removed]",
      "text/plain": [
       "<Figure size 432x288 with 1 Axes>"
      ]
     },
     "metadata": {
      "needs_background": "light"
     },
     "output_type": "display_data"
    }
   ],
   "source": [
    "import matplotlib.pyplot as plt\n",
    "\n",
    "plt.plot(history.history['loss'])\n",
    "plt.plot(history.history['val_loss'])\n",
    "plt.title('Model loss')\n",
    "plt.ylabel('Loss')\n",
    "plt.xlabel('Epoch')\n",
    "plt.legend(['Train', 'Test'], loc='upper left')\n",
    "\n",
    "plt.show()"
   ]
  },
  {
   "cell_type": "code",
   "execution_count": 676,
   "id": "ready-generator",
   "metadata": {},
   "outputs": [
    {
     "data": {
      "text/plain": [
       "<AxesSubplot:ylabel='Density'>"
      ]
     },
     "execution_count": 676,
     "metadata": {},
     "output_type": "execute_result"
    },
    {
     "data": {
      "image/png": "[encoded data removed]",
      "text/plain": [
       "<Figure size 432x288 with 1 Axes>"
      ]
     },
     "metadata": {
      "needs_background": "light"
     },
     "output_type": "display_data"
    }
   ],
   "source": [
    "predict_results = model.predict(test_FD001_engine_groups_padded)\n",
    "result_error = predict_results - RUL_FD001\n",
    "result_error.plot.kde()"
   ]
  },
  {
   "cell_type": "markdown",
   "id": "specific-parent",
   "metadata": {},
   "source": [
    "Плотность распределения ошибки"
   ]
  },
  {
   "cell_type": "code",
   "execution_count": null,
   "id": "completed-highland",
   "metadata": {},
   "outputs": [],
   "source": []
  }
 ],
 "metadata": {
  "kernelspec": {
   "display_name": "Python 3",
   "language": "python",
   "name": "python3"
  },
  "language_info": {
   "codemirror_mode": {
    "name": "ipython",
    "version": 3
   },
   "file_extension": ".py",
   "mimetype": "text/x-python",
   "name": "python",
   "nbconvert_exporter": "python",
   "pygments_lexer": "ipython3",
   "version": "3.8.7"
  }
 },
 "nbformat": 4,
 "nbformat_minor": 5
}
